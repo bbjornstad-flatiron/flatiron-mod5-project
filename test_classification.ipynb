{
 "cells": [
  {
   "cell_type": "markdown",
   "metadata": {},
   "source": [
    "# Test Classification\n",
    "----\n",
    "In this notebook we do a bit of testing on classification based on only a single feature: the Mel-frequency Cepstral Coefficients (MFCCs)"
   ]
  },
  {
   "cell_type": "code",
   "execution_count": 1,
   "metadata": {},
   "outputs": [],
   "source": [
    "import pandas as pd\n",
    "import numpy as np\n",
    "from audio_feature_extraction import BatchExtractor, FeatureVisualizer\n",
    "import seaborn as sns\n",
    "import warnings"
   ]
  },
  {
   "cell_type": "code",
   "execution_count": 2,
   "metadata": {},
   "outputs": [],
   "source": [
    "%load_ext autoreload\n",
    "%autoreload 2\n",
    "warnings.filterwarnings('ignore')"
   ]
  },
  {
   "cell_type": "code",
   "execution_count": 3,
   "metadata": {},
   "outputs": [],
   "source": [
    "bird_index = pd.read_csv('bird_index_clean.csv', index_col=0)"
   ]
  },
  {
   "cell_type": "code",
   "execution_count": 4,
   "metadata": {},
   "outputs": [
    {
     "data": {
      "text/html": [
       "<div>\n",
       "<style scoped>\n",
       "    .dataframe tbody tr th:only-of-type {\n",
       "        vertical-align: middle;\n",
       "    }\n",
       "\n",
       "    .dataframe tbody tr th {\n",
       "        vertical-align: top;\n",
       "    }\n",
       "\n",
       "    .dataframe thead th {\n",
       "        text-align: right;\n",
       "    }\n",
       "</style>\n",
       "<table border=\"1\" class=\"dataframe\">\n",
       "  <thead>\n",
       "    <tr style=\"text-align: right;\">\n",
       "      <th></th>\n",
       "      <th>english_cname</th>\n",
       "      <th>file_name</th>\n",
       "      <th>genus</th>\n",
       "      <th>species</th>\n",
       "      <th>label</th>\n",
       "    </tr>\n",
       "    <tr>\n",
       "      <th>name</th>\n",
       "      <th></th>\n",
       "      <th></th>\n",
       "      <th></th>\n",
       "      <th></th>\n",
       "      <th></th>\n",
       "    </tr>\n",
       "  </thead>\n",
       "  <tbody>\n",
       "    <tr>\n",
       "      <td>XC17804</td>\n",
       "      <td>Abert's Towhee</td>\n",
       "      <td>XC17804.mp3</td>\n",
       "      <td>Melozone</td>\n",
       "      <td>aberti</td>\n",
       "      <td>Melozone aberti</td>\n",
       "    </tr>\n",
       "    <tr>\n",
       "      <td>XC177367</td>\n",
       "      <td>Abert's Towhee</td>\n",
       "      <td>XC177367.mp3</td>\n",
       "      <td>Melozone</td>\n",
       "      <td>aberti</td>\n",
       "      <td>Melozone aberti</td>\n",
       "    </tr>\n",
       "    <tr>\n",
       "      <td>XC145505</td>\n",
       "      <td>Abert's Towhee</td>\n",
       "      <td>XC145505.mp3</td>\n",
       "      <td>Melozone</td>\n",
       "      <td>aberti</td>\n",
       "      <td>Melozone aberti</td>\n",
       "    </tr>\n",
       "    <tr>\n",
       "      <td>XC228159</td>\n",
       "      <td>Abert's Towhee</td>\n",
       "      <td>XC228159.mp3</td>\n",
       "      <td>Melozone</td>\n",
       "      <td>aberti</td>\n",
       "      <td>Melozone aberti</td>\n",
       "    </tr>\n",
       "    <tr>\n",
       "      <td>XC51313</td>\n",
       "      <td>Abert's Towhee</td>\n",
       "      <td>XC51313.mp3</td>\n",
       "      <td>Melozone</td>\n",
       "      <td>aberti</td>\n",
       "      <td>Melozone aberti</td>\n",
       "    </tr>\n",
       "    <tr>\n",
       "      <td>...</td>\n",
       "      <td>...</td>\n",
       "      <td>...</td>\n",
       "      <td>...</td>\n",
       "      <td>...</td>\n",
       "      <td>...</td>\n",
       "    </tr>\n",
       "    <tr>\n",
       "      <td>XC278880</td>\n",
       "      <td>Yellow-breasted Chat</td>\n",
       "      <td>XC278880.mp3</td>\n",
       "      <td>Icteria</td>\n",
       "      <td>virens</td>\n",
       "      <td>Icteria virens</td>\n",
       "    </tr>\n",
       "    <tr>\n",
       "      <td>XC247723</td>\n",
       "      <td>Yellow-breasted Chat</td>\n",
       "      <td>XC247723.mp3</td>\n",
       "      <td>Icteria</td>\n",
       "      <td>virens</td>\n",
       "      <td>Icteria virens</td>\n",
       "    </tr>\n",
       "    <tr>\n",
       "      <td>XC408122</td>\n",
       "      <td>Yellow-breasted Chat</td>\n",
       "      <td>XC408122.mp3</td>\n",
       "      <td>Icteria</td>\n",
       "      <td>virens</td>\n",
       "      <td>Icteria virens</td>\n",
       "    </tr>\n",
       "    <tr>\n",
       "      <td>XC315271</td>\n",
       "      <td>Yellow-breasted Chat</td>\n",
       "      <td>XC315271.mp3</td>\n",
       "      <td>Icteria</td>\n",
       "      <td>virens</td>\n",
       "      <td>Icteria virens</td>\n",
       "    </tr>\n",
       "    <tr>\n",
       "      <td>XC412925</td>\n",
       "      <td>Yellow-breasted Chat</td>\n",
       "      <td>XC412925.mp3</td>\n",
       "      <td>Icteria</td>\n",
       "      <td>virens</td>\n",
       "      <td>Icteria virens</td>\n",
       "    </tr>\n",
       "  </tbody>\n",
       "</table>\n",
       "<p>2730 rows × 5 columns</p>\n",
       "</div>"
      ],
      "text/plain": [
       "                 english_cname     file_name     genus species  \\\n",
       "name                                                             \n",
       "XC17804         Abert's Towhee   XC17804.mp3  Melozone  aberti   \n",
       "XC177367        Abert's Towhee  XC177367.mp3  Melozone  aberti   \n",
       "XC145505        Abert's Towhee  XC145505.mp3  Melozone  aberti   \n",
       "XC228159        Abert's Towhee  XC228159.mp3  Melozone  aberti   \n",
       "XC51313         Abert's Towhee   XC51313.mp3  Melozone  aberti   \n",
       "...                        ...           ...       ...     ...   \n",
       "XC278880  Yellow-breasted Chat  XC278880.mp3   Icteria  virens   \n",
       "XC247723  Yellow-breasted Chat  XC247723.mp3   Icteria  virens   \n",
       "XC408122  Yellow-breasted Chat  XC408122.mp3   Icteria  virens   \n",
       "XC315271  Yellow-breasted Chat  XC315271.mp3   Icteria  virens   \n",
       "XC412925  Yellow-breasted Chat  XC412925.mp3   Icteria  virens   \n",
       "\n",
       "                    label  \n",
       "name                       \n",
       "XC17804   Melozone aberti  \n",
       "XC177367  Melozone aberti  \n",
       "XC145505  Melozone aberti  \n",
       "XC228159  Melozone aberti  \n",
       "XC51313   Melozone aberti  \n",
       "...                   ...  \n",
       "XC278880   Icteria virens  \n",
       "XC247723   Icteria virens  \n",
       "XC408122   Icteria virens  \n",
       "XC315271   Icteria virens  \n",
       "XC412925   Icteria virens  \n",
       "\n",
       "[2730 rows x 5 columns]"
      ]
     },
     "execution_count": 4,
     "metadata": {},
     "output_type": "execute_result"
    }
   ],
   "source": [
    "bird_index"
   ]
  },
  {
   "cell_type": "code",
   "execution_count": 5,
   "metadata": {},
   "outputs": [],
   "source": [
    "rand_labels = np.random.choice(bird_index.label.unique(), 10, replace=False)"
   ]
  },
  {
   "cell_type": "code",
   "execution_count": 6,
   "metadata": {},
   "outputs": [
    {
     "data": {
      "text/plain": [
       "array(['Catherpes mexicanus', 'Myiarchus cinerascens', 'Colaptes auratus',\n",
       "       'Empidonax wrightii', 'Oreortyx pictus', 'Psaltriparus minimus',\n",
       "       'Pheucticus melanocephalus', 'Spinus psaltria',\n",
       "       'Leuconotopicus albolarvatus', 'Nucifraga columbiana'],\n",
       "      dtype=object)"
      ]
     },
     "execution_count": 6,
     "metadata": {},
     "output_type": "execute_result"
    }
   ],
   "source": [
    "rand_labels"
   ]
  },
  {
   "cell_type": "code",
   "execution_count": 7,
   "metadata": {},
   "outputs": [],
   "source": [
    "bird_index_class_sample = bird_index.loc[bird_index.label.isin(rand_labels)]"
   ]
  },
  {
   "cell_type": "code",
   "execution_count": 8,
   "metadata": {},
   "outputs": [
    {
     "data": {
      "text/html": [
       "<div>\n",
       "<style scoped>\n",
       "    .dataframe tbody tr th:only-of-type {\n",
       "        vertical-align: middle;\n",
       "    }\n",
       "\n",
       "    .dataframe tbody tr th {\n",
       "        vertical-align: top;\n",
       "    }\n",
       "\n",
       "    .dataframe thead th {\n",
       "        text-align: right;\n",
       "    }\n",
       "</style>\n",
       "<table border=\"1\" class=\"dataframe\">\n",
       "  <thead>\n",
       "    <tr style=\"text-align: right;\">\n",
       "      <th></th>\n",
       "      <th>english_cname</th>\n",
       "      <th>file_name</th>\n",
       "      <th>genus</th>\n",
       "      <th>species</th>\n",
       "      <th>label</th>\n",
       "    </tr>\n",
       "    <tr>\n",
       "      <th>name</th>\n",
       "      <th></th>\n",
       "      <th></th>\n",
       "      <th></th>\n",
       "      <th></th>\n",
       "      <th></th>\n",
       "    </tr>\n",
       "  </thead>\n",
       "  <tbody>\n",
       "    <tr>\n",
       "      <td>XC297437</td>\n",
       "      <td>American Bushtit</td>\n",
       "      <td>XC297437.mp3</td>\n",
       "      <td>Psaltriparus</td>\n",
       "      <td>minimus</td>\n",
       "      <td>Psaltriparus minimus</td>\n",
       "    </tr>\n",
       "    <tr>\n",
       "      <td>XC149395</td>\n",
       "      <td>American Bushtit</td>\n",
       "      <td>XC149395.mp3</td>\n",
       "      <td>Psaltriparus</td>\n",
       "      <td>minimus</td>\n",
       "      <td>Psaltriparus minimus</td>\n",
       "    </tr>\n",
       "    <tr>\n",
       "      <td>XC149392</td>\n",
       "      <td>American Bushtit</td>\n",
       "      <td>XC149392.mp3</td>\n",
       "      <td>Psaltriparus</td>\n",
       "      <td>minimus</td>\n",
       "      <td>Psaltriparus minimus</td>\n",
       "    </tr>\n",
       "    <tr>\n",
       "      <td>XC149402</td>\n",
       "      <td>American Bushtit</td>\n",
       "      <td>XC149402.mp3</td>\n",
       "      <td>Psaltriparus</td>\n",
       "      <td>minimus</td>\n",
       "      <td>Psaltriparus minimus</td>\n",
       "    </tr>\n",
       "    <tr>\n",
       "      <td>XC306327</td>\n",
       "      <td>American Bushtit</td>\n",
       "      <td>XC306327.mp3</td>\n",
       "      <td>Psaltriparus</td>\n",
       "      <td>minimus</td>\n",
       "      <td>Psaltriparus minimus</td>\n",
       "    </tr>\n",
       "    <tr>\n",
       "      <td>...</td>\n",
       "      <td>...</td>\n",
       "      <td>...</td>\n",
       "      <td>...</td>\n",
       "      <td>...</td>\n",
       "      <td>...</td>\n",
       "    </tr>\n",
       "    <tr>\n",
       "      <td>XC192881</td>\n",
       "      <td>White-headed Woodpecker</td>\n",
       "      <td>XC192881.mp3</td>\n",
       "      <td>Leuconotopicus</td>\n",
       "      <td>albolarvatus</td>\n",
       "      <td>Leuconotopicus albolarvatus</td>\n",
       "    </tr>\n",
       "    <tr>\n",
       "      <td>XC378272</td>\n",
       "      <td>White-headed Woodpecker</td>\n",
       "      <td>XC378272.mp3</td>\n",
       "      <td>Leuconotopicus</td>\n",
       "      <td>albolarvatus</td>\n",
       "      <td>Leuconotopicus albolarvatus</td>\n",
       "    </tr>\n",
       "    <tr>\n",
       "      <td>XC408775</td>\n",
       "      <td>White-headed Woodpecker</td>\n",
       "      <td>XC408775.mp3</td>\n",
       "      <td>Leuconotopicus</td>\n",
       "      <td>albolarvatus</td>\n",
       "      <td>Leuconotopicus albolarvatus</td>\n",
       "    </tr>\n",
       "    <tr>\n",
       "      <td>XC192578</td>\n",
       "      <td>White-headed Woodpecker</td>\n",
       "      <td>XC192578.mp3</td>\n",
       "      <td>Leuconotopicus</td>\n",
       "      <td>albolarvatus</td>\n",
       "      <td>Leuconotopicus albolarvatus</td>\n",
       "    </tr>\n",
       "    <tr>\n",
       "      <td>XC187108</td>\n",
       "      <td>White-headed Woodpecker</td>\n",
       "      <td>XC187108.mp3</td>\n",
       "      <td>Leuconotopicus</td>\n",
       "      <td>albolarvatus</td>\n",
       "      <td>Leuconotopicus albolarvatus</td>\n",
       "    </tr>\n",
       "  </tbody>\n",
       "</table>\n",
       "<p>300 rows × 5 columns</p>\n",
       "</div>"
      ],
      "text/plain": [
       "                    english_cname     file_name           genus       species  \\\n",
       "name                                                                            \n",
       "XC297437         American Bushtit  XC297437.mp3    Psaltriparus       minimus   \n",
       "XC149395         American Bushtit  XC149395.mp3    Psaltriparus       minimus   \n",
       "XC149392         American Bushtit  XC149392.mp3    Psaltriparus       minimus   \n",
       "XC149402         American Bushtit  XC149402.mp3    Psaltriparus       minimus   \n",
       "XC306327         American Bushtit  XC306327.mp3    Psaltriparus       minimus   \n",
       "...                           ...           ...             ...           ...   \n",
       "XC192881  White-headed Woodpecker  XC192881.mp3  Leuconotopicus  albolarvatus   \n",
       "XC378272  White-headed Woodpecker  XC378272.mp3  Leuconotopicus  albolarvatus   \n",
       "XC408775  White-headed Woodpecker  XC408775.mp3  Leuconotopicus  albolarvatus   \n",
       "XC192578  White-headed Woodpecker  XC192578.mp3  Leuconotopicus  albolarvatus   \n",
       "XC187108  White-headed Woodpecker  XC187108.mp3  Leuconotopicus  albolarvatus   \n",
       "\n",
       "                                label  \n",
       "name                                   \n",
       "XC297437         Psaltriparus minimus  \n",
       "XC149395         Psaltriparus minimus  \n",
       "XC149392         Psaltriparus minimus  \n",
       "XC149402         Psaltriparus minimus  \n",
       "XC306327         Psaltriparus minimus  \n",
       "...                               ...  \n",
       "XC192881  Leuconotopicus albolarvatus  \n",
       "XC378272  Leuconotopicus albolarvatus  \n",
       "XC408775  Leuconotopicus albolarvatus  \n",
       "XC192578  Leuconotopicus albolarvatus  \n",
       "XC187108  Leuconotopicus albolarvatus  \n",
       "\n",
       "[300 rows x 5 columns]"
      ]
     },
     "execution_count": 8,
     "metadata": {},
     "output_type": "execute_result"
    }
   ],
   "source": [
    "bird_index_class_sample"
   ]
  },
  {
   "cell_type": "code",
   "execution_count": 9,
   "metadata": {},
   "outputs": [
    {
     "data": {
      "text/plain": [
       "Catherpes mexicanus            30\n",
       "Pheucticus melanocephalus      30\n",
       "Oreortyx pictus                30\n",
       "Colaptes auratus               30\n",
       "Empidonax wrightii             30\n",
       "Leuconotopicus albolarvatus    30\n",
       "Nucifraga columbiana           30\n",
       "Psaltriparus minimus           30\n",
       "Myiarchus cinerascens          30\n",
       "Spinus psaltria                30\n",
       "Name: label, dtype: int64"
      ]
     },
     "execution_count": 9,
     "metadata": {},
     "output_type": "execute_result"
    }
   ],
   "source": [
    "bird_index_class_sample.label.value_counts()"
   ]
  },
  {
   "cell_type": "code",
   "execution_count": 10,
   "metadata": {},
   "outputs": [
    {
     "data": {
      "text/plain": [
       "Polioptila californica    30\n",
       "Contopus sordidulus       30\n",
       "Dryobates nuttallii       30\n",
       "Geothlypis trichas        30\n",
       "Vireo gilvus              30\n",
       "                          ..\n",
       "Troglodytes aedon         30\n",
       "Polioptila melanura       30\n",
       "Empidonax oberholseri     30\n",
       "Cyanocitta stelleri       30\n",
       "Troglodytes pacificus     30\n",
       "Name: label, Length: 91, dtype: int64"
      ]
     },
     "execution_count": 10,
     "metadata": {},
     "output_type": "execute_result"
    }
   ],
   "source": [
    "bird_index.label.value_counts().sort_values()"
   ]
  },
  {
   "cell_type": "code",
   "execution_count": 11,
   "metadata": {},
   "outputs": [],
   "source": [
    "be = BatchExtractor(frame_length=2048, audio_index=bird_index_class_sample)"
   ]
  },
  {
   "cell_type": "code",
   "execution_count": 12,
   "metadata": {},
   "outputs": [],
   "source": [
    "samp_feats_flat = be.merge_and_flatten_features(\n",
    "    ['mfcc', 'zcr', 'centroid', 'bandwidth', 'rms', 'contrast', 'flatness', 'rolloff', 'tonnetz', 'ccqt', 'cstft', 'ccens'],\n",
    "    label=True)"
   ]
  },
  {
   "cell_type": "code",
   "execution_count": 13,
   "metadata": {},
   "outputs": [
    {
     "data": {
      "text/html": [
       "<div>\n",
       "<style scoped>\n",
       "    .dataframe tbody tr th:only-of-type {\n",
       "        vertical-align: middle;\n",
       "    }\n",
       "\n",
       "    .dataframe tbody tr th {\n",
       "        vertical-align: top;\n",
       "    }\n",
       "\n",
       "    .dataframe thead th {\n",
       "        text-align: right;\n",
       "    }\n",
       "</style>\n",
       "<table border=\"1\" class=\"dataframe\">\n",
       "  <thead>\n",
       "    <tr style=\"text-align: right;\">\n",
       "      <th></th>\n",
       "      <th>mfcc_0_0</th>\n",
       "      <th>mfcc_0_1</th>\n",
       "      <th>mfcc_0_2</th>\n",
       "      <th>mfcc_0_3</th>\n",
       "      <th>mfcc_0_4</th>\n",
       "      <th>mfcc_0_5</th>\n",
       "      <th>mfcc_0_6</th>\n",
       "      <th>mfcc_0_7</th>\n",
       "      <th>mfcc_0_8</th>\n",
       "      <th>mfcc_0_9</th>\n",
       "      <th>...</th>\n",
       "      <th>ccens_11_6097</th>\n",
       "      <th>ccens_11_6098</th>\n",
       "      <th>ccens_11_6099</th>\n",
       "      <th>ccens_11_6100</th>\n",
       "      <th>ccens_11_6101</th>\n",
       "      <th>ccens_11_6102</th>\n",
       "      <th>ccens_11_6103</th>\n",
       "      <th>ccens_11_6104</th>\n",
       "      <th>ccens_11_6105</th>\n",
       "      <th>label</th>\n",
       "    </tr>\n",
       "  </thead>\n",
       "  <tbody>\n",
       "    <tr>\n",
       "      <td>XC297437</td>\n",
       "      <td>-607.28530</td>\n",
       "      <td>-529.93510</td>\n",
       "      <td>-514.30286</td>\n",
       "      <td>-539.36280</td>\n",
       "      <td>-560.63654</td>\n",
       "      <td>-568.86090</td>\n",
       "      <td>-547.70390</td>\n",
       "      <td>-515.23040</td>\n",
       "      <td>-448.43597</td>\n",
       "      <td>-446.39008</td>\n",
       "      <td>...</td>\n",
       "      <td>0.0</td>\n",
       "      <td>0.0</td>\n",
       "      <td>0.0</td>\n",
       "      <td>0.0</td>\n",
       "      <td>0.0</td>\n",
       "      <td>0.0</td>\n",
       "      <td>0.0</td>\n",
       "      <td>0.0</td>\n",
       "      <td>0.0</td>\n",
       "      <td>Psaltriparus minimus</td>\n",
       "    </tr>\n",
       "    <tr>\n",
       "      <td>XC149395</td>\n",
       "      <td>-846.38074</td>\n",
       "      <td>-846.38074</td>\n",
       "      <td>-846.38074</td>\n",
       "      <td>-846.38074</td>\n",
       "      <td>-843.08560</td>\n",
       "      <td>-833.39484</td>\n",
       "      <td>-824.72420</td>\n",
       "      <td>-812.73450</td>\n",
       "      <td>-800.88470</td>\n",
       "      <td>-790.61460</td>\n",
       "      <td>...</td>\n",
       "      <td>0.0</td>\n",
       "      <td>0.0</td>\n",
       "      <td>0.0</td>\n",
       "      <td>0.0</td>\n",
       "      <td>0.0</td>\n",
       "      <td>0.0</td>\n",
       "      <td>0.0</td>\n",
       "      <td>0.0</td>\n",
       "      <td>0.0</td>\n",
       "      <td>Psaltriparus minimus</td>\n",
       "    </tr>\n",
       "    <tr>\n",
       "      <td>XC149392</td>\n",
       "      <td>-776.88290</td>\n",
       "      <td>-776.88290</td>\n",
       "      <td>-776.88290</td>\n",
       "      <td>-776.88290</td>\n",
       "      <td>-776.88290</td>\n",
       "      <td>-776.88290</td>\n",
       "      <td>-776.88290</td>\n",
       "      <td>-776.88290</td>\n",
       "      <td>-775.21640</td>\n",
       "      <td>-765.80510</td>\n",
       "      <td>...</td>\n",
       "      <td>0.0</td>\n",
       "      <td>0.0</td>\n",
       "      <td>0.0</td>\n",
       "      <td>0.0</td>\n",
       "      <td>0.0</td>\n",
       "      <td>0.0</td>\n",
       "      <td>0.0</td>\n",
       "      <td>0.0</td>\n",
       "      <td>0.0</td>\n",
       "      <td>Psaltriparus minimus</td>\n",
       "    </tr>\n",
       "    <tr>\n",
       "      <td>XC149402</td>\n",
       "      <td>-770.24896</td>\n",
       "      <td>-770.24896</td>\n",
       "      <td>-770.24896</td>\n",
       "      <td>-770.24896</td>\n",
       "      <td>-770.24896</td>\n",
       "      <td>-770.24896</td>\n",
       "      <td>-770.24896</td>\n",
       "      <td>-770.24896</td>\n",
       "      <td>-770.24896</td>\n",
       "      <td>-770.24896</td>\n",
       "      <td>...</td>\n",
       "      <td>0.0</td>\n",
       "      <td>0.0</td>\n",
       "      <td>0.0</td>\n",
       "      <td>0.0</td>\n",
       "      <td>0.0</td>\n",
       "      <td>0.0</td>\n",
       "      <td>0.0</td>\n",
       "      <td>0.0</td>\n",
       "      <td>0.0</td>\n",
       "      <td>Psaltriparus minimus</td>\n",
       "    </tr>\n",
       "    <tr>\n",
       "      <td>XC306327</td>\n",
       "      <td>-393.70218</td>\n",
       "      <td>-388.90546</td>\n",
       "      <td>-390.32043</td>\n",
       "      <td>-390.25302</td>\n",
       "      <td>-392.91364</td>\n",
       "      <td>-395.67596</td>\n",
       "      <td>-391.37497</td>\n",
       "      <td>-390.05664</td>\n",
       "      <td>-388.49655</td>\n",
       "      <td>-387.55515</td>\n",
       "      <td>...</td>\n",
       "      <td>0.0</td>\n",
       "      <td>0.0</td>\n",
       "      <td>0.0</td>\n",
       "      <td>0.0</td>\n",
       "      <td>0.0</td>\n",
       "      <td>0.0</td>\n",
       "      <td>0.0</td>\n",
       "      <td>0.0</td>\n",
       "      <td>0.0</td>\n",
       "      <td>Psaltriparus minimus</td>\n",
       "    </tr>\n",
       "    <tr>\n",
       "      <td>...</td>\n",
       "      <td>...</td>\n",
       "      <td>...</td>\n",
       "      <td>...</td>\n",
       "      <td>...</td>\n",
       "      <td>...</td>\n",
       "      <td>...</td>\n",
       "      <td>...</td>\n",
       "      <td>...</td>\n",
       "      <td>...</td>\n",
       "      <td>...</td>\n",
       "      <td>...</td>\n",
       "      <td>...</td>\n",
       "      <td>...</td>\n",
       "      <td>...</td>\n",
       "      <td>...</td>\n",
       "      <td>...</td>\n",
       "      <td>...</td>\n",
       "      <td>...</td>\n",
       "      <td>...</td>\n",
       "      <td>...</td>\n",
       "      <td>...</td>\n",
       "    </tr>\n",
       "    <tr>\n",
       "      <td>XC192881</td>\n",
       "      <td>-187.38200</td>\n",
       "      <td>-194.00514</td>\n",
       "      <td>-203.40890</td>\n",
       "      <td>-206.12488</td>\n",
       "      <td>-205.29959</td>\n",
       "      <td>-202.74712</td>\n",
       "      <td>-198.33534</td>\n",
       "      <td>-198.81146</td>\n",
       "      <td>-203.02628</td>\n",
       "      <td>-201.62569</td>\n",
       "      <td>...</td>\n",
       "      <td>0.0</td>\n",
       "      <td>0.0</td>\n",
       "      <td>0.0</td>\n",
       "      <td>0.0</td>\n",
       "      <td>0.0</td>\n",
       "      <td>0.0</td>\n",
       "      <td>0.0</td>\n",
       "      <td>0.0</td>\n",
       "      <td>0.0</td>\n",
       "      <td>Leuconotopicus albolarvatus</td>\n",
       "    </tr>\n",
       "    <tr>\n",
       "      <td>XC378272</td>\n",
       "      <td>-310.97812</td>\n",
       "      <td>-275.29852</td>\n",
       "      <td>-263.08690</td>\n",
       "      <td>-258.75473</td>\n",
       "      <td>-260.95798</td>\n",
       "      <td>-261.83575</td>\n",
       "      <td>-265.10767</td>\n",
       "      <td>-269.80313</td>\n",
       "      <td>-271.54360</td>\n",
       "      <td>-264.23760</td>\n",
       "      <td>...</td>\n",
       "      <td>0.0</td>\n",
       "      <td>0.0</td>\n",
       "      <td>0.0</td>\n",
       "      <td>0.0</td>\n",
       "      <td>0.0</td>\n",
       "      <td>0.0</td>\n",
       "      <td>0.0</td>\n",
       "      <td>0.0</td>\n",
       "      <td>0.0</td>\n",
       "      <td>Leuconotopicus albolarvatus</td>\n",
       "    </tr>\n",
       "    <tr>\n",
       "      <td>XC408775</td>\n",
       "      <td>-393.10477</td>\n",
       "      <td>-343.67120</td>\n",
       "      <td>-326.50638</td>\n",
       "      <td>-320.26240</td>\n",
       "      <td>-325.63210</td>\n",
       "      <td>-328.49298</td>\n",
       "      <td>-324.12787</td>\n",
       "      <td>-325.52222</td>\n",
       "      <td>-325.95166</td>\n",
       "      <td>-322.01642</td>\n",
       "      <td>...</td>\n",
       "      <td>0.0</td>\n",
       "      <td>0.0</td>\n",
       "      <td>0.0</td>\n",
       "      <td>0.0</td>\n",
       "      <td>0.0</td>\n",
       "      <td>0.0</td>\n",
       "      <td>0.0</td>\n",
       "      <td>0.0</td>\n",
       "      <td>0.0</td>\n",
       "      <td>Leuconotopicus albolarvatus</td>\n",
       "    </tr>\n",
       "    <tr>\n",
       "      <td>XC192578</td>\n",
       "      <td>-487.80582</td>\n",
       "      <td>-467.78040</td>\n",
       "      <td>-456.53200</td>\n",
       "      <td>-456.65890</td>\n",
       "      <td>-455.00780</td>\n",
       "      <td>-459.69632</td>\n",
       "      <td>-445.80377</td>\n",
       "      <td>-434.85263</td>\n",
       "      <td>-452.49155</td>\n",
       "      <td>-449.32062</td>\n",
       "      <td>...</td>\n",
       "      <td>0.0</td>\n",
       "      <td>0.0</td>\n",
       "      <td>0.0</td>\n",
       "      <td>0.0</td>\n",
       "      <td>0.0</td>\n",
       "      <td>0.0</td>\n",
       "      <td>0.0</td>\n",
       "      <td>0.0</td>\n",
       "      <td>0.0</td>\n",
       "      <td>Leuconotopicus albolarvatus</td>\n",
       "    </tr>\n",
       "    <tr>\n",
       "      <td>XC187108</td>\n",
       "      <td>-668.60846</td>\n",
       "      <td>-664.49030</td>\n",
       "      <td>-657.97845</td>\n",
       "      <td>-647.66907</td>\n",
       "      <td>-640.26404</td>\n",
       "      <td>-625.61950</td>\n",
       "      <td>-616.82800</td>\n",
       "      <td>-605.92620</td>\n",
       "      <td>-592.90990</td>\n",
       "      <td>-581.15050</td>\n",
       "      <td>...</td>\n",
       "      <td>0.0</td>\n",
       "      <td>0.0</td>\n",
       "      <td>0.0</td>\n",
       "      <td>0.0</td>\n",
       "      <td>0.0</td>\n",
       "      <td>0.0</td>\n",
       "      <td>0.0</td>\n",
       "      <td>0.0</td>\n",
       "      <td>0.0</td>\n",
       "      <td>Leuconotopicus albolarvatus</td>\n",
       "    </tr>\n",
       "  </tbody>\n",
       "</table>\n",
       "<p>300 rows × 457951 columns</p>\n",
       "</div>"
      ],
      "text/plain": [
       "           mfcc_0_0   mfcc_0_1   mfcc_0_2   mfcc_0_3   mfcc_0_4   mfcc_0_5  \\\n",
       "XC297437 -607.28530 -529.93510 -514.30286 -539.36280 -560.63654 -568.86090   \n",
       "XC149395 -846.38074 -846.38074 -846.38074 -846.38074 -843.08560 -833.39484   \n",
       "XC149392 -776.88290 -776.88290 -776.88290 -776.88290 -776.88290 -776.88290   \n",
       "XC149402 -770.24896 -770.24896 -770.24896 -770.24896 -770.24896 -770.24896   \n",
       "XC306327 -393.70218 -388.90546 -390.32043 -390.25302 -392.91364 -395.67596   \n",
       "...             ...        ...        ...        ...        ...        ...   \n",
       "XC192881 -187.38200 -194.00514 -203.40890 -206.12488 -205.29959 -202.74712   \n",
       "XC378272 -310.97812 -275.29852 -263.08690 -258.75473 -260.95798 -261.83575   \n",
       "XC408775 -393.10477 -343.67120 -326.50638 -320.26240 -325.63210 -328.49298   \n",
       "XC192578 -487.80582 -467.78040 -456.53200 -456.65890 -455.00780 -459.69632   \n",
       "XC187108 -668.60846 -664.49030 -657.97845 -647.66907 -640.26404 -625.61950   \n",
       "\n",
       "           mfcc_0_6   mfcc_0_7   mfcc_0_8   mfcc_0_9  ...  ccens_11_6097  \\\n",
       "XC297437 -547.70390 -515.23040 -448.43597 -446.39008  ...            0.0   \n",
       "XC149395 -824.72420 -812.73450 -800.88470 -790.61460  ...            0.0   \n",
       "XC149392 -776.88290 -776.88290 -775.21640 -765.80510  ...            0.0   \n",
       "XC149402 -770.24896 -770.24896 -770.24896 -770.24896  ...            0.0   \n",
       "XC306327 -391.37497 -390.05664 -388.49655 -387.55515  ...            0.0   \n",
       "...             ...        ...        ...        ...  ...            ...   \n",
       "XC192881 -198.33534 -198.81146 -203.02628 -201.62569  ...            0.0   \n",
       "XC378272 -265.10767 -269.80313 -271.54360 -264.23760  ...            0.0   \n",
       "XC408775 -324.12787 -325.52222 -325.95166 -322.01642  ...            0.0   \n",
       "XC192578 -445.80377 -434.85263 -452.49155 -449.32062  ...            0.0   \n",
       "XC187108 -616.82800 -605.92620 -592.90990 -581.15050  ...            0.0   \n",
       "\n",
       "          ccens_11_6098  ccens_11_6099  ccens_11_6100  ccens_11_6101  \\\n",
       "XC297437            0.0            0.0            0.0            0.0   \n",
       "XC149395            0.0            0.0            0.0            0.0   \n",
       "XC149392            0.0            0.0            0.0            0.0   \n",
       "XC149402            0.0            0.0            0.0            0.0   \n",
       "XC306327            0.0            0.0            0.0            0.0   \n",
       "...                 ...            ...            ...            ...   \n",
       "XC192881            0.0            0.0            0.0            0.0   \n",
       "XC378272            0.0            0.0            0.0            0.0   \n",
       "XC408775            0.0            0.0            0.0            0.0   \n",
       "XC192578            0.0            0.0            0.0            0.0   \n",
       "XC187108            0.0            0.0            0.0            0.0   \n",
       "\n",
       "          ccens_11_6102  ccens_11_6103  ccens_11_6104  ccens_11_6105  \\\n",
       "XC297437            0.0            0.0            0.0            0.0   \n",
       "XC149395            0.0            0.0            0.0            0.0   \n",
       "XC149392            0.0            0.0            0.0            0.0   \n",
       "XC149402            0.0            0.0            0.0            0.0   \n",
       "XC306327            0.0            0.0            0.0            0.0   \n",
       "...                 ...            ...            ...            ...   \n",
       "XC192881            0.0            0.0            0.0            0.0   \n",
       "XC378272            0.0            0.0            0.0            0.0   \n",
       "XC408775            0.0            0.0            0.0            0.0   \n",
       "XC192578            0.0            0.0            0.0            0.0   \n",
       "XC187108            0.0            0.0            0.0            0.0   \n",
       "\n",
       "                                label  \n",
       "XC297437         Psaltriparus minimus  \n",
       "XC149395         Psaltriparus minimus  \n",
       "XC149392         Psaltriparus minimus  \n",
       "XC149402         Psaltriparus minimus  \n",
       "XC306327         Psaltriparus minimus  \n",
       "...                               ...  \n",
       "XC192881  Leuconotopicus albolarvatus  \n",
       "XC378272  Leuconotopicus albolarvatus  \n",
       "XC408775  Leuconotopicus albolarvatus  \n",
       "XC192578  Leuconotopicus albolarvatus  \n",
       "XC187108  Leuconotopicus albolarvatus  \n",
       "\n",
       "[300 rows x 457951 columns]"
      ]
     },
     "execution_count": 13,
     "metadata": {},
     "output_type": "execute_result"
    }
   ],
   "source": [
    "samp_feats_flat"
   ]
  },
  {
   "cell_type": "code",
   "execution_count": 103,
   "metadata": {},
   "outputs": [],
   "source": [
    "samp_feats_flat.to_csv('test.csv')"
   ]
  },
  {
   "cell_type": "code",
   "execution_count": 14,
   "metadata": {},
   "outputs": [],
   "source": [
    "from sklearn.model_selection import train_test_split, GridSearchCV\n",
    "from sklearn.neighbors import KNeighborsClassifier"
   ]
  },
  {
   "cell_type": "code",
   "execution_count": 15,
   "metadata": {},
   "outputs": [],
   "source": [
    "from sklearn.decomposition import PCA\n",
    "from sklearn.preprocessing import StandardScaler\n",
    "from sklearn.preprocessing import LabelEncoder"
   ]
  },
  {
   "cell_type": "code",
   "execution_count": 16,
   "metadata": {},
   "outputs": [],
   "source": [
    "ss = StandardScaler()\n",
    "le = LabelEncoder()"
   ]
  },
  {
   "cell_type": "code",
   "execution_count": 17,
   "metadata": {},
   "outputs": [],
   "source": [
    "X = samp_feats_flat.iloc[:,:-1]\n",
    "y = samp_feats_flat.label"
   ]
  },
  {
   "cell_type": "code",
   "execution_count": 18,
   "metadata": {},
   "outputs": [
    {
     "data": {
      "text/html": [
       "<div>\n",
       "<style scoped>\n",
       "    .dataframe tbody tr th:only-of-type {\n",
       "        vertical-align: middle;\n",
       "    }\n",
       "\n",
       "    .dataframe tbody tr th {\n",
       "        vertical-align: top;\n",
       "    }\n",
       "\n",
       "    .dataframe thead th {\n",
       "        text-align: right;\n",
       "    }\n",
       "</style>\n",
       "<table border=\"1\" class=\"dataframe\">\n",
       "  <thead>\n",
       "    <tr style=\"text-align: right;\">\n",
       "      <th></th>\n",
       "      <th>mfcc_0_0</th>\n",
       "      <th>mfcc_0_1</th>\n",
       "      <th>mfcc_0_2</th>\n",
       "      <th>mfcc_0_3</th>\n",
       "      <th>mfcc_0_4</th>\n",
       "      <th>mfcc_0_5</th>\n",
       "      <th>mfcc_0_6</th>\n",
       "      <th>mfcc_0_7</th>\n",
       "      <th>mfcc_0_8</th>\n",
       "      <th>mfcc_0_9</th>\n",
       "      <th>...</th>\n",
       "      <th>ccens_11_6096</th>\n",
       "      <th>ccens_11_6097</th>\n",
       "      <th>ccens_11_6098</th>\n",
       "      <th>ccens_11_6099</th>\n",
       "      <th>ccens_11_6100</th>\n",
       "      <th>ccens_11_6101</th>\n",
       "      <th>ccens_11_6102</th>\n",
       "      <th>ccens_11_6103</th>\n",
       "      <th>ccens_11_6104</th>\n",
       "      <th>ccens_11_6105</th>\n",
       "    </tr>\n",
       "  </thead>\n",
       "  <tbody>\n",
       "    <tr>\n",
       "      <td>XC297437</td>\n",
       "      <td>-607.28530</td>\n",
       "      <td>-529.93510</td>\n",
       "      <td>-514.30286</td>\n",
       "      <td>-539.36280</td>\n",
       "      <td>-560.63654</td>\n",
       "      <td>-568.86090</td>\n",
       "      <td>-547.70390</td>\n",
       "      <td>-515.23040</td>\n",
       "      <td>-448.43597</td>\n",
       "      <td>-446.39008</td>\n",
       "      <td>...</td>\n",
       "      <td>0.0</td>\n",
       "      <td>0.0</td>\n",
       "      <td>0.0</td>\n",
       "      <td>0.0</td>\n",
       "      <td>0.0</td>\n",
       "      <td>0.0</td>\n",
       "      <td>0.0</td>\n",
       "      <td>0.0</td>\n",
       "      <td>0.0</td>\n",
       "      <td>0.0</td>\n",
       "    </tr>\n",
       "    <tr>\n",
       "      <td>XC149395</td>\n",
       "      <td>-846.38074</td>\n",
       "      <td>-846.38074</td>\n",
       "      <td>-846.38074</td>\n",
       "      <td>-846.38074</td>\n",
       "      <td>-843.08560</td>\n",
       "      <td>-833.39484</td>\n",
       "      <td>-824.72420</td>\n",
       "      <td>-812.73450</td>\n",
       "      <td>-800.88470</td>\n",
       "      <td>-790.61460</td>\n",
       "      <td>...</td>\n",
       "      <td>0.0</td>\n",
       "      <td>0.0</td>\n",
       "      <td>0.0</td>\n",
       "      <td>0.0</td>\n",
       "      <td>0.0</td>\n",
       "      <td>0.0</td>\n",
       "      <td>0.0</td>\n",
       "      <td>0.0</td>\n",
       "      <td>0.0</td>\n",
       "      <td>0.0</td>\n",
       "    </tr>\n",
       "    <tr>\n",
       "      <td>XC149392</td>\n",
       "      <td>-776.88290</td>\n",
       "      <td>-776.88290</td>\n",
       "      <td>-776.88290</td>\n",
       "      <td>-776.88290</td>\n",
       "      <td>-776.88290</td>\n",
       "      <td>-776.88290</td>\n",
       "      <td>-776.88290</td>\n",
       "      <td>-776.88290</td>\n",
       "      <td>-775.21640</td>\n",
       "      <td>-765.80510</td>\n",
       "      <td>...</td>\n",
       "      <td>0.0</td>\n",
       "      <td>0.0</td>\n",
       "      <td>0.0</td>\n",
       "      <td>0.0</td>\n",
       "      <td>0.0</td>\n",
       "      <td>0.0</td>\n",
       "      <td>0.0</td>\n",
       "      <td>0.0</td>\n",
       "      <td>0.0</td>\n",
       "      <td>0.0</td>\n",
       "    </tr>\n",
       "    <tr>\n",
       "      <td>XC149402</td>\n",
       "      <td>-770.24896</td>\n",
       "      <td>-770.24896</td>\n",
       "      <td>-770.24896</td>\n",
       "      <td>-770.24896</td>\n",
       "      <td>-770.24896</td>\n",
       "      <td>-770.24896</td>\n",
       "      <td>-770.24896</td>\n",
       "      <td>-770.24896</td>\n",
       "      <td>-770.24896</td>\n",
       "      <td>-770.24896</td>\n",
       "      <td>...</td>\n",
       "      <td>0.0</td>\n",
       "      <td>0.0</td>\n",
       "      <td>0.0</td>\n",
       "      <td>0.0</td>\n",
       "      <td>0.0</td>\n",
       "      <td>0.0</td>\n",
       "      <td>0.0</td>\n",
       "      <td>0.0</td>\n",
       "      <td>0.0</td>\n",
       "      <td>0.0</td>\n",
       "    </tr>\n",
       "    <tr>\n",
       "      <td>XC306327</td>\n",
       "      <td>-393.70218</td>\n",
       "      <td>-388.90546</td>\n",
       "      <td>-390.32043</td>\n",
       "      <td>-390.25302</td>\n",
       "      <td>-392.91364</td>\n",
       "      <td>-395.67596</td>\n",
       "      <td>-391.37497</td>\n",
       "      <td>-390.05664</td>\n",
       "      <td>-388.49655</td>\n",
       "      <td>-387.55515</td>\n",
       "      <td>...</td>\n",
       "      <td>0.0</td>\n",
       "      <td>0.0</td>\n",
       "      <td>0.0</td>\n",
       "      <td>0.0</td>\n",
       "      <td>0.0</td>\n",
       "      <td>0.0</td>\n",
       "      <td>0.0</td>\n",
       "      <td>0.0</td>\n",
       "      <td>0.0</td>\n",
       "      <td>0.0</td>\n",
       "    </tr>\n",
       "    <tr>\n",
       "      <td>...</td>\n",
       "      <td>...</td>\n",
       "      <td>...</td>\n",
       "      <td>...</td>\n",
       "      <td>...</td>\n",
       "      <td>...</td>\n",
       "      <td>...</td>\n",
       "      <td>...</td>\n",
       "      <td>...</td>\n",
       "      <td>...</td>\n",
       "      <td>...</td>\n",
       "      <td>...</td>\n",
       "      <td>...</td>\n",
       "      <td>...</td>\n",
       "      <td>...</td>\n",
       "      <td>...</td>\n",
       "      <td>...</td>\n",
       "      <td>...</td>\n",
       "      <td>...</td>\n",
       "      <td>...</td>\n",
       "      <td>...</td>\n",
       "      <td>...</td>\n",
       "    </tr>\n",
       "    <tr>\n",
       "      <td>XC192881</td>\n",
       "      <td>-187.38200</td>\n",
       "      <td>-194.00514</td>\n",
       "      <td>-203.40890</td>\n",
       "      <td>-206.12488</td>\n",
       "      <td>-205.29959</td>\n",
       "      <td>-202.74712</td>\n",
       "      <td>-198.33534</td>\n",
       "      <td>-198.81146</td>\n",
       "      <td>-203.02628</td>\n",
       "      <td>-201.62569</td>\n",
       "      <td>...</td>\n",
       "      <td>0.0</td>\n",
       "      <td>0.0</td>\n",
       "      <td>0.0</td>\n",
       "      <td>0.0</td>\n",
       "      <td>0.0</td>\n",
       "      <td>0.0</td>\n",
       "      <td>0.0</td>\n",
       "      <td>0.0</td>\n",
       "      <td>0.0</td>\n",
       "      <td>0.0</td>\n",
       "    </tr>\n",
       "    <tr>\n",
       "      <td>XC378272</td>\n",
       "      <td>-310.97812</td>\n",
       "      <td>-275.29852</td>\n",
       "      <td>-263.08690</td>\n",
       "      <td>-258.75473</td>\n",
       "      <td>-260.95798</td>\n",
       "      <td>-261.83575</td>\n",
       "      <td>-265.10767</td>\n",
       "      <td>-269.80313</td>\n",
       "      <td>-271.54360</td>\n",
       "      <td>-264.23760</td>\n",
       "      <td>...</td>\n",
       "      <td>0.0</td>\n",
       "      <td>0.0</td>\n",
       "      <td>0.0</td>\n",
       "      <td>0.0</td>\n",
       "      <td>0.0</td>\n",
       "      <td>0.0</td>\n",
       "      <td>0.0</td>\n",
       "      <td>0.0</td>\n",
       "      <td>0.0</td>\n",
       "      <td>0.0</td>\n",
       "    </tr>\n",
       "    <tr>\n",
       "      <td>XC408775</td>\n",
       "      <td>-393.10477</td>\n",
       "      <td>-343.67120</td>\n",
       "      <td>-326.50638</td>\n",
       "      <td>-320.26240</td>\n",
       "      <td>-325.63210</td>\n",
       "      <td>-328.49298</td>\n",
       "      <td>-324.12787</td>\n",
       "      <td>-325.52222</td>\n",
       "      <td>-325.95166</td>\n",
       "      <td>-322.01642</td>\n",
       "      <td>...</td>\n",
       "      <td>0.0</td>\n",
       "      <td>0.0</td>\n",
       "      <td>0.0</td>\n",
       "      <td>0.0</td>\n",
       "      <td>0.0</td>\n",
       "      <td>0.0</td>\n",
       "      <td>0.0</td>\n",
       "      <td>0.0</td>\n",
       "      <td>0.0</td>\n",
       "      <td>0.0</td>\n",
       "    </tr>\n",
       "    <tr>\n",
       "      <td>XC192578</td>\n",
       "      <td>-487.80582</td>\n",
       "      <td>-467.78040</td>\n",
       "      <td>-456.53200</td>\n",
       "      <td>-456.65890</td>\n",
       "      <td>-455.00780</td>\n",
       "      <td>-459.69632</td>\n",
       "      <td>-445.80377</td>\n",
       "      <td>-434.85263</td>\n",
       "      <td>-452.49155</td>\n",
       "      <td>-449.32062</td>\n",
       "      <td>...</td>\n",
       "      <td>0.0</td>\n",
       "      <td>0.0</td>\n",
       "      <td>0.0</td>\n",
       "      <td>0.0</td>\n",
       "      <td>0.0</td>\n",
       "      <td>0.0</td>\n",
       "      <td>0.0</td>\n",
       "      <td>0.0</td>\n",
       "      <td>0.0</td>\n",
       "      <td>0.0</td>\n",
       "    </tr>\n",
       "    <tr>\n",
       "      <td>XC187108</td>\n",
       "      <td>-668.60846</td>\n",
       "      <td>-664.49030</td>\n",
       "      <td>-657.97845</td>\n",
       "      <td>-647.66907</td>\n",
       "      <td>-640.26404</td>\n",
       "      <td>-625.61950</td>\n",
       "      <td>-616.82800</td>\n",
       "      <td>-605.92620</td>\n",
       "      <td>-592.90990</td>\n",
       "      <td>-581.15050</td>\n",
       "      <td>...</td>\n",
       "      <td>0.0</td>\n",
       "      <td>0.0</td>\n",
       "      <td>0.0</td>\n",
       "      <td>0.0</td>\n",
       "      <td>0.0</td>\n",
       "      <td>0.0</td>\n",
       "      <td>0.0</td>\n",
       "      <td>0.0</td>\n",
       "      <td>0.0</td>\n",
       "      <td>0.0</td>\n",
       "    </tr>\n",
       "  </tbody>\n",
       "</table>\n",
       "<p>300 rows × 457950 columns</p>\n",
       "</div>"
      ],
      "text/plain": [
       "           mfcc_0_0   mfcc_0_1   mfcc_0_2   mfcc_0_3   mfcc_0_4   mfcc_0_5  \\\n",
       "XC297437 -607.28530 -529.93510 -514.30286 -539.36280 -560.63654 -568.86090   \n",
       "XC149395 -846.38074 -846.38074 -846.38074 -846.38074 -843.08560 -833.39484   \n",
       "XC149392 -776.88290 -776.88290 -776.88290 -776.88290 -776.88290 -776.88290   \n",
       "XC149402 -770.24896 -770.24896 -770.24896 -770.24896 -770.24896 -770.24896   \n",
       "XC306327 -393.70218 -388.90546 -390.32043 -390.25302 -392.91364 -395.67596   \n",
       "...             ...        ...        ...        ...        ...        ...   \n",
       "XC192881 -187.38200 -194.00514 -203.40890 -206.12488 -205.29959 -202.74712   \n",
       "XC378272 -310.97812 -275.29852 -263.08690 -258.75473 -260.95798 -261.83575   \n",
       "XC408775 -393.10477 -343.67120 -326.50638 -320.26240 -325.63210 -328.49298   \n",
       "XC192578 -487.80582 -467.78040 -456.53200 -456.65890 -455.00780 -459.69632   \n",
       "XC187108 -668.60846 -664.49030 -657.97845 -647.66907 -640.26404 -625.61950   \n",
       "\n",
       "           mfcc_0_6   mfcc_0_7   mfcc_0_8   mfcc_0_9  ...  ccens_11_6096  \\\n",
       "XC297437 -547.70390 -515.23040 -448.43597 -446.39008  ...            0.0   \n",
       "XC149395 -824.72420 -812.73450 -800.88470 -790.61460  ...            0.0   \n",
       "XC149392 -776.88290 -776.88290 -775.21640 -765.80510  ...            0.0   \n",
       "XC149402 -770.24896 -770.24896 -770.24896 -770.24896  ...            0.0   \n",
       "XC306327 -391.37497 -390.05664 -388.49655 -387.55515  ...            0.0   \n",
       "...             ...        ...        ...        ...  ...            ...   \n",
       "XC192881 -198.33534 -198.81146 -203.02628 -201.62569  ...            0.0   \n",
       "XC378272 -265.10767 -269.80313 -271.54360 -264.23760  ...            0.0   \n",
       "XC408775 -324.12787 -325.52222 -325.95166 -322.01642  ...            0.0   \n",
       "XC192578 -445.80377 -434.85263 -452.49155 -449.32062  ...            0.0   \n",
       "XC187108 -616.82800 -605.92620 -592.90990 -581.15050  ...            0.0   \n",
       "\n",
       "          ccens_11_6097  ccens_11_6098  ccens_11_6099  ccens_11_6100  \\\n",
       "XC297437            0.0            0.0            0.0            0.0   \n",
       "XC149395            0.0            0.0            0.0            0.0   \n",
       "XC149392            0.0            0.0            0.0            0.0   \n",
       "XC149402            0.0            0.0            0.0            0.0   \n",
       "XC306327            0.0            0.0            0.0            0.0   \n",
       "...                 ...            ...            ...            ...   \n",
       "XC192881            0.0            0.0            0.0            0.0   \n",
       "XC378272            0.0            0.0            0.0            0.0   \n",
       "XC408775            0.0            0.0            0.0            0.0   \n",
       "XC192578            0.0            0.0            0.0            0.0   \n",
       "XC187108            0.0            0.0            0.0            0.0   \n",
       "\n",
       "          ccens_11_6101  ccens_11_6102  ccens_11_6103  ccens_11_6104  \\\n",
       "XC297437            0.0            0.0            0.0            0.0   \n",
       "XC149395            0.0            0.0            0.0            0.0   \n",
       "XC149392            0.0            0.0            0.0            0.0   \n",
       "XC149402            0.0            0.0            0.0            0.0   \n",
       "XC306327            0.0            0.0            0.0            0.0   \n",
       "...                 ...            ...            ...            ...   \n",
       "XC192881            0.0            0.0            0.0            0.0   \n",
       "XC378272            0.0            0.0            0.0            0.0   \n",
       "XC408775            0.0            0.0            0.0            0.0   \n",
       "XC192578            0.0            0.0            0.0            0.0   \n",
       "XC187108            0.0            0.0            0.0            0.0   \n",
       "\n",
       "          ccens_11_6105  \n",
       "XC297437            0.0  \n",
       "XC149395            0.0  \n",
       "XC149392            0.0  \n",
       "XC149402            0.0  \n",
       "XC306327            0.0  \n",
       "...                 ...  \n",
       "XC192881            0.0  \n",
       "XC378272            0.0  \n",
       "XC408775            0.0  \n",
       "XC192578            0.0  \n",
       "XC187108            0.0  \n",
       "\n",
       "[300 rows x 457950 columns]"
      ]
     },
     "execution_count": 18,
     "metadata": {},
     "output_type": "execute_result"
    }
   ],
   "source": [
    "X"
   ]
  },
  {
   "cell_type": "code",
   "execution_count": 19,
   "metadata": {},
   "outputs": [
    {
     "data": {
      "text/plain": [
       "array([8, 8, 8, 8, 8, 8, 8, 8, 8, 8, 8, 8, 8, 8, 8, 8, 8, 8, 8, 8, 8, 8,\n",
       "       8, 8, 8, 8, 8, 8, 8, 8, 2, 2, 2, 2, 2, 2, 2, 2, 2, 2, 2, 2, 2, 2,\n",
       "       2, 2, 2, 2, 2, 2, 2, 2, 2, 2, 2, 2, 2, 2, 2, 2, 4, 4, 4, 4, 4, 4,\n",
       "       4, 4, 4, 4, 4, 4, 4, 4, 4, 4, 4, 4, 4, 4, 4, 4, 4, 4, 4, 4, 4, 4,\n",
       "       4, 4, 7, 7, 7, 7, 7, 7, 7, 7, 7, 7, 7, 7, 7, 7, 7, 7, 7, 7, 7, 7,\n",
       "       7, 7, 7, 7, 7, 7, 7, 7, 7, 7, 0, 0, 0, 0, 0, 0, 0, 0, 0, 0, 0, 0,\n",
       "       0, 0, 0, 0, 0, 0, 0, 0, 0, 0, 0, 0, 0, 0, 0, 0, 0, 0, 5, 5, 5, 5,\n",
       "       5, 5, 5, 5, 5, 5, 5, 5, 5, 5, 5, 5, 5, 5, 5, 5, 5, 5, 5, 5, 5, 5,\n",
       "       5, 5, 5, 5, 9, 9, 9, 9, 9, 9, 9, 9, 9, 9, 9, 9, 9, 9, 9, 9, 9, 9,\n",
       "       9, 9, 9, 9, 9, 9, 9, 9, 9, 9, 9, 9, 6, 6, 6, 6, 6, 6, 6, 6, 6, 6,\n",
       "       6, 6, 6, 6, 6, 6, 6, 6, 6, 6, 6, 6, 6, 6, 6, 6, 6, 6, 6, 6, 1, 1,\n",
       "       1, 1, 1, 1, 1, 1, 1, 1, 1, 1, 1, 1, 1, 1, 1, 1, 1, 1, 1, 1, 1, 1,\n",
       "       1, 1, 1, 1, 1, 1, 3, 3, 3, 3, 3, 3, 3, 3, 3, 3, 3, 3, 3, 3, 3, 3,\n",
       "       3, 3, 3, 3, 3, 3, 3, 3, 3, 3, 3, 3, 3, 3])"
      ]
     },
     "execution_count": 19,
     "metadata": {},
     "output_type": "execute_result"
    }
   ],
   "source": [
    "y_encoded = le.fit_transform(y)\n",
    "y_encoded"
   ]
  },
  {
   "cell_type": "code",
   "execution_count": 48,
   "metadata": {},
   "outputs": [],
   "source": [
    "x_train, x_val, y_train, y_val = train_test_split(X, y_encoded, test_size=0.1)"
   ]
  },
  {
   "cell_type": "code",
   "execution_count": 49,
   "metadata": {},
   "outputs": [],
   "source": [
    "x_train_std = ss.fit_transform(x_train)\n",
    "x_val_std = ss.transform(x_val)"
   ]
  },
  {
   "cell_type": "code",
   "execution_count": 50,
   "metadata": {},
   "outputs": [
    {
     "data": {
      "text/plain": [
       "(270, 457950)"
      ]
     },
     "execution_count": 50,
     "metadata": {},
     "output_type": "execute_result"
    }
   ],
   "source": [
    "x_train_std.shape"
   ]
  },
  {
   "cell_type": "code",
   "execution_count": 51,
   "metadata": {},
   "outputs": [],
   "source": [
    "pca = PCA(n_components=100)"
   ]
  },
  {
   "cell_type": "code",
   "execution_count": 52,
   "metadata": {},
   "outputs": [],
   "source": [
    "x_train_pca = pca.fit_transform(x_train_std)\n",
    "x_val_pca = pca.transform(x_val_std)"
   ]
  },
  {
   "cell_type": "code",
   "execution_count": 53,
   "metadata": {},
   "outputs": [],
   "source": [
    "knn = KNeighborsClassifier(n_neighbors=30)"
   ]
  },
  {
   "cell_type": "code",
   "execution_count": 54,
   "metadata": {},
   "outputs": [
    {
     "data": {
      "text/plain": [
       "KNeighborsClassifier(algorithm='auto', leaf_size=30, metric='minkowski',\n",
       "                     metric_params=None, n_jobs=None, n_neighbors=30, p=2,\n",
       "                     weights='uniform')"
      ]
     },
     "execution_count": 54,
     "metadata": {},
     "output_type": "execute_result"
    }
   ],
   "source": [
    "knn.fit(x_train_pca, y_train)"
   ]
  },
  {
   "cell_type": "code",
   "execution_count": 55,
   "metadata": {},
   "outputs": [
    {
     "data": {
      "text/plain": [
       "0.21481481481481482"
      ]
     },
     "execution_count": 55,
     "metadata": {},
     "output_type": "execute_result"
    }
   ],
   "source": [
    "knn.score(x_train_pca, y_train)"
   ]
  },
  {
   "cell_type": "code",
   "execution_count": 56,
   "metadata": {},
   "outputs": [],
   "source": [
    "from sklearn.naive_bayes import GaussianNB"
   ]
  },
  {
   "cell_type": "code",
   "execution_count": 57,
   "metadata": {},
   "outputs": [],
   "source": [
    "gnb = GaussianNB()"
   ]
  },
  {
   "cell_type": "code",
   "execution_count": 58,
   "metadata": {},
   "outputs": [
    {
     "data": {
      "text/plain": [
       "GaussianNB(priors=None, var_smoothing=1e-09)"
      ]
     },
     "execution_count": 58,
     "metadata": {},
     "output_type": "execute_result"
    }
   ],
   "source": [
    "gnb.fit(x_train_pca, y_train)"
   ]
  },
  {
   "cell_type": "code",
   "execution_count": 59,
   "metadata": {},
   "outputs": [
    {
     "data": {
      "text/plain": [
       "0.4444444444444444"
      ]
     },
     "execution_count": 59,
     "metadata": {},
     "output_type": "execute_result"
    }
   ],
   "source": [
    "gnb.score(x_train_pca, y_train)"
   ]
  },
  {
   "cell_type": "code",
   "execution_count": 60,
   "metadata": {},
   "outputs": [
    {
     "data": {
      "text/plain": [
       "0.26666666666666666"
      ]
     },
     "execution_count": 60,
     "metadata": {},
     "output_type": "execute_result"
    }
   ],
   "source": [
    "gnb.score(x_val_pca, y_val)"
   ]
  },
  {
   "cell_type": "code",
   "execution_count": 61,
   "metadata": {},
   "outputs": [
    {
     "data": {
      "text/plain": [
       "GaussianNB(priors=None, var_smoothing=1e-09)"
      ]
     },
     "execution_count": 61,
     "metadata": {},
     "output_type": "execute_result"
    }
   ],
   "source": [
    "gnb.fit(x_train, y_train)"
   ]
  },
  {
   "cell_type": "code",
   "execution_count": 62,
   "metadata": {},
   "outputs": [
    {
     "data": {
      "text/plain": [
       "0.24444444444444444"
      ]
     },
     "execution_count": 62,
     "metadata": {},
     "output_type": "execute_result"
    }
   ],
   "source": [
    "gnb.score(x_train, y_train)"
   ]
  },
  {
   "cell_type": "code",
   "execution_count": 63,
   "metadata": {},
   "outputs": [],
   "source": [
    "from sklearn.ensemble import RandomForestClassifier"
   ]
  },
  {
   "cell_type": "code",
   "execution_count": 64,
   "metadata": {},
   "outputs": [],
   "source": [
    "rfc = RandomForestClassifier(n_estimators=50, max_depth=2)"
   ]
  },
  {
   "cell_type": "code",
   "execution_count": 65,
   "metadata": {},
   "outputs": [
    {
     "data": {
      "text/plain": [
       "RandomForestClassifier(bootstrap=True, class_weight=None, criterion='gini',\n",
       "                       max_depth=2, max_features='auto', max_leaf_nodes=None,\n",
       "                       min_impurity_decrease=0.0, min_impurity_split=None,\n",
       "                       min_samples_leaf=1, min_samples_split=2,\n",
       "                       min_weight_fraction_leaf=0.0, n_estimators=50,\n",
       "                       n_jobs=None, oob_score=False, random_state=None,\n",
       "                       verbose=0, warm_start=False)"
      ]
     },
     "execution_count": 65,
     "metadata": {},
     "output_type": "execute_result"
    }
   ],
   "source": [
    "rfc.fit(x_train_pca, y_train)"
   ]
  },
  {
   "cell_type": "code",
   "execution_count": 66,
   "metadata": {},
   "outputs": [
    {
     "data": {
      "text/plain": [
       "0.5666666666666667"
      ]
     },
     "execution_count": 66,
     "metadata": {},
     "output_type": "execute_result"
    }
   ],
   "source": [
    "rfc.score(x_train_pca, y_train)"
   ]
  },
  {
   "cell_type": "code",
   "execution_count": 67,
   "metadata": {},
   "outputs": [
    {
     "data": {
      "text/plain": [
       "0.1"
      ]
     },
     "execution_count": 67,
     "metadata": {},
     "output_type": "execute_result"
    }
   ],
   "source": [
    "rfc.score(x_val_pca, y_val)"
   ]
  },
  {
   "cell_type": "code",
   "execution_count": 68,
   "metadata": {},
   "outputs": [],
   "source": [
    "rfc = RandomForestClassifier()"
   ]
  },
  {
   "cell_type": "code",
   "execution_count": 69,
   "metadata": {},
   "outputs": [
    {
     "data": {
      "text/plain": [
       "{'bootstrap': True,\n",
       " 'class_weight': None,\n",
       " 'criterion': 'gini',\n",
       " 'max_depth': None,\n",
       " 'max_features': 'auto',\n",
       " 'max_leaf_nodes': None,\n",
       " 'min_impurity_decrease': 0.0,\n",
       " 'min_impurity_split': None,\n",
       " 'min_samples_leaf': 1,\n",
       " 'min_samples_split': 2,\n",
       " 'min_weight_fraction_leaf': 0.0,\n",
       " 'n_estimators': 'warn',\n",
       " 'n_jobs': None,\n",
       " 'oob_score': False,\n",
       " 'random_state': None,\n",
       " 'verbose': 0,\n",
       " 'warm_start': False}"
      ]
     },
     "execution_count": 69,
     "metadata": {},
     "output_type": "execute_result"
    }
   ],
   "source": [
    "rfc.get_params()"
   ]
  },
  {
   "cell_type": "code",
   "execution_count": 70,
   "metadata": {},
   "outputs": [],
   "source": [
    "param_grid = {'criterion': ['gini', 'entropy'],\n",
    "             'max_depth': np.arange(2, 22, 2),\n",
    "             'n_estimators': np.arange(10, 110, 10)}"
   ]
  },
  {
   "cell_type": "code",
   "execution_count": 71,
   "metadata": {},
   "outputs": [],
   "source": [
    "rfs_gs = GridSearchCV(rfc, param_grid, cv=3, scoring='precision_micro')"
   ]
  },
  {
   "cell_type": "code",
   "execution_count": 72,
   "metadata": {},
   "outputs": [
    {
     "data": {
      "text/plain": [
       "GridSearchCV(cv=3, error_score='raise-deprecating',\n",
       "             estimator=RandomForestClassifier(bootstrap=True, class_weight=None,\n",
       "                                              criterion='gini', max_depth=None,\n",
       "                                              max_features='auto',\n",
       "                                              max_leaf_nodes=None,\n",
       "                                              min_impurity_decrease=0.0,\n",
       "                                              min_impurity_split=None,\n",
       "                                              min_samples_leaf=1,\n",
       "                                              min_samples_split=2,\n",
       "                                              min_weight_fraction_leaf=0.0,\n",
       "                                              n_estimators='warn', n_jobs=None,\n",
       "                                              oob_score=False,\n",
       "                                              random_state=None, verbose=0,\n",
       "                                              warm_start=False),\n",
       "             iid='warn', n_jobs=None,\n",
       "             param_grid={'criterion': ['gini', 'entropy'],\n",
       "                         'max_depth': array([ 2,  4,  6,  8, 10, 12, 14, 16, 18, 20]),\n",
       "                         'n_estimators': array([ 10,  20,  30,  40,  50,  60,  70,  80,  90, 100])},\n",
       "             pre_dispatch='2*n_jobs', refit=True, return_train_score=False,\n",
       "             scoring='precision_micro', verbose=0)"
      ]
     },
     "execution_count": 72,
     "metadata": {},
     "output_type": "execute_result"
    }
   ],
   "source": [
    "rfs_gs.fit(x_train_pca, y_train)"
   ]
  },
  {
   "cell_type": "code",
   "execution_count": 73,
   "metadata": {},
   "outputs": [
    {
     "data": {
      "text/plain": [
       "0.2851851851851852"
      ]
     },
     "execution_count": 73,
     "metadata": {},
     "output_type": "execute_result"
    }
   ],
   "source": [
    "rfs_gs.best_score_"
   ]
  },
  {
   "cell_type": "code",
   "execution_count": 74,
   "metadata": {},
   "outputs": [
    {
     "data": {
      "text/plain": [
       "RandomForestClassifier(bootstrap=True, class_weight=None, criterion='gini',\n",
       "                       max_depth=10, max_features='auto', max_leaf_nodes=None,\n",
       "                       min_impurity_decrease=0.0, min_impurity_split=None,\n",
       "                       min_samples_leaf=1, min_samples_split=2,\n",
       "                       min_weight_fraction_leaf=0.0, n_estimators=100,\n",
       "                       n_jobs=None, oob_score=False, random_state=None,\n",
       "                       verbose=0, warm_start=False)"
      ]
     },
     "execution_count": 74,
     "metadata": {},
     "output_type": "execute_result"
    }
   ],
   "source": [
    "rfs_gs.best_estimator_"
   ]
  },
  {
   "cell_type": "code",
   "execution_count": 75,
   "metadata": {},
   "outputs": [],
   "source": [
    "from sklearn.ensemble import GradientBoostingClassifier"
   ]
  },
  {
   "cell_type": "code",
   "execution_count": 76,
   "metadata": {},
   "outputs": [],
   "source": [
    "gbc = GradientBoostingClassifier()"
   ]
  },
  {
   "cell_type": "code",
   "execution_count": 77,
   "metadata": {},
   "outputs": [
    {
     "data": {
      "text/plain": [
       "{'criterion': 'friedman_mse',\n",
       " 'init': None,\n",
       " 'learning_rate': 0.1,\n",
       " 'loss': 'deviance',\n",
       " 'max_depth': 3,\n",
       " 'max_features': None,\n",
       " 'max_leaf_nodes': None,\n",
       " 'min_impurity_decrease': 0.0,\n",
       " 'min_impurity_split': None,\n",
       " 'min_samples_leaf': 1,\n",
       " 'min_samples_split': 2,\n",
       " 'min_weight_fraction_leaf': 0.0,\n",
       " 'n_estimators': 100,\n",
       " 'n_iter_no_change': None,\n",
       " 'presort': 'auto',\n",
       " 'random_state': None,\n",
       " 'subsample': 1.0,\n",
       " 'tol': 0.0001,\n",
       " 'validation_fraction': 0.1,\n",
       " 'verbose': 0,\n",
       " 'warm_start': False}"
      ]
     },
     "execution_count": 77,
     "metadata": {},
     "output_type": "execute_result"
    }
   ],
   "source": [
    "gbc.get_params()"
   ]
  },
  {
   "cell_type": "code",
   "execution_count": 81,
   "metadata": {},
   "outputs": [],
   "source": [
    "param_grid = {'learning_rate': 10**np.arange(-3.0, 4.0, 1.0),\n",
    "             'max_depth': np.arange(2, 22, 2),\n",
    "             'n_estimators': np.arange(100, 1000, 100)}"
   ]
  },
  {
   "cell_type": "code",
   "execution_count": 82,
   "metadata": {},
   "outputs": [],
   "source": [
    "gbc_gs = GridSearchCV(gbc, param_grid, n_jobs=-1, scoring='f1_macro', cv=3)"
   ]
  },
  {
   "cell_type": "code",
   "execution_count": 83,
   "metadata": {},
   "outputs": [
    {
     "data": {
      "text/plain": [
       "GridSearchCV(cv=3, error_score='raise-deprecating',\n",
       "             estimator=GradientBoostingClassifier(criterion='friedman_mse',\n",
       "                                                  init=None, learning_rate=0.1,\n",
       "                                                  loss='deviance', max_depth=3,\n",
       "                                                  max_features=None,\n",
       "                                                  max_leaf_nodes=None,\n",
       "                                                  min_impurity_decrease=0.0,\n",
       "                                                  min_impurity_split=None,\n",
       "                                                  min_samples_leaf=1,\n",
       "                                                  min_samples_split=2,\n",
       "                                                  min_weight_fraction_leaf=0.0,\n",
       "                                                  n_estimators=100,\n",
       "                                                  n_iter_no...\n",
       "                                                  validation_fraction=0.1,\n",
       "                                                  verbose=0, warm_start=False),\n",
       "             iid='warn', n_jobs=-1,\n",
       "             param_grid={'learning_rate': array([1.e-03, 1.e-02, 1.e-01, 1.e+00, 1.e+01, 1.e+02, 1.e+03]),\n",
       "                         'max_depth': array([ 2,  4,  6,  8, 10, 12, 14, 16, 18, 20]),\n",
       "                         'n_estimators': array([100, 200, 300, 400, 500, 600, 700, 800, 900])},\n",
       "             pre_dispatch='2*n_jobs', refit=True, return_train_score=False,\n",
       "             scoring='f1_macro', verbose=0)"
      ]
     },
     "execution_count": 83,
     "metadata": {},
     "output_type": "execute_result"
    }
   ],
   "source": [
    "gbc_gs.fit(x_train_pca, y_train)"
   ]
  },
  {
   "cell_type": "code",
   "execution_count": 84,
   "metadata": {},
   "outputs": [
    {
     "data": {
      "text/plain": [
       "0.19835554408483022"
      ]
     },
     "execution_count": 84,
     "metadata": {},
     "output_type": "execute_result"
    }
   ],
   "source": [
    "gbc_gs.best_score_"
   ]
  },
  {
   "cell_type": "code",
   "execution_count": 86,
   "metadata": {},
   "outputs": [],
   "source": [
    "gbc_best = gbc_gs.best_estimator_"
   ]
  },
  {
   "cell_type": "code",
   "execution_count": 87,
   "metadata": {},
   "outputs": [
    {
     "data": {
      "text/plain": [
       "1.0"
      ]
     },
     "execution_count": 87,
     "metadata": {},
     "output_type": "execute_result"
    }
   ],
   "source": [
    "gbc_best.score(x_train_pca, y_train)"
   ]
  },
  {
   "cell_type": "code",
   "execution_count": 88,
   "metadata": {},
   "outputs": [
    {
     "data": {
      "text/plain": [
       "{'criterion': 'friedman_mse',\n",
       " 'init': None,\n",
       " 'learning_rate': 0.1,\n",
       " 'loss': 'deviance',\n",
       " 'max_depth': 2,\n",
       " 'max_features': None,\n",
       " 'max_leaf_nodes': None,\n",
       " 'min_impurity_decrease': 0.0,\n",
       " 'min_impurity_split': None,\n",
       " 'min_samples_leaf': 1,\n",
       " 'min_samples_split': 2,\n",
       " 'min_weight_fraction_leaf': 0.0,\n",
       " 'n_estimators': 800,\n",
       " 'n_iter_no_change': None,\n",
       " 'presort': 'auto',\n",
       " 'random_state': None,\n",
       " 'subsample': 1.0,\n",
       " 'tol': 0.0001,\n",
       " 'validation_fraction': 0.1,\n",
       " 'verbose': 0,\n",
       " 'warm_start': False}"
      ]
     },
     "execution_count": 88,
     "metadata": {},
     "output_type": "execute_result"
    }
   ],
   "source": [
    "gbc_best.get_params()"
   ]
  },
  {
   "cell_type": "code",
   "execution_count": 90,
   "metadata": {},
   "outputs": [
    {
     "data": {
      "text/plain": [
       "array([0.38875311, 0.12919876, 0.0784629 , 0.04482462, 0.03734646,\n",
       "       0.02516539, 0.02160586, 0.01620496, 0.0149354 , 0.01245885,\n",
       "       0.01139058, 0.01064544, 0.00900656, 0.00756446, 0.00686735,\n",
       "       0.00610932, 0.00536389, 0.00523586, 0.00478699, 0.00464996,\n",
       "       0.00424565, 0.003725  , 0.00353396, 0.00340401, 0.0033581 ,\n",
       "       0.00327871, 0.00310748, 0.00304821, 0.0028048 , 0.00268843,\n",
       "       0.00259532, 0.00248125, 0.00237747, 0.00230681, 0.00218606,\n",
       "       0.00215324, 0.00203418, 0.00194829, 0.00190713, 0.00181181,\n",
       "       0.0017767 , 0.00171049, 0.00169206, 0.00161792, 0.00159995,\n",
       "       0.00144714, 0.00140914, 0.00139069, 0.00134359, 0.00133465,\n",
       "       0.00128817, 0.00125408, 0.00121231, 0.00119298, 0.0011704 ,\n",
       "       0.00114805, 0.00112274, 0.00110825, 0.00107651, 0.00106398,\n",
       "       0.00105306, 0.00102846, 0.00101039, 0.00099301, 0.00098474,\n",
       "       0.00097364, 0.00094962, 0.00092954, 0.00090649, 0.00090138,\n",
       "       0.00089747, 0.00087582, 0.00086462, 0.00084436, 0.00083767,\n",
       "       0.0008268 , 0.00081331, 0.00080236, 0.00078603, 0.0007719 ,\n",
       "       0.00075452, 0.00074596, 0.00072617, 0.00071895, 0.00070626,\n",
       "       0.00070237, 0.00069749, 0.00069096, 0.00067134, 0.0006574 ,\n",
       "       0.00065561, 0.00064771, 0.00064027, 0.00062284, 0.00061455,\n",
       "       0.00060676, 0.00059121, 0.00059029, 0.00057784, 0.00057292])"
      ]
     },
     "execution_count": 90,
     "metadata": {},
     "output_type": "execute_result"
    }
   ],
   "source": [
    "pca.explained_variance_ratio_"
   ]
  },
  {
   "cell_type": "code",
   "execution_count": 98,
   "metadata": {},
   "outputs": [],
   "source": [
    "import seaborn as sns\n",
    "import matplotlib.pyplot as plt\n",
    "sns.set()"
   ]
  },
  {
   "cell_type": "code",
   "execution_count": 102,
   "metadata": {},
   "outputs": [
    {
     "data": {
      "text/plain": [
       "<matplotlib.axes._subplots.AxesSubplot at 0x1c2cfe4a90>"
      ]
     },
     "execution_count": 102,
     "metadata": {},
     "output_type": "execute_result"
    },
    {
     "data": {
      "image/png": "[encoded data removed]",
      "text/plain": [
       "<Figure size 1296x720 with 1 Axes>"
      ]
     },
     "metadata": {},
     "output_type": "display_data"
    }
   ],
   "source": [
    "pca_fig, pca_ax = plt.subplots(figsize=(18,10))\n",
    "sns.lineplot(data=np.cumsum(pca.explained_variance_ratio_), ax=pca_ax)"
   ]
  },
  {
   "cell_type": "code",
   "execution_count": null,
   "metadata": {},
   "outputs": [],
   "source": []
  }
 ],
 "metadata": {
  "kernelspec": {
   "display_name": "Python 3",
   "language": "python",
   "name": "python3"
  },
  "language_info": {
   "codemirror_mode": {
    "name": "ipython",
    "version": 3
   },
   "file_extension": ".py",
   "mimetype": "text/x-python",
   "name": "python",
   "nbconvert_exporter": "python",
   "pygments_lexer": "ipython3",
   "version": "3.7.4"
  }
 },
 "nbformat": 4,
 "nbformat_minor": 4
}
