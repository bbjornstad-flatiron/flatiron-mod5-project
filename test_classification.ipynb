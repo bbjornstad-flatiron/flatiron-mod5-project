{
 "cells": [
  {
   "cell_type": "markdown",
   "metadata": {},
   "source": [
    "# Test Classification\n",
    "----\n",
    "In this notebook we do a bit of testing on classification based on only a single feature: the Mel-frequency Cepstral Coefficients (MFCCs)"
   ]
  },
  {
   "cell_type": "code",
   "execution_count": 1,
   "metadata": {},
   "outputs": [],
   "source": [
    "import pandas as pd\n",
    "import numpy as np\n",
    "from audio_feature_extraction import BatchExtractor, FeatureVisualizer\n",
    "import seaborn as sns\n",
    "import warnings"
   ]
  },
  {
   "cell_type": "code",
   "execution_count": 2,
   "metadata": {},
   "outputs": [],
   "source": [
    "from sklearn.model_selection import train_test_split, GridSearchCV\n",
    "from sklearn.neighbors import KNeighborsClassifier"
   ]
  },
  {
   "cell_type": "code",
   "execution_count": 3,
   "metadata": {},
   "outputs": [],
   "source": [
    "%load_ext autoreload\n",
    "%autoreload 2\n",
    "warnings.filterwarnings('ignore')"
   ]
  },
  {
   "cell_type": "code",
   "execution_count": 4,
   "metadata": {},
   "outputs": [],
   "source": [
    "bird_index = pd.read_csv('bird_index_clean.csv', index_col=0)"
   ]
  },
  {
   "cell_type": "code",
   "execution_count": 5,
   "metadata": {},
   "outputs": [
    {
     "data": {
      "text/html": [
       "<div>\n",
       "<style scoped>\n",
       "    .dataframe tbody tr th:only-of-type {\n",
       "        vertical-align: middle;\n",
       "    }\n",
       "\n",
       "    .dataframe tbody tr th {\n",
       "        vertical-align: top;\n",
       "    }\n",
       "\n",
       "    .dataframe thead th {\n",
       "        text-align: right;\n",
       "    }\n",
       "</style>\n",
       "<table border=\"1\" class=\"dataframe\">\n",
       "  <thead>\n",
       "    <tr style=\"text-align: right;\">\n",
       "      <th></th>\n",
       "      <th>english_cname</th>\n",
       "      <th>file_name</th>\n",
       "      <th>genus</th>\n",
       "      <th>species</th>\n",
       "      <th>label</th>\n",
       "    </tr>\n",
       "    <tr>\n",
       "      <th>name</th>\n",
       "      <th></th>\n",
       "      <th></th>\n",
       "      <th></th>\n",
       "      <th></th>\n",
       "      <th></th>\n",
       "    </tr>\n",
       "  </thead>\n",
       "  <tbody>\n",
       "    <tr>\n",
       "      <td>XC17804</td>\n",
       "      <td>Abert's Towhee</td>\n",
       "      <td>XC17804.mp3</td>\n",
       "      <td>Melozone</td>\n",
       "      <td>aberti</td>\n",
       "      <td>Melozone aberti</td>\n",
       "    </tr>\n",
       "    <tr>\n",
       "      <td>XC177367</td>\n",
       "      <td>Abert's Towhee</td>\n",
       "      <td>XC177367.mp3</td>\n",
       "      <td>Melozone</td>\n",
       "      <td>aberti</td>\n",
       "      <td>Melozone aberti</td>\n",
       "    </tr>\n",
       "    <tr>\n",
       "      <td>XC145505</td>\n",
       "      <td>Abert's Towhee</td>\n",
       "      <td>XC145505.mp3</td>\n",
       "      <td>Melozone</td>\n",
       "      <td>aberti</td>\n",
       "      <td>Melozone aberti</td>\n",
       "    </tr>\n",
       "    <tr>\n",
       "      <td>XC228159</td>\n",
       "      <td>Abert's Towhee</td>\n",
       "      <td>XC228159.mp3</td>\n",
       "      <td>Melozone</td>\n",
       "      <td>aberti</td>\n",
       "      <td>Melozone aberti</td>\n",
       "    </tr>\n",
       "    <tr>\n",
       "      <td>XC51313</td>\n",
       "      <td>Abert's Towhee</td>\n",
       "      <td>XC51313.mp3</td>\n",
       "      <td>Melozone</td>\n",
       "      <td>aberti</td>\n",
       "      <td>Melozone aberti</td>\n",
       "    </tr>\n",
       "    <tr>\n",
       "      <td>...</td>\n",
       "      <td>...</td>\n",
       "      <td>...</td>\n",
       "      <td>...</td>\n",
       "      <td>...</td>\n",
       "      <td>...</td>\n",
       "    </tr>\n",
       "    <tr>\n",
       "      <td>XC278880</td>\n",
       "      <td>Yellow-breasted Chat</td>\n",
       "      <td>XC278880.mp3</td>\n",
       "      <td>Icteria</td>\n",
       "      <td>virens</td>\n",
       "      <td>Icteria virens</td>\n",
       "    </tr>\n",
       "    <tr>\n",
       "      <td>XC247723</td>\n",
       "      <td>Yellow-breasted Chat</td>\n",
       "      <td>XC247723.mp3</td>\n",
       "      <td>Icteria</td>\n",
       "      <td>virens</td>\n",
       "      <td>Icteria virens</td>\n",
       "    </tr>\n",
       "    <tr>\n",
       "      <td>XC408122</td>\n",
       "      <td>Yellow-breasted Chat</td>\n",
       "      <td>XC408122.mp3</td>\n",
       "      <td>Icteria</td>\n",
       "      <td>virens</td>\n",
       "      <td>Icteria virens</td>\n",
       "    </tr>\n",
       "    <tr>\n",
       "      <td>XC315271</td>\n",
       "      <td>Yellow-breasted Chat</td>\n",
       "      <td>XC315271.mp3</td>\n",
       "      <td>Icteria</td>\n",
       "      <td>virens</td>\n",
       "      <td>Icteria virens</td>\n",
       "    </tr>\n",
       "    <tr>\n",
       "      <td>XC412925</td>\n",
       "      <td>Yellow-breasted Chat</td>\n",
       "      <td>XC412925.mp3</td>\n",
       "      <td>Icteria</td>\n",
       "      <td>virens</td>\n",
       "      <td>Icteria virens</td>\n",
       "    </tr>\n",
       "  </tbody>\n",
       "</table>\n",
       "<p>2730 rows × 5 columns</p>\n",
       "</div>"
      ],
      "text/plain": [
       "                 english_cname     file_name     genus species  \\\n",
       "name                                                             \n",
       "XC17804         Abert's Towhee   XC17804.mp3  Melozone  aberti   \n",
       "XC177367        Abert's Towhee  XC177367.mp3  Melozone  aberti   \n",
       "XC145505        Abert's Towhee  XC145505.mp3  Melozone  aberti   \n",
       "XC228159        Abert's Towhee  XC228159.mp3  Melozone  aberti   \n",
       "XC51313         Abert's Towhee   XC51313.mp3  Melozone  aberti   \n",
       "...                        ...           ...       ...     ...   \n",
       "XC278880  Yellow-breasted Chat  XC278880.mp3   Icteria  virens   \n",
       "XC247723  Yellow-breasted Chat  XC247723.mp3   Icteria  virens   \n",
       "XC408122  Yellow-breasted Chat  XC408122.mp3   Icteria  virens   \n",
       "XC315271  Yellow-breasted Chat  XC315271.mp3   Icteria  virens   \n",
       "XC412925  Yellow-breasted Chat  XC412925.mp3   Icteria  virens   \n",
       "\n",
       "                    label  \n",
       "name                       \n",
       "XC17804   Melozone aberti  \n",
       "XC177367  Melozone aberti  \n",
       "XC145505  Melozone aberti  \n",
       "XC228159  Melozone aberti  \n",
       "XC51313   Melozone aberti  \n",
       "...                   ...  \n",
       "XC278880   Icteria virens  \n",
       "XC247723   Icteria virens  \n",
       "XC408122   Icteria virens  \n",
       "XC315271   Icteria virens  \n",
       "XC412925   Icteria virens  \n",
       "\n",
       "[2730 rows x 5 columns]"
      ]
     },
     "execution_count": 5,
     "metadata": {},
     "output_type": "execute_result"
    }
   ],
   "source": [
    "bird_index"
   ]
  },
  {
   "cell_type": "code",
   "execution_count": 6,
   "metadata": {},
   "outputs": [],
   "source": [
    "be = BatchExtractor(frame_length=2048, audio_index=bird_index)"
   ]
  },
  {
   "cell_type": "code",
   "execution_count": null,
   "metadata": {},
   "outputs": [],
   "source": [
    "mfcc_flat = be.merge_and_flatten_features(['mfcc'], label=True)"
   ]
  },
  {
   "cell_type": "code",
   "execution_count": null,
   "metadata": {},
   "outputs": [],
   "source": [
    "from sklearn.decomposition import PCA\n",
    "from sklearn.preprocessing import StandardScaler"
   ]
  }
 ],
 "metadata": {
  "kernelspec": {
   "display_name": "Python 3",
   "language": "python",
   "name": "python3"
  },
  "language_info": {
   "codemirror_mode": {
    "name": "ipython",
    "version": 3
   },
   "file_extension": ".py",
   "mimetype": "text/x-python",
   "name": "python",
   "nbconvert_exporter": "python",
   "pygments_lexer": "ipython3",
   "version": "3.7.4"
  }
 },
 "nbformat": 4,
 "nbformat_minor": 4
}
