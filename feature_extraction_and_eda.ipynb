{
 "cells": [
  {
   "cell_type": "markdown",
   "metadata": {},
   "source": [
    "# Feature Extraction and Exploratory Data Analysis\n",
    "----\n",
    "In this interactive notebook, we will handle the introductory feature extraction processing of our data, and perform some exploratory data analysis to see which features may be the most helpful in classification. We will also perform some cleaning procedures here."
   ]
  },
  {
   "cell_type": "code",
   "execution_count": 1,
   "metadata": {},
   "outputs": [],
   "source": [
    "import pandas as pd\n",
    "import numpy as np\n",
    "import seaborn as sns\n",
    "import matplotlib.pyplot as plt\n",
    "from audio_feature_extraction import AudioFeatureExtractor, BatchExtractor"
   ]
  },
  {
   "cell_type": "code",
   "execution_count": 2,
   "metadata": {},
   "outputs": [],
   "source": [
    "%load_ext autoreload\n",
    "%autoreload 2\n",
    "import warnings\n",
    "warnings.filterwarnings('ignore')"
   ]
  },
  {
   "cell_type": "markdown",
   "metadata": {},
   "source": [
    "Let's instantiate a new AudioFeatureExtractor object, which we will need to pull relevant features out of our audio samples. In particular, we will begin our investigation with the Mel Frequency Cepstral Coefficients (mfccs). More information on these features can be found at the wikipedia page for the [Mel-frequncy cepstrum](https://en.wikipedia.org/wiki/Mel-frequency_cepstrum)."
   ]
  },
  {
   "cell_type": "code",
   "execution_count": 3,
   "metadata": {},
   "outputs": [],
   "source": [
    "afe = AudioFeatureExtractor()"
   ]
  },
  {
   "cell_type": "markdown",
   "metadata": {},
   "source": [
    "Let's also read in the all important index file for our bird vocalization data. In particular, we should do some exploration about our targets and drop unneeded columns."
   ]
  },
  {
   "cell_type": "code",
   "execution_count": 4,
   "metadata": {},
   "outputs": [],
   "source": [
    "bird_index = pd.read_csv('bird_vocalization_index.csv', index_col=0)"
   ]
  },
  {
   "cell_type": "code",
   "execution_count": 5,
   "metadata": {},
   "outputs": [
    {
     "data": {
      "text/html": [
       "<div>\n",
       "<style scoped>\n",
       "    .dataframe tbody tr th:only-of-type {\n",
       "        vertical-align: middle;\n",
       "    }\n",
       "\n",
       "    .dataframe tbody tr th {\n",
       "        vertical-align: top;\n",
       "    }\n",
       "\n",
       "    .dataframe thead th {\n",
       "        text-align: right;\n",
       "    }\n",
       "</style>\n",
       "<table border=\"1\" class=\"dataframe\">\n",
       "  <thead>\n",
       "    <tr style=\"text-align: right;\">\n",
       "      <th></th>\n",
       "      <th>country</th>\n",
       "      <th>duration_seconds</th>\n",
       "      <th>english_cname</th>\n",
       "      <th>file_id</th>\n",
       "      <th>file_name</th>\n",
       "      <th>file_url</th>\n",
       "      <th>genus</th>\n",
       "      <th>latitude</th>\n",
       "      <th>license</th>\n",
       "      <th>location</th>\n",
       "      <th>longitude</th>\n",
       "      <th>recordist</th>\n",
       "      <th>recordist_url</th>\n",
       "      <th>sonogram_url</th>\n",
       "      <th>species</th>\n",
       "      <th>type</th>\n",
       "      <th>remarks</th>\n",
       "      <th>full_name</th>\n",
       "    </tr>\n",
       "  </thead>\n",
       "  <tbody>\n",
       "    <tr>\n",
       "      <td>0</td>\n",
       "      <td>United States</td>\n",
       "      <td>3</td>\n",
       "      <td>Abert's Towhee</td>\n",
       "      <td>17804</td>\n",
       "      <td>XC17804.mp3</td>\n",
       "      <td>https://www.xeno-canto.org/17804/download</td>\n",
       "      <td>Melozone</td>\n",
       "      <td>33.3117</td>\n",
       "      <td>http://creativecommons.org/licenses/by-nc-nd/2.5/</td>\n",
       "      <td>Cibola National Wildlife Refuge, Cibola, Arizo...</td>\n",
       "      <td>-114.68912</td>\n",
       "      <td>Nathan Pieplow</td>\n",
       "      <td>https://www.xeno-canto.org/contributor/EKKJJJRDJY</td>\n",
       "      <td>https://www.xeno-canto.org/sounds/uploaded/EKK...</td>\n",
       "      <td>aberti</td>\n",
       "      <td>'seet' call</td>\n",
       "      <td>XC17804 © Nathan Pieplow // Cibola National Wi...</td>\n",
       "      <td>Abert's Towhee (Melozone aberti)</td>\n",
       "    </tr>\n",
       "    <tr>\n",
       "      <td>1</td>\n",
       "      <td>United States</td>\n",
       "      <td>4</td>\n",
       "      <td>Abert's Towhee</td>\n",
       "      <td>177367</td>\n",
       "      <td>XC177367.mp3</td>\n",
       "      <td>https://www.xeno-canto.org/177367/download</td>\n",
       "      <td>Melozone</td>\n",
       "      <td>34.2850</td>\n",
       "      <td>http://creativecommons.org/licenses/by-nc-sa/4.0/</td>\n",
       "      <td>Bill Williams River NWR, Arizona, United States</td>\n",
       "      <td>-114.06900</td>\n",
       "      <td>Lauren Harter</td>\n",
       "      <td>https://www.xeno-canto.org/contributor/YQNGFTBRRT</td>\n",
       "      <td>https://www.xeno-canto.org/sounds/uploaded/YQN...</td>\n",
       "      <td>aberti</td>\n",
       "      <td>call</td>\n",
       "      <td>XC177367 © Lauren Harter // Bill Williams Rive...</td>\n",
       "      <td>Abert's Towhee (Melozone aberti dumeticola)</td>\n",
       "    </tr>\n",
       "    <tr>\n",
       "      <td>2</td>\n",
       "      <td>United States</td>\n",
       "      <td>4</td>\n",
       "      <td>Abert's Towhee</td>\n",
       "      <td>145505</td>\n",
       "      <td>XC145505.mp3</td>\n",
       "      <td>https://www.xeno-canto.org/145505/download</td>\n",
       "      <td>Melozone</td>\n",
       "      <td>34.2850</td>\n",
       "      <td>http://creativecommons.org/licenses/by-nc-sa/3.0/</td>\n",
       "      <td>Bill Williams River NWR, Arizona, United States</td>\n",
       "      <td>-114.06900</td>\n",
       "      <td>Lauren Harter</td>\n",
       "      <td>https://www.xeno-canto.org/contributor/YQNGFTBRRT</td>\n",
       "      <td>https://www.xeno-canto.org/sounds/uploaded/YQN...</td>\n",
       "      <td>aberti</td>\n",
       "      <td>Squeal duet</td>\n",
       "      <td>XC145505 © Lauren Harter // Bill Williams Rive...</td>\n",
       "      <td>Abert's Towhee (Melozone aberti dumeticola)</td>\n",
       "    </tr>\n",
       "    <tr>\n",
       "      <td>3</td>\n",
       "      <td>United States</td>\n",
       "      <td>5</td>\n",
       "      <td>Abert's Towhee</td>\n",
       "      <td>228159</td>\n",
       "      <td>XC228159.mp3</td>\n",
       "      <td>https://www.xeno-canto.org/228159/download</td>\n",
       "      <td>Melozone</td>\n",
       "      <td>33.1188</td>\n",
       "      <td>http://creativecommons.org/licenses/by-nc-nd/4.0/</td>\n",
       "      <td>Salton Sea, CA, United States</td>\n",
       "      <td>-115.79450</td>\n",
       "      <td>Peter Boesman</td>\n",
       "      <td>https://www.xeno-canto.org/contributor/OOECIWCSWV</td>\n",
       "      <td>https://www.xeno-canto.org/sounds/uploaded/OOE...</td>\n",
       "      <td>aberti</td>\n",
       "      <td>interaction duet</td>\n",
       "      <td>XC228159 © Peter Boesman // Salton Sea, CA, Un...</td>\n",
       "      <td>Abert's Towhee (Melozone aberti)</td>\n",
       "    </tr>\n",
       "    <tr>\n",
       "      <td>4</td>\n",
       "      <td>United States</td>\n",
       "      <td>5</td>\n",
       "      <td>Abert's Towhee</td>\n",
       "      <td>51313</td>\n",
       "      <td>XC51313.mp3</td>\n",
       "      <td>https://www.xeno-canto.org/51313/download</td>\n",
       "      <td>Melozone</td>\n",
       "      <td>36.0628</td>\n",
       "      <td>http://creativecommons.org/licenses/by-nc-sa/3.0/</td>\n",
       "      <td>Sunset Park, Las Vegas, Nevada, United States</td>\n",
       "      <td>-115.11280</td>\n",
       "      <td>Mike Nelson</td>\n",
       "      <td>https://www.xeno-canto.org/contributor/PWDLINYMKL</td>\n",
       "      <td>https://www.xeno-canto.org/sounds/uploaded/PWD...</td>\n",
       "      <td>aberti</td>\n",
       "      <td>call</td>\n",
       "      <td>XC51313 © Mike Nelson // Sunset Park, Las Vega...</td>\n",
       "      <td>Abert's Towhee (Melozone aberti dumeticola)</td>\n",
       "    </tr>\n",
       "  </tbody>\n",
       "</table>\n",
       "</div>"
      ],
      "text/plain": [
       "         country  duration_seconds   english_cname  file_id     file_name  \\\n",
       "0  United States                 3  Abert's Towhee    17804   XC17804.mp3   \n",
       "1  United States                 4  Abert's Towhee   177367  XC177367.mp3   \n",
       "2  United States                 4  Abert's Towhee   145505  XC145505.mp3   \n",
       "3  United States                 5  Abert's Towhee   228159  XC228159.mp3   \n",
       "4  United States                 5  Abert's Towhee    51313   XC51313.mp3   \n",
       "\n",
       "                                     file_url     genus  latitude  \\\n",
       "0   https://www.xeno-canto.org/17804/download  Melozone   33.3117   \n",
       "1  https://www.xeno-canto.org/177367/download  Melozone   34.2850   \n",
       "2  https://www.xeno-canto.org/145505/download  Melozone   34.2850   \n",
       "3  https://www.xeno-canto.org/228159/download  Melozone   33.1188   \n",
       "4   https://www.xeno-canto.org/51313/download  Melozone   36.0628   \n",
       "\n",
       "                                             license  \\\n",
       "0  http://creativecommons.org/licenses/by-nc-nd/2.5/   \n",
       "1  http://creativecommons.org/licenses/by-nc-sa/4.0/   \n",
       "2  http://creativecommons.org/licenses/by-nc-sa/3.0/   \n",
       "3  http://creativecommons.org/licenses/by-nc-nd/4.0/   \n",
       "4  http://creativecommons.org/licenses/by-nc-sa/3.0/   \n",
       "\n",
       "                                            location  longitude  \\\n",
       "0  Cibola National Wildlife Refuge, Cibola, Arizo... -114.68912   \n",
       "1    Bill Williams River NWR, Arizona, United States -114.06900   \n",
       "2    Bill Williams River NWR, Arizona, United States -114.06900   \n",
       "3                      Salton Sea, CA, United States -115.79450   \n",
       "4      Sunset Park, Las Vegas, Nevada, United States -115.11280   \n",
       "\n",
       "        recordist                                      recordist_url  \\\n",
       "0  Nathan Pieplow  https://www.xeno-canto.org/contributor/EKKJJJRDJY   \n",
       "1   Lauren Harter  https://www.xeno-canto.org/contributor/YQNGFTBRRT   \n",
       "2   Lauren Harter  https://www.xeno-canto.org/contributor/YQNGFTBRRT   \n",
       "3   Peter Boesman  https://www.xeno-canto.org/contributor/OOECIWCSWV   \n",
       "4     Mike Nelson  https://www.xeno-canto.org/contributor/PWDLINYMKL   \n",
       "\n",
       "                                        sonogram_url species  \\\n",
       "0  https://www.xeno-canto.org/sounds/uploaded/EKK...  aberti   \n",
       "1  https://www.xeno-canto.org/sounds/uploaded/YQN...  aberti   \n",
       "2  https://www.xeno-canto.org/sounds/uploaded/YQN...  aberti   \n",
       "3  https://www.xeno-canto.org/sounds/uploaded/OOE...  aberti   \n",
       "4  https://www.xeno-canto.org/sounds/uploaded/PWD...  aberti   \n",
       "\n",
       "               type                                            remarks  \\\n",
       "0       'seet' call  XC17804 © Nathan Pieplow // Cibola National Wi...   \n",
       "1              call  XC177367 © Lauren Harter // Bill Williams Rive...   \n",
       "2       Squeal duet  XC145505 © Lauren Harter // Bill Williams Rive...   \n",
       "3  interaction duet  XC228159 © Peter Boesman // Salton Sea, CA, Un...   \n",
       "4              call  XC51313 © Mike Nelson // Sunset Park, Las Vega...   \n",
       "\n",
       "                                     full_name  \n",
       "0             Abert's Towhee (Melozone aberti)  \n",
       "1  Abert's Towhee (Melozone aberti dumeticola)  \n",
       "2  Abert's Towhee (Melozone aberti dumeticola)  \n",
       "3             Abert's Towhee (Melozone aberti)  \n",
       "4  Abert's Towhee (Melozone aberti dumeticola)  "
      ]
     },
     "execution_count": 5,
     "metadata": {},
     "output_type": "execute_result"
    }
   ],
   "source": [
    "bird_index.head()"
   ]
  },
  {
   "cell_type": "code",
   "execution_count": 6,
   "metadata": {},
   "outputs": [
    {
     "data": {
      "text/plain": [
       "Hutton's Vireo              30\n",
       "Bewick's Wren               30\n",
       "Pacific Wren                30\n",
       "White-headed Woodpecker     30\n",
       "Thick-billed Fox Sparrow    30\n",
       "                            ..\n",
       "Canyon Wren                 30\n",
       "Common Yellowthroat         30\n",
       "Dark-eyed Junco             30\n",
       "Phainopepla                 30\n",
       "Verdin                      30\n",
       "Name: english_cname, Length: 91, dtype: int64"
      ]
     },
     "execution_count": 6,
     "metadata": {},
     "output_type": "execute_result"
    }
   ],
   "source": [
    "bird_index.english_cname.value_counts()"
   ]
  },
  {
   "cell_type": "markdown",
   "metadata": {},
   "source": [
    "As we can see, this is a balanced dataset, though each category has very few samples. This will likely prove a challenge that we will need to overcome. Out of curiosity, we may want to consider defining our target instead as the genus of the bird, so as to potentially increase the number of samples in each target label."
   ]
  },
  {
   "cell_type": "code",
   "execution_count": 7,
   "metadata": {},
   "outputs": [
    {
     "data": {
      "text/plain": [
       "Vireo         150\n",
       "Empidonax      90\n",
       "Polioptila     90\n",
       "Spizella       60\n",
       "Corvus         60\n",
       "             ... \n",
       "Cardellina     30\n",
       "Passerina      30\n",
       "Anser          30\n",
       "Junco          30\n",
       "Auriparus      30\n",
       "Name: genus, Length: 68, dtype: int64"
      ]
     },
     "execution_count": 7,
     "metadata": {},
     "output_type": "execute_result"
    }
   ],
   "source": [
    "bird_index.genus.value_counts()"
   ]
  },
  {
   "cell_type": "markdown",
   "metadata": {},
   "source": [
    "This has less overall categories but it introduces imbalance into the dataset. We will have to do some exploration to see if one or the other is more accurate. In general, a model that classifies based on genus is just less useful than one that could also predict the full species, as doing so would simultaneously predict the genus if needed.\n",
    "\n",
    "Anyhow, let's continue on with our data cleaning process."
   ]
  },
  {
   "cell_type": "code",
   "execution_count": 8,
   "metadata": {},
   "outputs": [],
   "source": [
    "bird_index_trim = bird_index.drop(columns=[\n",
    "    'country',\n",
    "    'file_url',\n",
    "    'license',\n",
    "    'recordist',\n",
    "    'recordist_url',\n",
    "    'sonogram_url',\n",
    "    'remarks',\n",
    "    'latitude',\n",
    "    'longitude',\n",
    "    'location',\n",
    "    'full_name'])"
   ]
  },
  {
   "cell_type": "code",
   "execution_count": 9,
   "metadata": {},
   "outputs": [
    {
     "data": {
      "text/html": [
       "<div>\n",
       "<style scoped>\n",
       "    .dataframe tbody tr th:only-of-type {\n",
       "        vertical-align: middle;\n",
       "    }\n",
       "\n",
       "    .dataframe tbody tr th {\n",
       "        vertical-align: top;\n",
       "    }\n",
       "\n",
       "    .dataframe thead th {\n",
       "        text-align: right;\n",
       "    }\n",
       "</style>\n",
       "<table border=\"1\" class=\"dataframe\">\n",
       "  <thead>\n",
       "    <tr style=\"text-align: right;\">\n",
       "      <th></th>\n",
       "      <th>duration_seconds</th>\n",
       "      <th>english_cname</th>\n",
       "      <th>file_id</th>\n",
       "      <th>file_name</th>\n",
       "      <th>genus</th>\n",
       "      <th>species</th>\n",
       "      <th>type</th>\n",
       "    </tr>\n",
       "  </thead>\n",
       "  <tbody>\n",
       "    <tr>\n",
       "      <td>0</td>\n",
       "      <td>3</td>\n",
       "      <td>Abert's Towhee</td>\n",
       "      <td>17804</td>\n",
       "      <td>XC17804.mp3</td>\n",
       "      <td>Melozone</td>\n",
       "      <td>aberti</td>\n",
       "      <td>'seet' call</td>\n",
       "    </tr>\n",
       "    <tr>\n",
       "      <td>1</td>\n",
       "      <td>4</td>\n",
       "      <td>Abert's Towhee</td>\n",
       "      <td>177367</td>\n",
       "      <td>XC177367.mp3</td>\n",
       "      <td>Melozone</td>\n",
       "      <td>aberti</td>\n",
       "      <td>call</td>\n",
       "    </tr>\n",
       "    <tr>\n",
       "      <td>2</td>\n",
       "      <td>4</td>\n",
       "      <td>Abert's Towhee</td>\n",
       "      <td>145505</td>\n",
       "      <td>XC145505.mp3</td>\n",
       "      <td>Melozone</td>\n",
       "      <td>aberti</td>\n",
       "      <td>Squeal duet</td>\n",
       "    </tr>\n",
       "    <tr>\n",
       "      <td>3</td>\n",
       "      <td>5</td>\n",
       "      <td>Abert's Towhee</td>\n",
       "      <td>228159</td>\n",
       "      <td>XC228159.mp3</td>\n",
       "      <td>Melozone</td>\n",
       "      <td>aberti</td>\n",
       "      <td>interaction duet</td>\n",
       "    </tr>\n",
       "    <tr>\n",
       "      <td>4</td>\n",
       "      <td>5</td>\n",
       "      <td>Abert's Towhee</td>\n",
       "      <td>51313</td>\n",
       "      <td>XC51313.mp3</td>\n",
       "      <td>Melozone</td>\n",
       "      <td>aberti</td>\n",
       "      <td>call</td>\n",
       "    </tr>\n",
       "  </tbody>\n",
       "</table>\n",
       "</div>"
      ],
      "text/plain": [
       "   duration_seconds   english_cname  file_id     file_name     genus species  \\\n",
       "0                 3  Abert's Towhee    17804   XC17804.mp3  Melozone  aberti   \n",
       "1                 4  Abert's Towhee   177367  XC177367.mp3  Melozone  aberti   \n",
       "2                 4  Abert's Towhee   145505  XC145505.mp3  Melozone  aberti   \n",
       "3                 5  Abert's Towhee   228159  XC228159.mp3  Melozone  aberti   \n",
       "4                 5  Abert's Towhee    51313   XC51313.mp3  Melozone  aberti   \n",
       "\n",
       "               type  \n",
       "0       'seet' call  \n",
       "1              call  \n",
       "2       Squeal duet  \n",
       "3  interaction duet  \n",
       "4              call  "
      ]
     },
     "execution_count": 9,
     "metadata": {},
     "output_type": "execute_result"
    }
   ],
   "source": [
    "bird_index_trim.head()"
   ]
  },
  {
   "cell_type": "code",
   "execution_count": 10,
   "metadata": {},
   "outputs": [],
   "source": [
    "# mfcc_df.to_csv('feature_extraction/mfcc.csv')"
   ]
  },
  {
   "cell_type": "code",
   "execution_count": 11,
   "metadata": {},
   "outputs": [],
   "source": [
    "# mfcc_df"
   ]
  },
  {
   "cell_type": "code",
   "execution_count": 12,
   "metadata": {},
   "outputs": [],
   "source": [
    "test_files = ['XC100213.mp3', 'XC100251.mp3', 'XC100479.mp3', 'XC100600.mp3', 'XC102946.mp3']\n",
    "bird_index_test = bird_index_trim.loc[bird_index_trim.file_name.isin(test_files)]\n",
    "bird_index_test.to_csv('bird_test_index.csv')"
   ]
  },
  {
   "cell_type": "code",
   "execution_count": 13,
   "metadata": {},
   "outputs": [],
   "source": [
    "batch_extractor = BatchExtractor(audio_folder='raw_data_test/', audio_index='bird_test_index.csv')\n",
    "batch_extractor.batch_extract_feature('mfcc')"
   ]
  },
  {
   "cell_type": "code",
   "execution_count": 14,
   "metadata": {},
   "outputs": [],
   "source": [
    "batch_extractor.batch_extract_feature('zcr')"
   ]
  },
  {
   "cell_type": "code",
   "execution_count": 17,
   "metadata": {},
   "outputs": [],
   "source": [
    "batch_extractor.merge_features(['mfcc', 'zcr'])"
   ]
  },
  {
   "cell_type": "code",
   "execution_count": 41,
   "metadata": {},
   "outputs": [],
   "source": [
    "target_labels = bird_index_trim.english_cname"
   ]
  },
  {
   "cell_type": "markdown",
   "metadata": {},
   "source": [
    "### Zero Crossing Rate\n",
    "----\n",
    "Here we do the ZCR"
   ]
  },
  {
   "cell_type": "code",
   "execution_count": 15,
   "metadata": {},
   "outputs": [
    {
     "ename": "KeyboardInterrupt",
     "evalue": "",
     "output_type": "error",
     "traceback": [
      "\u001b[0;31m---------------------------------------------------------------------------\u001b[0m",
      "\u001b[0;31mKeyboardInterrupt\u001b[0m                         Traceback (most recent call last)",
      "\u001b[0;32m<ipython-input-15-8f87a2031a54>\u001b[0m in \u001b[0;36m<module>\u001b[0;34m\u001b[0m\n\u001b[1;32m      4\u001b[0m \u001b[0;32mfor\u001b[0m \u001b[0mfile_name\u001b[0m \u001b[0;32min\u001b[0m \u001b[0mbird_index\u001b[0m\u001b[0;34m.\u001b[0m\u001b[0mfile_name\u001b[0m\u001b[0;34m:\u001b[0m\u001b[0;34m\u001b[0m\u001b[0;34m\u001b[0m\u001b[0m\n\u001b[1;32m      5\u001b[0m     \u001b[0mpath\u001b[0m \u001b[0;34m=\u001b[0m \u001b[0;34mf'raw_data/{file_name}'\u001b[0m\u001b[0;34m\u001b[0m\u001b[0;34m\u001b[0m\u001b[0m\n\u001b[0;32m----> 6\u001b[0;31m     \u001b[0maudio\u001b[0m \u001b[0;34m=\u001b[0m \u001b[0mafe\u001b[0m\u001b[0;34m.\u001b[0m\u001b[0mget_audio\u001b[0m\u001b[0;34m(\u001b[0m\u001b[0mpath\u001b[0m\u001b[0;34m)\u001b[0m\u001b[0;34m\u001b[0m\u001b[0;34m\u001b[0m\u001b[0m\n\u001b[0m\u001b[1;32m      7\u001b[0m     \u001b[0mzcr\u001b[0m \u001b[0;34m=\u001b[0m \u001b[0mafe\u001b[0m\u001b[0;34m.\u001b[0m\u001b[0mextract_zero_crossing_rate\u001b[0m\u001b[0;34m(\u001b[0m\u001b[0maudio\u001b[0m\u001b[0;34m)\u001b[0m\u001b[0;34m\u001b[0m\u001b[0;34m\u001b[0m\u001b[0m\n\u001b[1;32m      8\u001b[0m     \u001b[0mzcr\u001b[0m \u001b[0;34m=\u001b[0m \u001b[0mpd\u001b[0m\u001b[0;34m.\u001b[0m\u001b[0mSeries\u001b[0m\u001b[0;34m(\u001b[0m\u001b[0mdata\u001b[0m\u001b[0;34m=\u001b[0m\u001b[0mlist\u001b[0m\u001b[0;34m(\u001b[0m\u001b[0mzcr\u001b[0m\u001b[0;34m)\u001b[0m\u001b[0;34m,\u001b[0m \u001b[0mname\u001b[0m\u001b[0;34m=\u001b[0m\u001b[0mfile_name\u001b[0m\u001b[0;34m[\u001b[0m\u001b[0;34m:\u001b[0m\u001b[0;34m-\u001b[0m\u001b[0;36m4\u001b[0m\u001b[0;34m]\u001b[0m\u001b[0;34m)\u001b[0m\u001b[0;34m\u001b[0m\u001b[0;34m\u001b[0m\u001b[0m\n",
      "\u001b[0;32m~/Documents/flatiron-mod5-project/audio_feature_extraction.py\u001b[0m in \u001b[0;36mget_audio\u001b[0;34m(self, file_path)\u001b[0m\n\u001b[1;32m     16\u001b[0m \u001b[0;34m\u001b[0m\u001b[0m\n\u001b[1;32m     17\u001b[0m     \u001b[0;32mdef\u001b[0m \u001b[0mget_audio\u001b[0m\u001b[0;34m(\u001b[0m\u001b[0mself\u001b[0m\u001b[0;34m,\u001b[0m \u001b[0mfile_path\u001b[0m\u001b[0;34m)\u001b[0m\u001b[0;34m:\u001b[0m\u001b[0;34m\u001b[0m\u001b[0;34m\u001b[0m\u001b[0m\n\u001b[0;32m---> 18\u001b[0;31m         \u001b[0mx\u001b[0m\u001b[0;34m,\u001b[0m \u001b[0msr\u001b[0m \u001b[0;34m=\u001b[0m \u001b[0mlibrosa\u001b[0m\u001b[0;34m.\u001b[0m\u001b[0mload\u001b[0m\u001b[0;34m(\u001b[0m\u001b[0mfile_path\u001b[0m\u001b[0;34m,\u001b[0m \u001b[0msr\u001b[0m\u001b[0;34m=\u001b[0m\u001b[0mself\u001b[0m\u001b[0;34m.\u001b[0m\u001b[0msr\u001b[0m\u001b[0;34m)\u001b[0m\u001b[0;34m\u001b[0m\u001b[0;34m\u001b[0m\u001b[0m\n\u001b[0m\u001b[1;32m     19\u001b[0m         \u001b[0;32mreturn\u001b[0m \u001b[0mx\u001b[0m\u001b[0;34m\u001b[0m\u001b[0;34m\u001b[0m\u001b[0m\n\u001b[1;32m     20\u001b[0m \u001b[0;34m\u001b[0m\u001b[0m\n",
      "\u001b[0;32m//anaconda3/envs/learn-audio/lib/python3.7/site-packages/librosa/core/audio.py\u001b[0m in \u001b[0;36mload\u001b[0;34m(path, sr, mono, offset, duration, dtype, res_type)\u001b[0m\n\u001b[1;32m    154\u001b[0m \u001b[0;34m\u001b[0m\u001b[0m\n\u001b[1;32m    155\u001b[0m     \u001b[0;32mif\u001b[0m \u001b[0msr\u001b[0m \u001b[0;32mis\u001b[0m \u001b[0;32mnot\u001b[0m \u001b[0;32mNone\u001b[0m\u001b[0;34m:\u001b[0m\u001b[0;34m\u001b[0m\u001b[0;34m\u001b[0m\u001b[0m\n\u001b[0;32m--> 156\u001b[0;31m         \u001b[0my\u001b[0m \u001b[0;34m=\u001b[0m \u001b[0mresample\u001b[0m\u001b[0;34m(\u001b[0m\u001b[0my\u001b[0m\u001b[0;34m,\u001b[0m \u001b[0msr_native\u001b[0m\u001b[0;34m,\u001b[0m \u001b[0msr\u001b[0m\u001b[0;34m,\u001b[0m \u001b[0mres_type\u001b[0m\u001b[0;34m=\u001b[0m\u001b[0mres_type\u001b[0m\u001b[0;34m)\u001b[0m\u001b[0;34m\u001b[0m\u001b[0;34m\u001b[0m\u001b[0m\n\u001b[0m\u001b[1;32m    157\u001b[0m \u001b[0;34m\u001b[0m\u001b[0m\n\u001b[1;32m    158\u001b[0m     \u001b[0;32melse\u001b[0m\u001b[0;34m:\u001b[0m\u001b[0;34m\u001b[0m\u001b[0;34m\u001b[0m\u001b[0m\n",
      "\u001b[0;32m//anaconda3/envs/learn-audio/lib/python3.7/site-packages/librosa/core/audio.py\u001b[0m in \u001b[0;36mresample\u001b[0;34m(y, orig_sr, target_sr, res_type, fix, scale, **kwargs)\u001b[0m\n\u001b[1;32m    530\u001b[0m         \u001b[0my_hat\u001b[0m \u001b[0;34m=\u001b[0m \u001b[0mscipy\u001b[0m\u001b[0;34m.\u001b[0m\u001b[0msignal\u001b[0m\u001b[0;34m.\u001b[0m\u001b[0mresample_poly\u001b[0m\u001b[0;34m(\u001b[0m\u001b[0my\u001b[0m\u001b[0;34m,\u001b[0m \u001b[0mtarget_sr\u001b[0m \u001b[0;34m//\u001b[0m \u001b[0mgcd\u001b[0m\u001b[0;34m,\u001b[0m \u001b[0morig_sr\u001b[0m \u001b[0;34m//\u001b[0m \u001b[0mgcd\u001b[0m\u001b[0;34m,\u001b[0m \u001b[0maxis\u001b[0m\u001b[0;34m=\u001b[0m\u001b[0;34m-\u001b[0m\u001b[0;36m1\u001b[0m\u001b[0;34m)\u001b[0m\u001b[0;34m\u001b[0m\u001b[0;34m\u001b[0m\u001b[0m\n\u001b[1;32m    531\u001b[0m     \u001b[0;32melse\u001b[0m\u001b[0;34m:\u001b[0m\u001b[0;34m\u001b[0m\u001b[0;34m\u001b[0m\u001b[0m\n\u001b[0;32m--> 532\u001b[0;31m         \u001b[0my_hat\u001b[0m \u001b[0;34m=\u001b[0m \u001b[0mresampy\u001b[0m\u001b[0;34m.\u001b[0m\u001b[0mresample\u001b[0m\u001b[0;34m(\u001b[0m\u001b[0my\u001b[0m\u001b[0;34m,\u001b[0m \u001b[0morig_sr\u001b[0m\u001b[0;34m,\u001b[0m \u001b[0mtarget_sr\u001b[0m\u001b[0;34m,\u001b[0m \u001b[0mfilter\u001b[0m\u001b[0;34m=\u001b[0m\u001b[0mres_type\u001b[0m\u001b[0;34m,\u001b[0m \u001b[0maxis\u001b[0m\u001b[0;34m=\u001b[0m\u001b[0;34m-\u001b[0m\u001b[0;36m1\u001b[0m\u001b[0;34m)\u001b[0m\u001b[0;34m\u001b[0m\u001b[0;34m\u001b[0m\u001b[0m\n\u001b[0m\u001b[1;32m    533\u001b[0m \u001b[0;34m\u001b[0m\u001b[0m\n\u001b[1;32m    534\u001b[0m     \u001b[0;32mif\u001b[0m \u001b[0mfix\u001b[0m\u001b[0;34m:\u001b[0m\u001b[0;34m\u001b[0m\u001b[0;34m\u001b[0m\u001b[0m\n",
      "\u001b[0;32m//anaconda3/envs/learn-audio/lib/python3.7/site-packages/resampy/core.py\u001b[0m in \u001b[0;36mresample\u001b[0;34m(x, sr_orig, sr_new, axis, filter, **kwargs)\u001b[0m\n\u001b[1;32m    118\u001b[0m     \u001b[0mx_2d\u001b[0m \u001b[0;34m=\u001b[0m \u001b[0mx\u001b[0m\u001b[0;34m.\u001b[0m\u001b[0mswapaxes\u001b[0m\u001b[0;34m(\u001b[0m\u001b[0;36m0\u001b[0m\u001b[0;34m,\u001b[0m \u001b[0maxis\u001b[0m\u001b[0;34m)\u001b[0m\u001b[0;34m.\u001b[0m\u001b[0mreshape\u001b[0m\u001b[0;34m(\u001b[0m\u001b[0;34m(\u001b[0m\u001b[0mx\u001b[0m\u001b[0;34m.\u001b[0m\u001b[0mshape\u001b[0m\u001b[0;34m[\u001b[0m\u001b[0maxis\u001b[0m\u001b[0;34m]\u001b[0m\u001b[0;34m,\u001b[0m \u001b[0;34m-\u001b[0m\u001b[0;36m1\u001b[0m\u001b[0;34m)\u001b[0m\u001b[0;34m)\u001b[0m\u001b[0;34m\u001b[0m\u001b[0;34m\u001b[0m\u001b[0m\n\u001b[1;32m    119\u001b[0m     \u001b[0my_2d\u001b[0m \u001b[0;34m=\u001b[0m \u001b[0my\u001b[0m\u001b[0;34m.\u001b[0m\u001b[0mswapaxes\u001b[0m\u001b[0;34m(\u001b[0m\u001b[0;36m0\u001b[0m\u001b[0;34m,\u001b[0m \u001b[0maxis\u001b[0m\u001b[0;34m)\u001b[0m\u001b[0;34m.\u001b[0m\u001b[0mreshape\u001b[0m\u001b[0;34m(\u001b[0m\u001b[0;34m(\u001b[0m\u001b[0my\u001b[0m\u001b[0;34m.\u001b[0m\u001b[0mshape\u001b[0m\u001b[0;34m[\u001b[0m\u001b[0maxis\u001b[0m\u001b[0;34m]\u001b[0m\u001b[0;34m,\u001b[0m \u001b[0;34m-\u001b[0m\u001b[0;36m1\u001b[0m\u001b[0;34m)\u001b[0m\u001b[0;34m)\u001b[0m\u001b[0;34m\u001b[0m\u001b[0;34m\u001b[0m\u001b[0m\n\u001b[0;32m--> 120\u001b[0;31m     \u001b[0mresample_f\u001b[0m\u001b[0;34m(\u001b[0m\u001b[0mx_2d\u001b[0m\u001b[0;34m,\u001b[0m \u001b[0my_2d\u001b[0m\u001b[0;34m,\u001b[0m \u001b[0msample_ratio\u001b[0m\u001b[0;34m,\u001b[0m \u001b[0minterp_win\u001b[0m\u001b[0;34m,\u001b[0m \u001b[0minterp_delta\u001b[0m\u001b[0;34m,\u001b[0m \u001b[0mprecision\u001b[0m\u001b[0;34m)\u001b[0m\u001b[0;34m\u001b[0m\u001b[0;34m\u001b[0m\u001b[0m\n\u001b[0m\u001b[1;32m    121\u001b[0m \u001b[0;34m\u001b[0m\u001b[0m\n\u001b[1;32m    122\u001b[0m     \u001b[0;32mreturn\u001b[0m \u001b[0my\u001b[0m\u001b[0;34m\u001b[0m\u001b[0;34m\u001b[0m\u001b[0m\n",
      "\u001b[0;31mKeyboardInterrupt\u001b[0m: "
     ]
    }
   ],
   "source": [
    "max_frames=0\n",
    "zcr_df = pd.DataFrame()\n",
    "\n",
    "for file_name in bird_index.file_name:\n",
    "    path = f'raw_data/{file_name}'\n",
    "    audio = afe.get_audio(path)\n",
    "    zcr = afe.extract_zero_crossing_rate(audio)\n",
    "    zcr = pd.Series(data=list(zcr), name=file_name[:-4])\n",
    "    if len(zcr) > max_frames:\n",
    "        max_frames = len(zcr)\n",
    "    zcr_df = zcr_df.append(zcr)\n",
    "\n",
    "zcr_cols = [f'zcr_{i}' for i in range(max_frames)]\n",
    "zcr_df.columns = zcr_cols\n",
    "zcr_df.head()"
   ]
  },
  {
   "cell_type": "markdown",
   "metadata": {},
   "source": [
    "## Exploratory Data Analysis\n",
    "----\n",
    "This section handles some preliminary classifications to see how the initial performance of the modeling and feature selection is."
   ]
  },
  {
   "cell_type": "code",
   "execution_count": 50,
   "metadata": {},
   "outputs": [],
   "source": [
    "from sklearn.preprocessing import StandardScaler, LabelEncoder\n",
    "from sklearn.tree import DecisionTreeClassifier\n",
    "from sklearn.model_selection import train_test_split"
   ]
  },
  {
   "cell_type": "code",
   "execution_count": 44,
   "metadata": {},
   "outputs": [],
   "source": [
    "ss = StandardScaler()"
   ]
  },
  {
   "cell_type": "code",
   "execution_count": 47,
   "metadata": {},
   "outputs": [],
   "source": [
    "mfcc_df_norm = pd.DataFrame(ss.fit_transform(mfcc_df_fix), columns=mfcc_df_fix.columns)"
   ]
  },
  {
   "cell_type": "code",
   "execution_count": 48,
   "metadata": {},
   "outputs": [
    {
     "data": {
      "text/html": [
       "<div>\n",
       "<style scoped>\n",
       "    .dataframe tbody tr th:only-of-type {\n",
       "        vertical-align: middle;\n",
       "    }\n",
       "\n",
       "    .dataframe tbody tr th {\n",
       "        vertical-align: top;\n",
       "    }\n",
       "\n",
       "    .dataframe thead th {\n",
       "        text-align: right;\n",
       "    }\n",
       "</style>\n",
       "<table border=\"1\" class=\"dataframe\">\n",
       "  <thead>\n",
       "    <tr style=\"text-align: right;\">\n",
       "      <th></th>\n",
       "      <th>mfcc_0</th>\n",
       "      <th>mfcc_1</th>\n",
       "      <th>mfcc_2</th>\n",
       "      <th>mfcc_3</th>\n",
       "      <th>mfcc_4</th>\n",
       "      <th>mfcc_5</th>\n",
       "      <th>mfcc_6</th>\n",
       "      <th>mfcc_7</th>\n",
       "      <th>mfcc_8</th>\n",
       "      <th>mfcc_9</th>\n",
       "      <th>...</th>\n",
       "      <th>mfcc_30</th>\n",
       "      <th>mfcc_31</th>\n",
       "      <th>mfcc_32</th>\n",
       "      <th>mfcc_33</th>\n",
       "      <th>mfcc_34</th>\n",
       "      <th>mfcc_35</th>\n",
       "      <th>mfcc_36</th>\n",
       "      <th>mfcc_37</th>\n",
       "      <th>mfcc_38</th>\n",
       "      <th>mfcc_39</th>\n",
       "    </tr>\n",
       "  </thead>\n",
       "  <tbody>\n",
       "    <tr>\n",
       "      <td>count</td>\n",
       "      <td>2.730000e+03</td>\n",
       "      <td>2.730000e+03</td>\n",
       "      <td>2.730000e+03</td>\n",
       "      <td>2.730000e+03</td>\n",
       "      <td>2.730000e+03</td>\n",
       "      <td>2.730000e+03</td>\n",
       "      <td>2.730000e+03</td>\n",
       "      <td>2.730000e+03</td>\n",
       "      <td>2.730000e+03</td>\n",
       "      <td>2.730000e+03</td>\n",
       "      <td>...</td>\n",
       "      <td>2.730000e+03</td>\n",
       "      <td>2.730000e+03</td>\n",
       "      <td>2.730000e+03</td>\n",
       "      <td>2.730000e+03</td>\n",
       "      <td>2.730000e+03</td>\n",
       "      <td>2.730000e+03</td>\n",
       "      <td>2.730000e+03</td>\n",
       "      <td>2.730000e+03</td>\n",
       "      <td>2.730000e+03</td>\n",
       "      <td>2.730000e+03</td>\n",
       "    </tr>\n",
       "    <tr>\n",
       "      <td>mean</td>\n",
       "      <td>-2.827205e-16</td>\n",
       "      <td>-1.732436e-17</td>\n",
       "      <td>9.146123e-17</td>\n",
       "      <td>-1.504825e-17</td>\n",
       "      <td>1.174274e-17</td>\n",
       "      <td>-6.018791e-18</td>\n",
       "      <td>-1.191965e-16</td>\n",
       "      <td>2.785724e-17</td>\n",
       "      <td>-2.871126e-17</td>\n",
       "      <td>-1.301360e-17</td>\n",
       "      <td>...</td>\n",
       "      <td>-4.050484e-17</td>\n",
       "      <td>-2.391250e-17</td>\n",
       "      <td>-8.316506e-17</td>\n",
       "      <td>7.161549e-17</td>\n",
       "      <td>8.434442e-17</td>\n",
       "      <td>-1.213112e-16</td>\n",
       "      <td>-8.442575e-17</td>\n",
       "      <td>-2.846726e-18</td>\n",
       "      <td>6.612537e-17</td>\n",
       "      <td>5.505873e-17</td>\n",
       "    </tr>\n",
       "    <tr>\n",
       "      <td>std</td>\n",
       "      <td>1.000183e+00</td>\n",
       "      <td>1.000183e+00</td>\n",
       "      <td>1.000183e+00</td>\n",
       "      <td>1.000183e+00</td>\n",
       "      <td>1.000183e+00</td>\n",
       "      <td>1.000183e+00</td>\n",
       "      <td>1.000183e+00</td>\n",
       "      <td>1.000183e+00</td>\n",
       "      <td>1.000183e+00</td>\n",
       "      <td>1.000183e+00</td>\n",
       "      <td>...</td>\n",
       "      <td>1.000183e+00</td>\n",
       "      <td>1.000183e+00</td>\n",
       "      <td>1.000183e+00</td>\n",
       "      <td>1.000183e+00</td>\n",
       "      <td>1.000183e+00</td>\n",
       "      <td>1.000183e+00</td>\n",
       "      <td>1.000183e+00</td>\n",
       "      <td>1.000183e+00</td>\n",
       "      <td>1.000183e+00</td>\n",
       "      <td>1.000183e+00</td>\n",
       "    </tr>\n",
       "    <tr>\n",
       "      <td>min</td>\n",
       "      <td>-5.304026e+00</td>\n",
       "      <td>-4.576742e+00</td>\n",
       "      <td>-4.055969e+00</td>\n",
       "      <td>-3.927953e+00</td>\n",
       "      <td>-4.722705e+00</td>\n",
       "      <td>-3.742513e+00</td>\n",
       "      <td>-3.446451e+00</td>\n",
       "      <td>-3.581297e+00</td>\n",
       "      <td>-4.174816e+00</td>\n",
       "      <td>-4.071939e+00</td>\n",
       "      <td>...</td>\n",
       "      <td>-6.523359e+00</td>\n",
       "      <td>-5.095152e+00</td>\n",
       "      <td>-3.373265e+00</td>\n",
       "      <td>-4.569900e+00</td>\n",
       "      <td>-3.908238e+00</td>\n",
       "      <td>-5.391141e+00</td>\n",
       "      <td>-5.854865e+00</td>\n",
       "      <td>-5.030977e+00</td>\n",
       "      <td>-5.545018e+00</td>\n",
       "      <td>-5.968292e+00</td>\n",
       "    </tr>\n",
       "    <tr>\n",
       "      <td>25%</td>\n",
       "      <td>-6.717914e-01</td>\n",
       "      <td>-5.687730e-01</td>\n",
       "      <td>-5.521012e-01</td>\n",
       "      <td>-6.123356e-01</td>\n",
       "      <td>-6.753495e-01</td>\n",
       "      <td>-6.273742e-01</td>\n",
       "      <td>-6.416874e-01</td>\n",
       "      <td>-6.192902e-01</td>\n",
       "      <td>-6.257150e-01</td>\n",
       "      <td>-5.732595e-01</td>\n",
       "      <td>...</td>\n",
       "      <td>-6.027892e-01</td>\n",
       "      <td>-5.934565e-01</td>\n",
       "      <td>-6.620635e-01</td>\n",
       "      <td>-5.966032e-01</td>\n",
       "      <td>-6.244224e-01</td>\n",
       "      <td>-6.061979e-01</td>\n",
       "      <td>-6.558736e-01</td>\n",
       "      <td>-6.022021e-01</td>\n",
       "      <td>-6.497748e-01</td>\n",
       "      <td>-5.956420e-01</td>\n",
       "    </tr>\n",
       "    <tr>\n",
       "      <td>50%</td>\n",
       "      <td>2.820311e-02</td>\n",
       "      <td>1.175528e-01</td>\n",
       "      <td>1.046891e-01</td>\n",
       "      <td>-2.412203e-02</td>\n",
       "      <td>4.313718e-02</td>\n",
       "      <td>-1.720562e-02</td>\n",
       "      <td>1.393500e-02</td>\n",
       "      <td>-1.476739e-02</td>\n",
       "      <td>-1.281406e-02</td>\n",
       "      <td>4.153985e-02</td>\n",
       "      <td>...</td>\n",
       "      <td>-5.655705e-02</td>\n",
       "      <td>-3.816292e-03</td>\n",
       "      <td>-1.248205e-01</td>\n",
       "      <td>1.327996e-02</td>\n",
       "      <td>-1.050297e-01</td>\n",
       "      <td>3.138745e-03</td>\n",
       "      <td>-1.069318e-01</td>\n",
       "      <td>-1.950243e-03</td>\n",
       "      <td>-1.374201e-01</td>\n",
       "      <td>6.653865e-03</td>\n",
       "    </tr>\n",
       "    <tr>\n",
       "      <td>75%</td>\n",
       "      <td>6.711735e-01</td>\n",
       "      <td>6.584625e-01</td>\n",
       "      <td>7.084924e-01</td>\n",
       "      <td>6.114238e-01</td>\n",
       "      <td>6.659653e-01</td>\n",
       "      <td>6.478918e-01</td>\n",
       "      <td>6.590574e-01</td>\n",
       "      <td>6.138842e-01</td>\n",
       "      <td>5.846345e-01</td>\n",
       "      <td>6.270869e-01</td>\n",
       "      <td>...</td>\n",
       "      <td>5.781046e-01</td>\n",
       "      <td>5.702201e-01</td>\n",
       "      <td>5.679978e-01</td>\n",
       "      <td>5.840660e-01</td>\n",
       "      <td>5.819345e-01</td>\n",
       "      <td>5.739366e-01</td>\n",
       "      <td>5.593109e-01</td>\n",
       "      <td>5.709235e-01</td>\n",
       "      <td>5.588487e-01</td>\n",
       "      <td>5.706071e-01</td>\n",
       "    </tr>\n",
       "    <tr>\n",
       "      <td>max</td>\n",
       "      <td>3.107173e+00</td>\n",
       "      <td>2.577024e+00</td>\n",
       "      <td>2.984092e+00</td>\n",
       "      <td>5.459884e+00</td>\n",
       "      <td>3.696341e+00</td>\n",
       "      <td>4.946857e+00</td>\n",
       "      <td>3.334387e+00</td>\n",
       "      <td>5.012965e+00</td>\n",
       "      <td>5.309098e+00</td>\n",
       "      <td>3.482304e+00</td>\n",
       "      <td>...</td>\n",
       "      <td>4.489061e+00</td>\n",
       "      <td>7.237955e+00</td>\n",
       "      <td>5.343588e+00</td>\n",
       "      <td>4.798363e+00</td>\n",
       "      <td>4.784788e+00</td>\n",
       "      <td>5.238797e+00</td>\n",
       "      <td>5.421757e+00</td>\n",
       "      <td>5.233231e+00</td>\n",
       "      <td>5.101888e+00</td>\n",
       "      <td>5.000673e+00</td>\n",
       "    </tr>\n",
       "  </tbody>\n",
       "</table>\n",
       "<p>8 rows × 40 columns</p>\n",
       "</div>"
      ],
      "text/plain": [
       "             mfcc_0        mfcc_1        mfcc_2        mfcc_3        mfcc_4  \\\n",
       "count  2.730000e+03  2.730000e+03  2.730000e+03  2.730000e+03  2.730000e+03   \n",
       "mean  -2.827205e-16 -1.732436e-17  9.146123e-17 -1.504825e-17  1.174274e-17   \n",
       "std    1.000183e+00  1.000183e+00  1.000183e+00  1.000183e+00  1.000183e+00   \n",
       "min   -5.304026e+00 -4.576742e+00 -4.055969e+00 -3.927953e+00 -4.722705e+00   \n",
       "25%   -6.717914e-01 -5.687730e-01 -5.521012e-01 -6.123356e-01 -6.753495e-01   \n",
       "50%    2.820311e-02  1.175528e-01  1.046891e-01 -2.412203e-02  4.313718e-02   \n",
       "75%    6.711735e-01  6.584625e-01  7.084924e-01  6.114238e-01  6.659653e-01   \n",
       "max    3.107173e+00  2.577024e+00  2.984092e+00  5.459884e+00  3.696341e+00   \n",
       "\n",
       "             mfcc_5        mfcc_6        mfcc_7        mfcc_8        mfcc_9  \\\n",
       "count  2.730000e+03  2.730000e+03  2.730000e+03  2.730000e+03  2.730000e+03   \n",
       "mean  -6.018791e-18 -1.191965e-16  2.785724e-17 -2.871126e-17 -1.301360e-17   \n",
       "std    1.000183e+00  1.000183e+00  1.000183e+00  1.000183e+00  1.000183e+00   \n",
       "min   -3.742513e+00 -3.446451e+00 -3.581297e+00 -4.174816e+00 -4.071939e+00   \n",
       "25%   -6.273742e-01 -6.416874e-01 -6.192902e-01 -6.257150e-01 -5.732595e-01   \n",
       "50%   -1.720562e-02  1.393500e-02 -1.476739e-02 -1.281406e-02  4.153985e-02   \n",
       "75%    6.478918e-01  6.590574e-01  6.138842e-01  5.846345e-01  6.270869e-01   \n",
       "max    4.946857e+00  3.334387e+00  5.012965e+00  5.309098e+00  3.482304e+00   \n",
       "\n",
       "       ...       mfcc_30       mfcc_31       mfcc_32       mfcc_33  \\\n",
       "count  ...  2.730000e+03  2.730000e+03  2.730000e+03  2.730000e+03   \n",
       "mean   ... -4.050484e-17 -2.391250e-17 -8.316506e-17  7.161549e-17   \n",
       "std    ...  1.000183e+00  1.000183e+00  1.000183e+00  1.000183e+00   \n",
       "min    ... -6.523359e+00 -5.095152e+00 -3.373265e+00 -4.569900e+00   \n",
       "25%    ... -6.027892e-01 -5.934565e-01 -6.620635e-01 -5.966032e-01   \n",
       "50%    ... -5.655705e-02 -3.816292e-03 -1.248205e-01  1.327996e-02   \n",
       "75%    ...  5.781046e-01  5.702201e-01  5.679978e-01  5.840660e-01   \n",
       "max    ...  4.489061e+00  7.237955e+00  5.343588e+00  4.798363e+00   \n",
       "\n",
       "            mfcc_34       mfcc_35       mfcc_36       mfcc_37       mfcc_38  \\\n",
       "count  2.730000e+03  2.730000e+03  2.730000e+03  2.730000e+03  2.730000e+03   \n",
       "mean   8.434442e-17 -1.213112e-16 -8.442575e-17 -2.846726e-18  6.612537e-17   \n",
       "std    1.000183e+00  1.000183e+00  1.000183e+00  1.000183e+00  1.000183e+00   \n",
       "min   -3.908238e+00 -5.391141e+00 -5.854865e+00 -5.030977e+00 -5.545018e+00   \n",
       "25%   -6.244224e-01 -6.061979e-01 -6.558736e-01 -6.022021e-01 -6.497748e-01   \n",
       "50%   -1.050297e-01  3.138745e-03 -1.069318e-01 -1.950243e-03 -1.374201e-01   \n",
       "75%    5.819345e-01  5.739366e-01  5.593109e-01  5.709235e-01  5.588487e-01   \n",
       "max    4.784788e+00  5.238797e+00  5.421757e+00  5.233231e+00  5.101888e+00   \n",
       "\n",
       "            mfcc_39  \n",
       "count  2.730000e+03  \n",
       "mean   5.505873e-17  \n",
       "std    1.000183e+00  \n",
       "min   -5.968292e+00  \n",
       "25%   -5.956420e-01  \n",
       "50%    6.653865e-03  \n",
       "75%    5.706071e-01  \n",
       "max    5.000673e+00  \n",
       "\n",
       "[8 rows x 40 columns]"
      ]
     },
     "execution_count": 48,
     "metadata": {},
     "output_type": "execute_result"
    }
   ],
   "source": [
    "mfcc_df_norm.describe()"
   ]
  },
  {
   "cell_type": "code",
   "execution_count": 51,
   "metadata": {},
   "outputs": [],
   "source": [
    "le = LabelEncoder()\n",
    "encoded_labels = le.fit_transform(target_labels)"
   ]
  },
  {
   "cell_type": "code",
   "execution_count": 52,
   "metadata": {},
   "outputs": [
    {
     "data": {
      "text/plain": [
       "array([ 0,  0,  0, ..., 90, 90, 90])"
      ]
     },
     "execution_count": 52,
     "metadata": {},
     "output_type": "execute_result"
    }
   ],
   "source": [
    "encoded_labels"
   ]
  },
  {
   "cell_type": "code",
   "execution_count": 53,
   "metadata": {},
   "outputs": [],
   "source": [
    "x_train, x_test, y_train, y_test = train_test_split(mfcc_df_norm, encoded_labels, test_size=0.25)"
   ]
  },
  {
   "cell_type": "code",
   "execution_count": 54,
   "metadata": {},
   "outputs": [],
   "source": [
    "dtc = DecisionTreeClassifier()"
   ]
  },
  {
   "cell_type": "code",
   "execution_count": 55,
   "metadata": {},
   "outputs": [
    {
     "data": {
      "text/plain": [
       "DecisionTreeClassifier(class_weight=None, criterion='gini', max_depth=None,\n",
       "                       max_features=None, max_leaf_nodes=None,\n",
       "                       min_impurity_decrease=0.0, min_impurity_split=None,\n",
       "                       min_samples_leaf=1, min_samples_split=2,\n",
       "                       min_weight_fraction_leaf=0.0, presort=False,\n",
       "                       random_state=None, splitter='best')"
      ]
     },
     "execution_count": 55,
     "metadata": {},
     "output_type": "execute_result"
    }
   ],
   "source": [
    "dtc.fit(x_train, y_train)"
   ]
  },
  {
   "cell_type": "code",
   "execution_count": 56,
   "metadata": {},
   "outputs": [
    {
     "data": {
      "text/plain": [
       "0.9995114802149487"
      ]
     },
     "execution_count": 56,
     "metadata": {},
     "output_type": "execute_result"
    }
   ],
   "source": [
    "dtc.score(x_train, y_train)"
   ]
  },
  {
   "cell_type": "code",
   "execution_count": 57,
   "metadata": {},
   "outputs": [
    {
     "data": {
      "text/plain": [
       "0.09224011713030747"
      ]
     },
     "execution_count": 57,
     "metadata": {},
     "output_type": "execute_result"
    }
   ],
   "source": [
    "dtc.score(x_test, y_test)"
   ]
  },
  {
   "cell_type": "code",
   "execution_count": 58,
   "metadata": {},
   "outputs": [],
   "source": [
    "from sklearn.model_selection import GridSearchCV"
   ]
  },
  {
   "cell_type": "code",
   "execution_count": 59,
   "metadata": {},
   "outputs": [],
   "source": [
    "param_grid = {'criterion': ['gini', 'entropy'],\n",
    "             'max_features': np.arange(2, 40, 2),\n",
    "             'max_depth': np.arange(1, 20, 1)}\n",
    "dtc_gs = GridSearchCV(dtc, param_grid, n_jobs=-1, cv=3)"
   ]
  },
  {
   "cell_type": "code",
   "execution_count": 60,
   "metadata": {},
   "outputs": [
    {
     "data": {
      "text/plain": [
       "GridSearchCV(cv=3, error_score='raise-deprecating',\n",
       "             estimator=DecisionTreeClassifier(class_weight=None,\n",
       "                                              criterion='gini', max_depth=None,\n",
       "                                              max_features=None,\n",
       "                                              max_leaf_nodes=None,\n",
       "                                              min_impurity_decrease=0.0,\n",
       "                                              min_impurity_split=None,\n",
       "                                              min_samples_leaf=1,\n",
       "                                              min_samples_split=2,\n",
       "                                              min_weight_fraction_leaf=0.0,\n",
       "                                              presort=False, random_state=None,\n",
       "                                              splitter='best'),\n",
       "             iid='warn', n_jobs=-1,\n",
       "             param_grid={'criterion': ['gini', 'entropy'],\n",
       "                         'max_depth': array([ 1,  2,  3,  4,  5,  6,  7,  8,  9, 10, 11, 12, 13, 14, 15, 16, 17,\n",
       "       18, 19]),\n",
       "                         'max_features': array([ 2,  4,  6,  8, 10, 12, 14, 16, 18, 20, 22, 24, 26, 28, 30, 32, 34,\n",
       "       36, 38])},\n",
       "             pre_dispatch='2*n_jobs', refit=True, return_train_score=False,\n",
       "             scoring=None, verbose=0)"
      ]
     },
     "execution_count": 60,
     "metadata": {},
     "output_type": "execute_result"
    }
   ],
   "source": [
    "dtc_gs.fit(x_train, y_train)"
   ]
  },
  {
   "cell_type": "code",
   "execution_count": 61,
   "metadata": {},
   "outputs": [
    {
     "data": {
      "text/plain": [
       "0.07327796775769418"
      ]
     },
     "execution_count": 61,
     "metadata": {},
     "output_type": "execute_result"
    }
   ],
   "source": [
    "dtc_gs.best_score_"
   ]
  },
  {
   "cell_type": "code",
   "execution_count": 62,
   "metadata": {},
   "outputs": [
    {
     "data": {
      "text/plain": [
       "DecisionTreeClassifier(class_weight=None, criterion='gini', max_depth=17,\n",
       "                       max_features=18, max_leaf_nodes=None,\n",
       "                       min_impurity_decrease=0.0, min_impurity_split=None,\n",
       "                       min_samples_leaf=1, min_samples_split=2,\n",
       "                       min_weight_fraction_leaf=0.0, presort=False,\n",
       "                       random_state=None, splitter='best')"
      ]
     },
     "execution_count": 62,
     "metadata": {},
     "output_type": "execute_result"
    }
   ],
   "source": [
    "dtc_gs.best_estimator_"
   ]
  },
  {
   "cell_type": "code",
   "execution_count": 63,
   "metadata": {},
   "outputs": [],
   "source": [
    "from sklearn.svm import SVC"
   ]
  },
  {
   "cell_type": "code",
   "execution_count": 73,
   "metadata": {},
   "outputs": [],
   "source": [
    "svc = SVC(probability=True)"
   ]
  },
  {
   "cell_type": "code",
   "execution_count": 74,
   "metadata": {},
   "outputs": [],
   "source": [
    "param_grid = {'C': 10**np.arange(-2.0, 3.0, 1.0),\n",
    "             'kernel': ['poly', 'rbf', 'linear']}\n",
    "\n",
    "svc_gs = GridSearchCV(svc, param_grid, cv=3, n_jobs=-1)"
   ]
  },
  {
   "cell_type": "code",
   "execution_count": 75,
   "metadata": {},
   "outputs": [
    {
     "data": {
      "text/plain": [
       "GridSearchCV(cv=3, error_score='raise-deprecating',\n",
       "             estimator=SVC(C=1.0, cache_size=200, class_weight=None, coef0=0.0,\n",
       "                           decision_function_shape='ovr', degree=3,\n",
       "                           gamma='auto_deprecated', kernel='rbf', max_iter=-1,\n",
       "                           probability=True, random_state=None, shrinking=True,\n",
       "                           tol=0.001, verbose=False),\n",
       "             iid='warn', n_jobs=-1,\n",
       "             param_grid={'C': array([1.e-02, 1.e-01, 1.e+00, 1.e+01, 1.e+02]),\n",
       "                         'kernel': ['poly', 'rbf', 'linear']},\n",
       "             pre_dispatch='2*n_jobs', refit=True, return_train_score=False,\n",
       "             scoring=None, verbose=0)"
      ]
     },
     "execution_count": 75,
     "metadata": {},
     "output_type": "execute_result"
    }
   ],
   "source": [
    "svc_gs.fit(x_train, y_train)"
   ]
  },
  {
   "cell_type": "code",
   "execution_count": 76,
   "metadata": {},
   "outputs": [
    {
     "data": {
      "text/plain": [
       "0.17537860283341475"
      ]
     },
     "execution_count": 76,
     "metadata": {},
     "output_type": "execute_result"
    }
   ],
   "source": [
    "svc_gs.best_score_"
   ]
  }
 ],
 "metadata": {
  "kernelspec": {
   "display_name": "Python 3",
   "language": "python",
   "name": "python3"
  },
  "language_info": {
   "codemirror_mode": {
    "name": "ipython",
    "version": 3
   },
   "file_extension": ".py",
   "mimetype": "text/x-python",
   "name": "python",
   "nbconvert_exporter": "python",
   "pygments_lexer": "ipython3",
   "version": "3.7.4"
  }
 },
 "nbformat": 4,
 "nbformat_minor": 4
}
