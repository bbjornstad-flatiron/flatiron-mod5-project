{
 "cells": [
  {
   "cell_type": "markdown",
   "metadata": {},
   "source": [
    "# Feature Extraction and Exploratory Data Analysis\n",
    "----\n",
    "In this interactive notebook, we will handle the introductory feature extraction processing of our data, and perform some exploratory data analysis to see which features may be the most helpful in classification. We will also perform some cleaning procedures here."
   ]
  },
  {
   "cell_type": "code",
   "execution_count": 1,
   "metadata": {},
   "outputs": [],
   "source": [
    "import pandas as pd\n",
    "import numpy as np\n",
    "import seaborn as sns\n",
    "import matplotlib.pyplot as plt\n",
    "from afe import AudioFeatureExtractor, BatchExtractor, FeatureVisualizer\n",
    "\n",
    "import librosa.display"
   ]
  },
  {
   "cell_type": "code",
   "execution_count": 2,
   "metadata": {},
   "outputs": [],
   "source": [
    "%load_ext autoreload\n",
    "%autoreload 2\n",
    "import warnings\n",
    "warnings.filterwarnings('ignore')"
   ]
  },
  {
   "cell_type": "markdown",
   "metadata": {},
   "source": [
    "Let's instantiate a new AudioFeatureExtractor object, which we will need to pull relevant features out of our audio samples. In particular, we will begin our investigation with the Mel Frequency Cepstral Coefficients (mfccs). More information on these features can be found at the wikipedia page for the [Mel-frequncy cepstrum](https://en.wikipedia.org/wiki/Mel-frequency_cepstrum)."
   ]
  },
  {
   "cell_type": "code",
   "execution_count": 3,
   "metadata": {},
   "outputs": [],
   "source": [
    "extractor = AudioFeatureExtractor()"
   ]
  },
  {
   "cell_type": "markdown",
   "metadata": {},
   "source": [
    "Let's also read in the all important index file for our bird vocalization data. In particular, we should do some exploration about our targets and drop unneeded columns."
   ]
  },
  {
   "cell_type": "code",
   "execution_count": 4,
   "metadata": {},
   "outputs": [],
   "source": [
    "bird_index = pd.read_csv('bird_vocalization_index.csv', index_col=0)"
   ]
  },
  {
   "cell_type": "code",
   "execution_count": 5,
   "metadata": {},
   "outputs": [
    {
     "data": {
      "text/html": [
       "<div>\n",
       "<style scoped>\n",
       "    .dataframe tbody tr th:only-of-type {\n",
       "        vertical-align: middle;\n",
       "    }\n",
       "\n",
       "    .dataframe tbody tr th {\n",
       "        vertical-align: top;\n",
       "    }\n",
       "\n",
       "    .dataframe thead th {\n",
       "        text-align: right;\n",
       "    }\n",
       "</style>\n",
       "<table border=\"1\" class=\"dataframe\">\n",
       "  <thead>\n",
       "    <tr style=\"text-align: right;\">\n",
       "      <th></th>\n",
       "      <th>country</th>\n",
       "      <th>duration_seconds</th>\n",
       "      <th>english_cname</th>\n",
       "      <th>file_id</th>\n",
       "      <th>file_name</th>\n",
       "      <th>file_url</th>\n",
       "      <th>genus</th>\n",
       "      <th>latitude</th>\n",
       "      <th>license</th>\n",
       "      <th>location</th>\n",
       "      <th>longitude</th>\n",
       "      <th>recordist</th>\n",
       "      <th>recordist_url</th>\n",
       "      <th>sonogram_url</th>\n",
       "      <th>species</th>\n",
       "      <th>type</th>\n",
       "      <th>remarks</th>\n",
       "      <th>full_name</th>\n",
       "    </tr>\n",
       "  </thead>\n",
       "  <tbody>\n",
       "    <tr>\n",
       "      <td>0</td>\n",
       "      <td>United States</td>\n",
       "      <td>3</td>\n",
       "      <td>Abert's Towhee</td>\n",
       "      <td>17804</td>\n",
       "      <td>XC17804.mp3</td>\n",
       "      <td>https://www.xeno-canto.org/17804/download</td>\n",
       "      <td>Melozone</td>\n",
       "      <td>33.3117</td>\n",
       "      <td>http://creativecommons.org/licenses/by-nc-nd/2.5/</td>\n",
       "      <td>Cibola National Wildlife Refuge, Cibola, Arizo...</td>\n",
       "      <td>-114.68912</td>\n",
       "      <td>Nathan Pieplow</td>\n",
       "      <td>https://www.xeno-canto.org/contributor/EKKJJJRDJY</td>\n",
       "      <td>https://www.xeno-canto.org/sounds/uploaded/EKK...</td>\n",
       "      <td>aberti</td>\n",
       "      <td>'seet' call</td>\n",
       "      <td>XC17804 © Nathan Pieplow // Cibola National Wi...</td>\n",
       "      <td>Abert's Towhee (Melozone aberti)</td>\n",
       "    </tr>\n",
       "    <tr>\n",
       "      <td>1</td>\n",
       "      <td>United States</td>\n",
       "      <td>4</td>\n",
       "      <td>Abert's Towhee</td>\n",
       "      <td>177367</td>\n",
       "      <td>XC177367.mp3</td>\n",
       "      <td>https://www.xeno-canto.org/177367/download</td>\n",
       "      <td>Melozone</td>\n",
       "      <td>34.2850</td>\n",
       "      <td>http://creativecommons.org/licenses/by-nc-sa/4.0/</td>\n",
       "      <td>Bill Williams River NWR, Arizona, United States</td>\n",
       "      <td>-114.06900</td>\n",
       "      <td>Lauren Harter</td>\n",
       "      <td>https://www.xeno-canto.org/contributor/YQNGFTBRRT</td>\n",
       "      <td>https://www.xeno-canto.org/sounds/uploaded/YQN...</td>\n",
       "      <td>aberti</td>\n",
       "      <td>call</td>\n",
       "      <td>XC177367 © Lauren Harter // Bill Williams Rive...</td>\n",
       "      <td>Abert's Towhee (Melozone aberti dumeticola)</td>\n",
       "    </tr>\n",
       "    <tr>\n",
       "      <td>2</td>\n",
       "      <td>United States</td>\n",
       "      <td>4</td>\n",
       "      <td>Abert's Towhee</td>\n",
       "      <td>145505</td>\n",
       "      <td>XC145505.mp3</td>\n",
       "      <td>https://www.xeno-canto.org/145505/download</td>\n",
       "      <td>Melozone</td>\n",
       "      <td>34.2850</td>\n",
       "      <td>http://creativecommons.org/licenses/by-nc-sa/3.0/</td>\n",
       "      <td>Bill Williams River NWR, Arizona, United States</td>\n",
       "      <td>-114.06900</td>\n",
       "      <td>Lauren Harter</td>\n",
       "      <td>https://www.xeno-canto.org/contributor/YQNGFTBRRT</td>\n",
       "      <td>https://www.xeno-canto.org/sounds/uploaded/YQN...</td>\n",
       "      <td>aberti</td>\n",
       "      <td>Squeal duet</td>\n",
       "      <td>XC145505 © Lauren Harter // Bill Williams Rive...</td>\n",
       "      <td>Abert's Towhee (Melozone aberti dumeticola)</td>\n",
       "    </tr>\n",
       "    <tr>\n",
       "      <td>3</td>\n",
       "      <td>United States</td>\n",
       "      <td>5</td>\n",
       "      <td>Abert's Towhee</td>\n",
       "      <td>228159</td>\n",
       "      <td>XC228159.mp3</td>\n",
       "      <td>https://www.xeno-canto.org/228159/download</td>\n",
       "      <td>Melozone</td>\n",
       "      <td>33.1188</td>\n",
       "      <td>http://creativecommons.org/licenses/by-nc-nd/4.0/</td>\n",
       "      <td>Salton Sea, CA, United States</td>\n",
       "      <td>-115.79450</td>\n",
       "      <td>Peter Boesman</td>\n",
       "      <td>https://www.xeno-canto.org/contributor/OOECIWCSWV</td>\n",
       "      <td>https://www.xeno-canto.org/sounds/uploaded/OOE...</td>\n",
       "      <td>aberti</td>\n",
       "      <td>interaction duet</td>\n",
       "      <td>XC228159 © Peter Boesman // Salton Sea, CA, Un...</td>\n",
       "      <td>Abert's Towhee (Melozone aberti)</td>\n",
       "    </tr>\n",
       "    <tr>\n",
       "      <td>4</td>\n",
       "      <td>United States</td>\n",
       "      <td>5</td>\n",
       "      <td>Abert's Towhee</td>\n",
       "      <td>51313</td>\n",
       "      <td>XC51313.mp3</td>\n",
       "      <td>https://www.xeno-canto.org/51313/download</td>\n",
       "      <td>Melozone</td>\n",
       "      <td>36.0628</td>\n",
       "      <td>http://creativecommons.org/licenses/by-nc-sa/3.0/</td>\n",
       "      <td>Sunset Park, Las Vegas, Nevada, United States</td>\n",
       "      <td>-115.11280</td>\n",
       "      <td>Mike Nelson</td>\n",
       "      <td>https://www.xeno-canto.org/contributor/PWDLINYMKL</td>\n",
       "      <td>https://www.xeno-canto.org/sounds/uploaded/PWD...</td>\n",
       "      <td>aberti</td>\n",
       "      <td>call</td>\n",
       "      <td>XC51313 © Mike Nelson // Sunset Park, Las Vega...</td>\n",
       "      <td>Abert's Towhee (Melozone aberti dumeticola)</td>\n",
       "    </tr>\n",
       "  </tbody>\n",
       "</table>\n",
       "</div>"
      ],
      "text/plain": [
       "         country  duration_seconds   english_cname  file_id     file_name  \\\n",
       "0  United States                 3  Abert's Towhee    17804   XC17804.mp3   \n",
       "1  United States                 4  Abert's Towhee   177367  XC177367.mp3   \n",
       "2  United States                 4  Abert's Towhee   145505  XC145505.mp3   \n",
       "3  United States                 5  Abert's Towhee   228159  XC228159.mp3   \n",
       "4  United States                 5  Abert's Towhee    51313   XC51313.mp3   \n",
       "\n",
       "                                     file_url     genus  latitude  \\\n",
       "0   https://www.xeno-canto.org/17804/download  Melozone   33.3117   \n",
       "1  https://www.xeno-canto.org/177367/download  Melozone   34.2850   \n",
       "2  https://www.xeno-canto.org/145505/download  Melozone   34.2850   \n",
       "3  https://www.xeno-canto.org/228159/download  Melozone   33.1188   \n",
       "4   https://www.xeno-canto.org/51313/download  Melozone   36.0628   \n",
       "\n",
       "                                             license  \\\n",
       "0  http://creativecommons.org/licenses/by-nc-nd/2.5/   \n",
       "1  http://creativecommons.org/licenses/by-nc-sa/4.0/   \n",
       "2  http://creativecommons.org/licenses/by-nc-sa/3.0/   \n",
       "3  http://creativecommons.org/licenses/by-nc-nd/4.0/   \n",
       "4  http://creativecommons.org/licenses/by-nc-sa/3.0/   \n",
       "\n",
       "                                            location  longitude  \\\n",
       "0  Cibola National Wildlife Refuge, Cibola, Arizo... -114.68912   \n",
       "1    Bill Williams River NWR, Arizona, United States -114.06900   \n",
       "2    Bill Williams River NWR, Arizona, United States -114.06900   \n",
       "3                      Salton Sea, CA, United States -115.79450   \n",
       "4      Sunset Park, Las Vegas, Nevada, United States -115.11280   \n",
       "\n",
       "        recordist                                      recordist_url  \\\n",
       "0  Nathan Pieplow  https://www.xeno-canto.org/contributor/EKKJJJRDJY   \n",
       "1   Lauren Harter  https://www.xeno-canto.org/contributor/YQNGFTBRRT   \n",
       "2   Lauren Harter  https://www.xeno-canto.org/contributor/YQNGFTBRRT   \n",
       "3   Peter Boesman  https://www.xeno-canto.org/contributor/OOECIWCSWV   \n",
       "4     Mike Nelson  https://www.xeno-canto.org/contributor/PWDLINYMKL   \n",
       "\n",
       "                                        sonogram_url species  \\\n",
       "0  https://www.xeno-canto.org/sounds/uploaded/EKK...  aberti   \n",
       "1  https://www.xeno-canto.org/sounds/uploaded/YQN...  aberti   \n",
       "2  https://www.xeno-canto.org/sounds/uploaded/YQN...  aberti   \n",
       "3  https://www.xeno-canto.org/sounds/uploaded/OOE...  aberti   \n",
       "4  https://www.xeno-canto.org/sounds/uploaded/PWD...  aberti   \n",
       "\n",
       "               type                                            remarks  \\\n",
       "0       'seet' call  XC17804 © Nathan Pieplow // Cibola National Wi...   \n",
       "1              call  XC177367 © Lauren Harter // Bill Williams Rive...   \n",
       "2       Squeal duet  XC145505 © Lauren Harter // Bill Williams Rive...   \n",
       "3  interaction duet  XC228159 © Peter Boesman // Salton Sea, CA, Un...   \n",
       "4              call  XC51313 © Mike Nelson // Sunset Park, Las Vega...   \n",
       "\n",
       "                                     full_name  \n",
       "0             Abert's Towhee (Melozone aberti)  \n",
       "1  Abert's Towhee (Melozone aberti dumeticola)  \n",
       "2  Abert's Towhee (Melozone aberti dumeticola)  \n",
       "3             Abert's Towhee (Melozone aberti)  \n",
       "4  Abert's Towhee (Melozone aberti dumeticola)  "
      ]
     },
     "execution_count": 5,
     "metadata": {},
     "output_type": "execute_result"
    }
   ],
   "source": [
    "bird_index.head()"
   ]
  },
  {
   "cell_type": "code",
   "execution_count": 6,
   "metadata": {},
   "outputs": [
    {
     "data": {
      "text/plain": [
       "California Thrasher         30\n",
       "Bell's Sparrow              30\n",
       "Rufous-crowned Sparrow      30\n",
       "Mountain Quail              30\n",
       "Black-headed Grosbeak       30\n",
       "                            ..\n",
       "Bell's Vireo                30\n",
       "Thick-billed Fox Sparrow    30\n",
       "Hermit Thrush               30\n",
       "Northern Pygmy Owl          30\n",
       "Black-tailed Gnatcatcher    30\n",
       "Name: english_cname, Length: 91, dtype: int64"
      ]
     },
     "execution_count": 6,
     "metadata": {},
     "output_type": "execute_result"
    }
   ],
   "source": [
    "bird_index.english_cname.value_counts()"
   ]
  },
  {
   "cell_type": "markdown",
   "metadata": {},
   "source": [
    "As we can see, this is a balanced dataset, though each category has very few samples. This will likely prove a challenge that we will need to overcome. Out of curiosity, we may want to consider defining our target instead as the genus of the bird, so as to potentially increase the number of samples in each target label."
   ]
  },
  {
   "cell_type": "code",
   "execution_count": 7,
   "metadata": {},
   "outputs": [
    {
     "data": {
      "text/plain": [
       "Vireo             150\n",
       "Empidonax          90\n",
       "Polioptila         90\n",
       "Corvus             60\n",
       "Catharus           60\n",
       "                 ... \n",
       "Artemisiospiza     30\n",
       "Aegolius           30\n",
       "Setophaga          30\n",
       "Nucifraga          30\n",
       "Aphelocoma         30\n",
       "Name: genus, Length: 68, dtype: int64"
      ]
     },
     "execution_count": 7,
     "metadata": {},
     "output_type": "execute_result"
    }
   ],
   "source": [
    "bird_index.genus.value_counts()"
   ]
  },
  {
   "cell_type": "markdown",
   "metadata": {},
   "source": [
    "This has less overall categories but it introduces imbalance into the dataset. We will have to do some exploration to see if one or the other is more accurate. In general, a model that classifies based on genus is just less useful than one that could also predict the full species, as doing so would simultaneously predict the genus if needed.\n",
    "\n",
    "Anyhow, let's continue on with our data cleaning process."
   ]
  },
  {
   "cell_type": "code",
   "execution_count": 8,
   "metadata": {},
   "outputs": [],
   "source": [
    "bird_index_trim = bird_index.drop(columns=[\n",
    "    'country',\n",
    "    'file_url',\n",
    "    'license',\n",
    "    'recordist',\n",
    "    'recordist_url',\n",
    "    'sonogram_url',\n",
    "    'remarks',\n",
    "    'latitude',\n",
    "    'longitude',\n",
    "    'location',\n",
    "    'full_name'])"
   ]
  },
  {
   "cell_type": "code",
   "execution_count": 9,
   "metadata": {},
   "outputs": [
    {
     "data": {
      "text/html": [
       "<div>\n",
       "<style scoped>\n",
       "    .dataframe tbody tr th:only-of-type {\n",
       "        vertical-align: middle;\n",
       "    }\n",
       "\n",
       "    .dataframe tbody tr th {\n",
       "        vertical-align: top;\n",
       "    }\n",
       "\n",
       "    .dataframe thead th {\n",
       "        text-align: right;\n",
       "    }\n",
       "</style>\n",
       "<table border=\"1\" class=\"dataframe\">\n",
       "  <thead>\n",
       "    <tr style=\"text-align: right;\">\n",
       "      <th></th>\n",
       "      <th>duration_seconds</th>\n",
       "      <th>english_cname</th>\n",
       "      <th>file_id</th>\n",
       "      <th>file_name</th>\n",
       "      <th>genus</th>\n",
       "      <th>species</th>\n",
       "      <th>type</th>\n",
       "    </tr>\n",
       "  </thead>\n",
       "  <tbody>\n",
       "    <tr>\n",
       "      <td>0</td>\n",
       "      <td>3</td>\n",
       "      <td>Abert's Towhee</td>\n",
       "      <td>17804</td>\n",
       "      <td>XC17804.mp3</td>\n",
       "      <td>Melozone</td>\n",
       "      <td>aberti</td>\n",
       "      <td>'seet' call</td>\n",
       "    </tr>\n",
       "    <tr>\n",
       "      <td>1</td>\n",
       "      <td>4</td>\n",
       "      <td>Abert's Towhee</td>\n",
       "      <td>177367</td>\n",
       "      <td>XC177367.mp3</td>\n",
       "      <td>Melozone</td>\n",
       "      <td>aberti</td>\n",
       "      <td>call</td>\n",
       "    </tr>\n",
       "    <tr>\n",
       "      <td>2</td>\n",
       "      <td>4</td>\n",
       "      <td>Abert's Towhee</td>\n",
       "      <td>145505</td>\n",
       "      <td>XC145505.mp3</td>\n",
       "      <td>Melozone</td>\n",
       "      <td>aberti</td>\n",
       "      <td>Squeal duet</td>\n",
       "    </tr>\n",
       "    <tr>\n",
       "      <td>3</td>\n",
       "      <td>5</td>\n",
       "      <td>Abert's Towhee</td>\n",
       "      <td>228159</td>\n",
       "      <td>XC228159.mp3</td>\n",
       "      <td>Melozone</td>\n",
       "      <td>aberti</td>\n",
       "      <td>interaction duet</td>\n",
       "    </tr>\n",
       "    <tr>\n",
       "      <td>4</td>\n",
       "      <td>5</td>\n",
       "      <td>Abert's Towhee</td>\n",
       "      <td>51313</td>\n",
       "      <td>XC51313.mp3</td>\n",
       "      <td>Melozone</td>\n",
       "      <td>aberti</td>\n",
       "      <td>call</td>\n",
       "    </tr>\n",
       "  </tbody>\n",
       "</table>\n",
       "</div>"
      ],
      "text/plain": [
       "   duration_seconds   english_cname  file_id     file_name     genus species  \\\n",
       "0                 3  Abert's Towhee    17804   XC17804.mp3  Melozone  aberti   \n",
       "1                 4  Abert's Towhee   177367  XC177367.mp3  Melozone  aberti   \n",
       "2                 4  Abert's Towhee   145505  XC145505.mp3  Melozone  aberti   \n",
       "3                 5  Abert's Towhee   228159  XC228159.mp3  Melozone  aberti   \n",
       "4                 5  Abert's Towhee    51313   XC51313.mp3  Melozone  aberti   \n",
       "\n",
       "               type  \n",
       "0       'seet' call  \n",
       "1              call  \n",
       "2       Squeal duet  \n",
       "3  interaction duet  \n",
       "4              call  "
      ]
     },
     "execution_count": 9,
     "metadata": {},
     "output_type": "execute_result"
    }
   ],
   "source": [
    "bird_index_trim.head()"
   ]
  },
  {
   "cell_type": "markdown",
   "metadata": {},
   "source": [
    "## Small Sample Testing\n",
    "----\n",
    "Here we do testing on a much smaller sample size."
   ]
  },
  {
   "cell_type": "code",
   "execution_count": 13,
   "metadata": {},
   "outputs": [],
   "source": [
    "testing_sample = bird_index_trim.sample(n=2)"
   ]
  },
  {
   "cell_type": "code",
   "execution_count": 14,
   "metadata": {},
   "outputs": [
    {
     "data": {
      "text/html": [
       "<div>\n",
       "<style scoped>\n",
       "    .dataframe tbody tr th:only-of-type {\n",
       "        vertical-align: middle;\n",
       "    }\n",
       "\n",
       "    .dataframe tbody tr th {\n",
       "        vertical-align: top;\n",
       "    }\n",
       "\n",
       "    .dataframe thead th {\n",
       "        text-align: right;\n",
       "    }\n",
       "</style>\n",
       "<table border=\"1\" class=\"dataframe\">\n",
       "  <thead>\n",
       "    <tr style=\"text-align: right;\">\n",
       "      <th></th>\n",
       "      <th>duration_seconds</th>\n",
       "      <th>english_cname</th>\n",
       "      <th>file_id</th>\n",
       "      <th>file_name</th>\n",
       "      <th>genus</th>\n",
       "      <th>species</th>\n",
       "      <th>type</th>\n",
       "    </tr>\n",
       "  </thead>\n",
       "  <tbody>\n",
       "    <tr>\n",
       "      <td>1948</td>\n",
       "      <td>57</td>\n",
       "      <td>Pygmy Nuthatch</td>\n",
       "      <td>229772</td>\n",
       "      <td>XC229772.mp3</td>\n",
       "      <td>Sitta</td>\n",
       "      <td>pygmaea</td>\n",
       "      <td>call</td>\n",
       "    </tr>\n",
       "    <tr>\n",
       "      <td>81</td>\n",
       "      <td>31</td>\n",
       "      <td>American Bushtit</td>\n",
       "      <td>283953</td>\n",
       "      <td>XC283953.mp3</td>\n",
       "      <td>Psaltriparus</td>\n",
       "      <td>minimus</td>\n",
       "      <td>call</td>\n",
       "    </tr>\n",
       "  </tbody>\n",
       "</table>\n",
       "</div>"
      ],
      "text/plain": [
       "      duration_seconds     english_cname  file_id     file_name         genus  \\\n",
       "1948                57    Pygmy Nuthatch   229772  XC229772.mp3         Sitta   \n",
       "81                  31  American Bushtit   283953  XC283953.mp3  Psaltriparus   \n",
       "\n",
       "      species  type  \n",
       "1948  pygmaea  call  \n",
       "81    minimus  call  "
      ]
     },
     "execution_count": 14,
     "metadata": {},
     "output_type": "execute_result"
    }
   ],
   "source": [
    "testing_sample.head()"
   ]
  },
  {
   "cell_type": "code",
   "execution_count": 15,
   "metadata": {},
   "outputs": [],
   "source": [
    "testing_sample.to_csv('test_index.csv')"
   ]
  },
  {
   "cell_type": "code",
   "execution_count": 16,
   "metadata": {},
   "outputs": [],
   "source": [
    "sample_be = BatchExtractor(frame_length=2048, audio_index='test_index.csv')"
   ]
  },
  {
   "cell_type": "code",
   "execution_count": 17,
   "metadata": {},
   "outputs": [
    {
     "name": "stdout",
     "output_type": "stream",
     "text": [
      "mfcc\n",
      "melspec\n",
      "zcr\n",
      "ccqt\n",
      "cstft\n",
      "ccens\n",
      "rms\n",
      "centroid\n",
      "bandwidth\n",
      "contrast\n",
      "flatness\n",
      "rolloff\n",
      "tonnetz\n"
     ]
    }
   ],
   "source": [
    "sample_be.batch_extract_and_merge(list(sample_be.extraction_dict.keys())[:-1], results_folder='feature_extraction_sample/')"
   ]
  },
  {
   "cell_type": "markdown",
   "metadata": {},
   "source": [
    "## Full Feature Extraction\n",
    "----\n",
    "This is gonna take a while"
   ]
  },
  {
   "cell_type": "code",
   "execution_count": 18,
   "metadata": {},
   "outputs": [],
   "source": [
    "full_be = BatchExtractor(frame_length=2048, audio_folder='raw_data/', audio_index='bird_vocalization_index.csv')\n",
    "extraction_methods = list(full_be.extraction_dict.keys())[:-1]"
   ]
  },
  {
   "cell_type": "code",
   "execution_count": 20,
   "metadata": {},
   "outputs": [
    {
     "name": "stdout",
     "output_type": "stream",
     "text": [
      "mfcc\n",
      "melspec\n",
      "zcr\n",
      "ccqt\n",
      "cstft\n",
      "ccens\n",
      "rms\n",
      "centroid\n",
      "bandwidth\n",
      "contrast\n",
      "flatness\n",
      "rolloff\n",
      "tonnetz\n"
     ]
    }
   ],
   "source": [
    "full_be.batch_extract_and_merge(extraction_methods, results_folder='feature_extraction/')"
   ]
  },
  {
   "cell_type": "markdown",
   "metadata": {},
   "source": [
    "Hope it works!!!"
   ]
  },
  {
   "cell_type": "code",
   "execution_count": 43,
   "metadata": {},
   "outputs": [],
   "source": [
    "fv = FeatureVisualizer()\n",
    "\n",
    "for file_name in testing_sample.file_name:\n",
    "    name = file_name[:-4]\n",
    "    fv.plot_melspec(name).savefig(f'plots/melspecs/{name}.png')\n",
    "    plt.close()"
   ]
  }
 ],
 "metadata": {
  "kernelspec": {
   "display_name": "Python 3",
   "language": "python",
   "name": "python3"
  },
  "language_info": {
   "codemirror_mode": {
    "name": "ipython",
    "version": 3
   },
   "file_extension": ".py",
   "mimetype": "text/x-python",
   "name": "python",
   "nbconvert_exporter": "python",
   "pygments_lexer": "ipython3",
   "version": "3.7.4"
  }
 },
 "nbformat": 4,
 "nbformat_minor": 4
}
