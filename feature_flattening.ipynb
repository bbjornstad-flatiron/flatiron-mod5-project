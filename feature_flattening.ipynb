{
 "cells": [
  {
   "cell_type": "markdown",
   "metadata": {},
   "source": [
    "# Feature Flattening\n",
    "----"
   ]
  },
  {
   "cell_type": "markdown",
   "metadata": {},
   "source": [
    "Feature extraction of audio samples is a bit unique in that we necessarily have an element of timing that must be captured as it is important to our perception of the audio. All of the feature extraction processes implemented thus have framing, in which values for each feature are calculated frame by frame throughout an audio sample. Hence the resultant features are at least 1-dimensional arrays, though most of them are in fact 2-dimensional arrays. This presents a bit of difficulty in the classification process, as our currently implemented methods rely on single values. Hence, we have to do a bit of feature flattening.\n",
    "\n",
    "We will achieve this process by literally flattening each feature vector (say the first feature vector of the MFCC feature matrix) to a single row where the new features are then also segmented by frame. This will allow us to stack appropriately. In order to account for the possibility that some samples will be longer than others, we will have to pad the end of any shorter rows with 0s, so as to represent that these samples don't contain any relevant features beyond that point. This should theoretically help classification more than padding with the mean or something similar.\n",
    "\n",
    "Let's start by importing our required libraries."
   ]
  },
  {
   "cell_type": "code",
   "execution_count": 1,
   "metadata": {},
   "outputs": [],
   "source": [
    "import pandas as pd\n",
    "import numpy as np\n",
    "\n",
    "from audio_feature_extraction import BatchExtractor"
   ]
  },
  {
   "cell_type": "code",
   "execution_count": 2,
   "metadata": {},
   "outputs": [],
   "source": [
    "%load_ext autoreload\n",
    "%autoreload 2\n",
    "\n",
    "import warnings\n",
    "warnings.filterwarnings('ignore')"
   ]
  },
  {
   "cell_type": "markdown",
   "metadata": {},
   "source": [
    "We'll initialize a new BatchExtractor object, which contains a method that will flatten all the merged features for each sample into a single (enormous) dataframe. This will obviously not be suitable directly for classification, as we will need to do some dimensionality reduction to reduce the number of features before classification will be not a painful process for me or the computer. Note that this new BatchExractor object will not be used for any actual extraction, it just contains the method we need to flatten things appropriately."
   ]
  },
  {
   "cell_type": "code",
   "execution_count": 61,
   "metadata": {},
   "outputs": [],
   "source": [
    "bird_index = pd.read_csv('bird_vocalization_index.csv', index_col=0)"
   ]
  },
  {
   "cell_type": "code",
   "execution_count": 62,
   "metadata": {},
   "outputs": [],
   "source": [
    "bird_index = bird_index.drop(columns=[\n",
    "    'country',\n",
    "    'file_url',\n",
    "    'license',\n",
    "    'recordist',\n",
    "    'recordist_url',\n",
    "    'sonogram_url',\n",
    "    'remarks',\n",
    "    'latitude',\n",
    "    'longitude',\n",
    "    'location',\n",
    "    'full_name',\n",
    "    'file_id',\n",
    "    'duration_seconds',\n",
    "    'type'])"
   ]
  },
  {
   "cell_type": "code",
   "execution_count": 63,
   "metadata": {},
   "outputs": [
    {
     "data": {
      "text/html": [
       "<div>\n",
       "<style scoped>\n",
       "    .dataframe tbody tr th:only-of-type {\n",
       "        vertical-align: middle;\n",
       "    }\n",
       "\n",
       "    .dataframe tbody tr th {\n",
       "        vertical-align: top;\n",
       "    }\n",
       "\n",
       "    .dataframe thead th {\n",
       "        text-align: right;\n",
       "    }\n",
       "</style>\n",
       "<table border=\"1\" class=\"dataframe\">\n",
       "  <thead>\n",
       "    <tr style=\"text-align: right;\">\n",
       "      <th></th>\n",
       "      <th>english_cname</th>\n",
       "      <th>file_name</th>\n",
       "      <th>genus</th>\n",
       "      <th>species</th>\n",
       "    </tr>\n",
       "  </thead>\n",
       "  <tbody>\n",
       "    <tr>\n",
       "      <td>0</td>\n",
       "      <td>Abert's Towhee</td>\n",
       "      <td>XC17804.mp3</td>\n",
       "      <td>Melozone</td>\n",
       "      <td>aberti</td>\n",
       "    </tr>\n",
       "    <tr>\n",
       "      <td>1</td>\n",
       "      <td>Abert's Towhee</td>\n",
       "      <td>XC177367.mp3</td>\n",
       "      <td>Melozone</td>\n",
       "      <td>aberti</td>\n",
       "    </tr>\n",
       "    <tr>\n",
       "      <td>2</td>\n",
       "      <td>Abert's Towhee</td>\n",
       "      <td>XC145505.mp3</td>\n",
       "      <td>Melozone</td>\n",
       "      <td>aberti</td>\n",
       "    </tr>\n",
       "    <tr>\n",
       "      <td>3</td>\n",
       "      <td>Abert's Towhee</td>\n",
       "      <td>XC228159.mp3</td>\n",
       "      <td>Melozone</td>\n",
       "      <td>aberti</td>\n",
       "    </tr>\n",
       "    <tr>\n",
       "      <td>4</td>\n",
       "      <td>Abert's Towhee</td>\n",
       "      <td>XC51313.mp3</td>\n",
       "      <td>Melozone</td>\n",
       "      <td>aberti</td>\n",
       "    </tr>\n",
       "  </tbody>\n",
       "</table>\n",
       "</div>"
      ],
      "text/plain": [
       "    english_cname     file_name     genus species\n",
       "0  Abert's Towhee   XC17804.mp3  Melozone  aberti\n",
       "1  Abert's Towhee  XC177367.mp3  Melozone  aberti\n",
       "2  Abert's Towhee  XC145505.mp3  Melozone  aberti\n",
       "3  Abert's Towhee  XC228159.mp3  Melozone  aberti\n",
       "4  Abert's Towhee   XC51313.mp3  Melozone  aberti"
      ]
     },
     "execution_count": 63,
     "metadata": {},
     "output_type": "execute_result"
    }
   ],
   "source": [
    "bird_index.head()"
   ]
  },
  {
   "cell_type": "code",
   "execution_count": 64,
   "metadata": {},
   "outputs": [],
   "source": [
    "bird_index['label'] = bird_index.apply(lambda r: f'{r.genus} {r.species}', axis=1)"
   ]
  },
  {
   "cell_type": "code",
   "execution_count": 65,
   "metadata": {},
   "outputs": [
    {
     "data": {
      "text/html": [
       "<div>\n",
       "<style scoped>\n",
       "    .dataframe tbody tr th:only-of-type {\n",
       "        vertical-align: middle;\n",
       "    }\n",
       "\n",
       "    .dataframe tbody tr th {\n",
       "        vertical-align: top;\n",
       "    }\n",
       "\n",
       "    .dataframe thead th {\n",
       "        text-align: right;\n",
       "    }\n",
       "</style>\n",
       "<table border=\"1\" class=\"dataframe\">\n",
       "  <thead>\n",
       "    <tr style=\"text-align: right;\">\n",
       "      <th></th>\n",
       "      <th>english_cname</th>\n",
       "      <th>file_name</th>\n",
       "      <th>genus</th>\n",
       "      <th>species</th>\n",
       "      <th>label</th>\n",
       "    </tr>\n",
       "  </thead>\n",
       "  <tbody>\n",
       "    <tr>\n",
       "      <td>0</td>\n",
       "      <td>Abert's Towhee</td>\n",
       "      <td>XC17804.mp3</td>\n",
       "      <td>Melozone</td>\n",
       "      <td>aberti</td>\n",
       "      <td>Melozone aberti</td>\n",
       "    </tr>\n",
       "    <tr>\n",
       "      <td>1</td>\n",
       "      <td>Abert's Towhee</td>\n",
       "      <td>XC177367.mp3</td>\n",
       "      <td>Melozone</td>\n",
       "      <td>aberti</td>\n",
       "      <td>Melozone aberti</td>\n",
       "    </tr>\n",
       "    <tr>\n",
       "      <td>2</td>\n",
       "      <td>Abert's Towhee</td>\n",
       "      <td>XC145505.mp3</td>\n",
       "      <td>Melozone</td>\n",
       "      <td>aberti</td>\n",
       "      <td>Melozone aberti</td>\n",
       "    </tr>\n",
       "    <tr>\n",
       "      <td>3</td>\n",
       "      <td>Abert's Towhee</td>\n",
       "      <td>XC228159.mp3</td>\n",
       "      <td>Melozone</td>\n",
       "      <td>aberti</td>\n",
       "      <td>Melozone aberti</td>\n",
       "    </tr>\n",
       "    <tr>\n",
       "      <td>4</td>\n",
       "      <td>Abert's Towhee</td>\n",
       "      <td>XC51313.mp3</td>\n",
       "      <td>Melozone</td>\n",
       "      <td>aberti</td>\n",
       "      <td>Melozone aberti</td>\n",
       "    </tr>\n",
       "  </tbody>\n",
       "</table>\n",
       "</div>"
      ],
      "text/plain": [
       "    english_cname     file_name     genus species            label\n",
       "0  Abert's Towhee   XC17804.mp3  Melozone  aberti  Melozone aberti\n",
       "1  Abert's Towhee  XC177367.mp3  Melozone  aberti  Melozone aberti\n",
       "2  Abert's Towhee  XC145505.mp3  Melozone  aberti  Melozone aberti\n",
       "3  Abert's Towhee  XC228159.mp3  Melozone  aberti  Melozone aberti\n",
       "4  Abert's Towhee   XC51313.mp3  Melozone  aberti  Melozone aberti"
      ]
     },
     "execution_count": 65,
     "metadata": {},
     "output_type": "execute_result"
    }
   ],
   "source": [
    "bird_index.head()"
   ]
  },
  {
   "cell_type": "code",
   "execution_count": 66,
   "metadata": {},
   "outputs": [],
   "source": [
    "bird_index['name'] = bird_index.apply(lambda r: f'{r.file_name[:-4]}', axis=1)"
   ]
  },
  {
   "cell_type": "code",
   "execution_count": 67,
   "metadata": {},
   "outputs": [
    {
     "data": {
      "text/html": [
       "<div>\n",
       "<style scoped>\n",
       "    .dataframe tbody tr th:only-of-type {\n",
       "        vertical-align: middle;\n",
       "    }\n",
       "\n",
       "    .dataframe tbody tr th {\n",
       "        vertical-align: top;\n",
       "    }\n",
       "\n",
       "    .dataframe thead th {\n",
       "        text-align: right;\n",
       "    }\n",
       "</style>\n",
       "<table border=\"1\" class=\"dataframe\">\n",
       "  <thead>\n",
       "    <tr style=\"text-align: right;\">\n",
       "      <th></th>\n",
       "      <th>english_cname</th>\n",
       "      <th>file_name</th>\n",
       "      <th>genus</th>\n",
       "      <th>species</th>\n",
       "      <th>label</th>\n",
       "      <th>name</th>\n",
       "    </tr>\n",
       "  </thead>\n",
       "  <tbody>\n",
       "    <tr>\n",
       "      <td>0</td>\n",
       "      <td>Abert's Towhee</td>\n",
       "      <td>XC17804.mp3</td>\n",
       "      <td>Melozone</td>\n",
       "      <td>aberti</td>\n",
       "      <td>Melozone aberti</td>\n",
       "      <td>XC17804</td>\n",
       "    </tr>\n",
       "    <tr>\n",
       "      <td>1</td>\n",
       "      <td>Abert's Towhee</td>\n",
       "      <td>XC177367.mp3</td>\n",
       "      <td>Melozone</td>\n",
       "      <td>aberti</td>\n",
       "      <td>Melozone aberti</td>\n",
       "      <td>XC177367</td>\n",
       "    </tr>\n",
       "    <tr>\n",
       "      <td>2</td>\n",
       "      <td>Abert's Towhee</td>\n",
       "      <td>XC145505.mp3</td>\n",
       "      <td>Melozone</td>\n",
       "      <td>aberti</td>\n",
       "      <td>Melozone aberti</td>\n",
       "      <td>XC145505</td>\n",
       "    </tr>\n",
       "    <tr>\n",
       "      <td>3</td>\n",
       "      <td>Abert's Towhee</td>\n",
       "      <td>XC228159.mp3</td>\n",
       "      <td>Melozone</td>\n",
       "      <td>aberti</td>\n",
       "      <td>Melozone aberti</td>\n",
       "      <td>XC228159</td>\n",
       "    </tr>\n",
       "    <tr>\n",
       "      <td>4</td>\n",
       "      <td>Abert's Towhee</td>\n",
       "      <td>XC51313.mp3</td>\n",
       "      <td>Melozone</td>\n",
       "      <td>aberti</td>\n",
       "      <td>Melozone aberti</td>\n",
       "      <td>XC51313</td>\n",
       "    </tr>\n",
       "    <tr>\n",
       "      <td>...</td>\n",
       "      <td>...</td>\n",
       "      <td>...</td>\n",
       "      <td>...</td>\n",
       "      <td>...</td>\n",
       "      <td>...</td>\n",
       "      <td>...</td>\n",
       "    </tr>\n",
       "    <tr>\n",
       "      <td>2725</td>\n",
       "      <td>Yellow-breasted Chat</td>\n",
       "      <td>XC278880.mp3</td>\n",
       "      <td>Icteria</td>\n",
       "      <td>virens</td>\n",
       "      <td>Icteria virens</td>\n",
       "      <td>XC278880</td>\n",
       "    </tr>\n",
       "    <tr>\n",
       "      <td>2726</td>\n",
       "      <td>Yellow-breasted Chat</td>\n",
       "      <td>XC247723.mp3</td>\n",
       "      <td>Icteria</td>\n",
       "      <td>virens</td>\n",
       "      <td>Icteria virens</td>\n",
       "      <td>XC247723</td>\n",
       "    </tr>\n",
       "    <tr>\n",
       "      <td>2727</td>\n",
       "      <td>Yellow-breasted Chat</td>\n",
       "      <td>XC408122.mp3</td>\n",
       "      <td>Icteria</td>\n",
       "      <td>virens</td>\n",
       "      <td>Icteria virens</td>\n",
       "      <td>XC408122</td>\n",
       "    </tr>\n",
       "    <tr>\n",
       "      <td>2728</td>\n",
       "      <td>Yellow-breasted Chat</td>\n",
       "      <td>XC315271.mp3</td>\n",
       "      <td>Icteria</td>\n",
       "      <td>virens</td>\n",
       "      <td>Icteria virens</td>\n",
       "      <td>XC315271</td>\n",
       "    </tr>\n",
       "    <tr>\n",
       "      <td>2729</td>\n",
       "      <td>Yellow-breasted Chat</td>\n",
       "      <td>XC412925.mp3</td>\n",
       "      <td>Icteria</td>\n",
       "      <td>virens</td>\n",
       "      <td>Icteria virens</td>\n",
       "      <td>XC412925</td>\n",
       "    </tr>\n",
       "  </tbody>\n",
       "</table>\n",
       "<p>2730 rows × 6 columns</p>\n",
       "</div>"
      ],
      "text/plain": [
       "             english_cname     file_name     genus species            label  \\\n",
       "0           Abert's Towhee   XC17804.mp3  Melozone  aberti  Melozone aberti   \n",
       "1           Abert's Towhee  XC177367.mp3  Melozone  aberti  Melozone aberti   \n",
       "2           Abert's Towhee  XC145505.mp3  Melozone  aberti  Melozone aberti   \n",
       "3           Abert's Towhee  XC228159.mp3  Melozone  aberti  Melozone aberti   \n",
       "4           Abert's Towhee   XC51313.mp3  Melozone  aberti  Melozone aberti   \n",
       "...                    ...           ...       ...     ...              ...   \n",
       "2725  Yellow-breasted Chat  XC278880.mp3   Icteria  virens   Icteria virens   \n",
       "2726  Yellow-breasted Chat  XC247723.mp3   Icteria  virens   Icteria virens   \n",
       "2727  Yellow-breasted Chat  XC408122.mp3   Icteria  virens   Icteria virens   \n",
       "2728  Yellow-breasted Chat  XC315271.mp3   Icteria  virens   Icteria virens   \n",
       "2729  Yellow-breasted Chat  XC412925.mp3   Icteria  virens   Icteria virens   \n",
       "\n",
       "          name  \n",
       "0      XC17804  \n",
       "1     XC177367  \n",
       "2     XC145505  \n",
       "3     XC228159  \n",
       "4      XC51313  \n",
       "...        ...  \n",
       "2725  XC278880  \n",
       "2726  XC247723  \n",
       "2727  XC408122  \n",
       "2728  XC315271  \n",
       "2729  XC412925  \n",
       "\n",
       "[2730 rows x 6 columns]"
      ]
     },
     "execution_count": 67,
     "metadata": {},
     "output_type": "execute_result"
    }
   ],
   "source": [
    "bird_index"
   ]
  },
  {
   "cell_type": "code",
   "execution_count": 68,
   "metadata": {},
   "outputs": [],
   "source": [
    "bird_index = bird_index.set_index('name')"
   ]
  },
  {
   "cell_type": "code",
   "execution_count": 69,
   "metadata": {},
   "outputs": [
    {
     "data": {
      "text/html": [
       "<div>\n",
       "<style scoped>\n",
       "    .dataframe tbody tr th:only-of-type {\n",
       "        vertical-align: middle;\n",
       "    }\n",
       "\n",
       "    .dataframe tbody tr th {\n",
       "        vertical-align: top;\n",
       "    }\n",
       "\n",
       "    .dataframe thead th {\n",
       "        text-align: right;\n",
       "    }\n",
       "</style>\n",
       "<table border=\"1\" class=\"dataframe\">\n",
       "  <thead>\n",
       "    <tr style=\"text-align: right;\">\n",
       "      <th></th>\n",
       "      <th>english_cname</th>\n",
       "      <th>file_name</th>\n",
       "      <th>genus</th>\n",
       "      <th>species</th>\n",
       "      <th>label</th>\n",
       "    </tr>\n",
       "    <tr>\n",
       "      <th>name</th>\n",
       "      <th></th>\n",
       "      <th></th>\n",
       "      <th></th>\n",
       "      <th></th>\n",
       "      <th></th>\n",
       "    </tr>\n",
       "  </thead>\n",
       "  <tbody>\n",
       "    <tr>\n",
       "      <td>XC17804</td>\n",
       "      <td>Abert's Towhee</td>\n",
       "      <td>XC17804.mp3</td>\n",
       "      <td>Melozone</td>\n",
       "      <td>aberti</td>\n",
       "      <td>Melozone aberti</td>\n",
       "    </tr>\n",
       "    <tr>\n",
       "      <td>XC177367</td>\n",
       "      <td>Abert's Towhee</td>\n",
       "      <td>XC177367.mp3</td>\n",
       "      <td>Melozone</td>\n",
       "      <td>aberti</td>\n",
       "      <td>Melozone aberti</td>\n",
       "    </tr>\n",
       "    <tr>\n",
       "      <td>XC145505</td>\n",
       "      <td>Abert's Towhee</td>\n",
       "      <td>XC145505.mp3</td>\n",
       "      <td>Melozone</td>\n",
       "      <td>aberti</td>\n",
       "      <td>Melozone aberti</td>\n",
       "    </tr>\n",
       "    <tr>\n",
       "      <td>XC228159</td>\n",
       "      <td>Abert's Towhee</td>\n",
       "      <td>XC228159.mp3</td>\n",
       "      <td>Melozone</td>\n",
       "      <td>aberti</td>\n",
       "      <td>Melozone aberti</td>\n",
       "    </tr>\n",
       "    <tr>\n",
       "      <td>XC51313</td>\n",
       "      <td>Abert's Towhee</td>\n",
       "      <td>XC51313.mp3</td>\n",
       "      <td>Melozone</td>\n",
       "      <td>aberti</td>\n",
       "      <td>Melozone aberti</td>\n",
       "    </tr>\n",
       "    <tr>\n",
       "      <td>...</td>\n",
       "      <td>...</td>\n",
       "      <td>...</td>\n",
       "      <td>...</td>\n",
       "      <td>...</td>\n",
       "      <td>...</td>\n",
       "    </tr>\n",
       "    <tr>\n",
       "      <td>XC278880</td>\n",
       "      <td>Yellow-breasted Chat</td>\n",
       "      <td>XC278880.mp3</td>\n",
       "      <td>Icteria</td>\n",
       "      <td>virens</td>\n",
       "      <td>Icteria virens</td>\n",
       "    </tr>\n",
       "    <tr>\n",
       "      <td>XC247723</td>\n",
       "      <td>Yellow-breasted Chat</td>\n",
       "      <td>XC247723.mp3</td>\n",
       "      <td>Icteria</td>\n",
       "      <td>virens</td>\n",
       "      <td>Icteria virens</td>\n",
       "    </tr>\n",
       "    <tr>\n",
       "      <td>XC408122</td>\n",
       "      <td>Yellow-breasted Chat</td>\n",
       "      <td>XC408122.mp3</td>\n",
       "      <td>Icteria</td>\n",
       "      <td>virens</td>\n",
       "      <td>Icteria virens</td>\n",
       "    </tr>\n",
       "    <tr>\n",
       "      <td>XC315271</td>\n",
       "      <td>Yellow-breasted Chat</td>\n",
       "      <td>XC315271.mp3</td>\n",
       "      <td>Icteria</td>\n",
       "      <td>virens</td>\n",
       "      <td>Icteria virens</td>\n",
       "    </tr>\n",
       "    <tr>\n",
       "      <td>XC412925</td>\n",
       "      <td>Yellow-breasted Chat</td>\n",
       "      <td>XC412925.mp3</td>\n",
       "      <td>Icteria</td>\n",
       "      <td>virens</td>\n",
       "      <td>Icteria virens</td>\n",
       "    </tr>\n",
       "  </tbody>\n",
       "</table>\n",
       "<p>2730 rows × 5 columns</p>\n",
       "</div>"
      ],
      "text/plain": [
       "                 english_cname     file_name     genus species  \\\n",
       "name                                                             \n",
       "XC17804         Abert's Towhee   XC17804.mp3  Melozone  aberti   \n",
       "XC177367        Abert's Towhee  XC177367.mp3  Melozone  aberti   \n",
       "XC145505        Abert's Towhee  XC145505.mp3  Melozone  aberti   \n",
       "XC228159        Abert's Towhee  XC228159.mp3  Melozone  aberti   \n",
       "XC51313         Abert's Towhee   XC51313.mp3  Melozone  aberti   \n",
       "...                        ...           ...       ...     ...   \n",
       "XC278880  Yellow-breasted Chat  XC278880.mp3   Icteria  virens   \n",
       "XC247723  Yellow-breasted Chat  XC247723.mp3   Icteria  virens   \n",
       "XC408122  Yellow-breasted Chat  XC408122.mp3   Icteria  virens   \n",
       "XC315271  Yellow-breasted Chat  XC315271.mp3   Icteria  virens   \n",
       "XC412925  Yellow-breasted Chat  XC412925.mp3   Icteria  virens   \n",
       "\n",
       "                    label  \n",
       "name                       \n",
       "XC17804   Melozone aberti  \n",
       "XC177367  Melozone aberti  \n",
       "XC145505  Melozone aberti  \n",
       "XC228159  Melozone aberti  \n",
       "XC51313   Melozone aberti  \n",
       "...                   ...  \n",
       "XC278880   Icteria virens  \n",
       "XC247723   Icteria virens  \n",
       "XC408122   Icteria virens  \n",
       "XC315271   Icteria virens  \n",
       "XC412925   Icteria virens  \n",
       "\n",
       "[2730 rows x 5 columns]"
      ]
     },
     "execution_count": 69,
     "metadata": {},
     "output_type": "execute_result"
    }
   ],
   "source": [
    "bird_index"
   ]
  },
  {
   "cell_type": "code",
   "execution_count": 70,
   "metadata": {},
   "outputs": [],
   "source": [
    "bird_index.to_csv('bird_index_clean.csv')"
   ]
  },
  {
   "cell_type": "markdown",
   "metadata": {},
   "source": [
    "# The Actual Flattening:\n",
    "----\n",
    "This might also take a while, though doubtful to be as long as feature extraction."
   ]
  },
  {
   "cell_type": "code",
   "execution_count": 75,
   "metadata": {},
   "outputs": [],
   "source": [
    "be = BatchExtractor(frame_length=2048, n_mfcc=20, audio_folder='raw_data/', audio_index=bird_index)"
   ]
  },
  {
   "cell_type": "code",
   "execution_count": 83,
   "metadata": {},
   "outputs": [],
   "source": [
    "list_of_features = list(be.extraction_dict.keys())"
   ]
  },
  {
   "cell_type": "code",
   "execution_count": 84,
   "metadata": {},
   "outputs": [
    {
     "data": {
      "text/plain": [
       "['mfcc',\n",
       " 'melspec',\n",
       " 'zcr',\n",
       " 'ccqt',\n",
       " 'cstft',\n",
       " 'ccens',\n",
       " 'rms',\n",
       " 'centroid',\n",
       " 'bandwidth',\n",
       " 'contrast',\n",
       " 'flatness',\n",
       " 'rolloff',\n",
       " 'tonnetz',\n",
       " 'poly']"
      ]
     },
     "execution_count": 84,
     "metadata": {},
     "output_type": "execute_result"
    }
   ],
   "source": [
    "list_of_features"
   ]
  },
  {
   "cell_type": "code",
   "execution_count": 85,
   "metadata": {},
   "outputs": [],
   "source": [
    "list_of_features.remove('poly')\n",
    "list_of_features.remove('melspec')"
   ]
  },
  {
   "cell_type": "code",
   "execution_count": 86,
   "metadata": {},
   "outputs": [
    {
     "data": {
      "text/plain": [
       "['mfcc',\n",
       " 'zcr',\n",
       " 'ccqt',\n",
       " 'cstft',\n",
       " 'ccens',\n",
       " 'rms',\n",
       " 'centroid',\n",
       " 'bandwidth',\n",
       " 'contrast',\n",
       " 'flatness',\n",
       " 'rolloff',\n",
       " 'tonnetz']"
      ]
     },
     "execution_count": 86,
     "metadata": {},
     "output_type": "execute_result"
    }
   ],
   "source": [
    "list_of_features"
   ]
  },
  {
   "cell_type": "code",
   "execution_count": 88,
   "metadata": {},
   "outputs": [
    {
     "ename": "KeyboardInterrupt",
     "evalue": "",
     "output_type": "error",
     "traceback": [
      "\u001b[0;31m---------------------------------------------------------------------------\u001b[0m",
      "\u001b[0;31mKeyboardInterrupt\u001b[0m                         Traceback (most recent call last)",
      "\u001b[0;32m<ipython-input-88-e37d08648d10>\u001b[0m in \u001b[0;36m<module>\u001b[0;34m\u001b[0m\n\u001b[1;32m      2\u001b[0m     \u001b[0mlist_of_features\u001b[0m\u001b[0;34m,\u001b[0m\u001b[0;34m\u001b[0m\u001b[0;34m\u001b[0m\u001b[0m\n\u001b[1;32m      3\u001b[0m     \u001b[0mresults_folder\u001b[0m\u001b[0;34m=\u001b[0m\u001b[0;34m'feature_extraction/'\u001b[0m\u001b[0;34m,\u001b[0m\u001b[0;34m\u001b[0m\u001b[0;34m\u001b[0m\u001b[0m\n\u001b[0;32m----> 4\u001b[0;31m     label=True)\n\u001b[0m",
      "\u001b[0;32m~/Documents/flatiron-mod5-project/audio_feature_extraction.py\u001b[0m in \u001b[0;36mmerge_and_flatten_features\u001b[0;34m(self, extraction_methods, results_folder, label)\u001b[0m\n\u001b[1;32m    507\u001b[0m                 \u001b[0mnew_series\u001b[0m \u001b[0;34m=\u001b[0m \u001b[0mpd\u001b[0m\u001b[0;34m.\u001b[0m\u001b[0mSeries\u001b[0m\u001b[0;34m(\u001b[0m\u001b[0mnew_row\u001b[0m\u001b[0;34m)\u001b[0m\u001b[0;34m\u001b[0m\u001b[0;34m\u001b[0m\u001b[0m\n\u001b[1;32m    508\u001b[0m                 \u001b[0mnew_series\u001b[0m\u001b[0;34m.\u001b[0m\u001b[0mname\u001b[0m \u001b[0;34m=\u001b[0m \u001b[0mname\u001b[0m\u001b[0;34m\u001b[0m\u001b[0;34m\u001b[0m\u001b[0m\n\u001b[0;32m--> 509\u001b[0;31m                 \u001b[0mmethod_df\u001b[0m \u001b[0;34m=\u001b[0m \u001b[0mmethod_df\u001b[0m\u001b[0;34m.\u001b[0m\u001b[0mappend\u001b[0m\u001b[0;34m(\u001b[0m\u001b[0mnew_series\u001b[0m\u001b[0;34m)\u001b[0m\u001b[0;34m\u001b[0m\u001b[0;34m\u001b[0m\u001b[0m\n\u001b[0m\u001b[1;32m    510\u001b[0m \u001b[0;34m\u001b[0m\u001b[0m\n\u001b[1;32m    511\u001b[0m             method_df.columns = [\n",
      "\u001b[0;32m//anaconda3/envs/learn-audio/lib/python3.7/site-packages/pandas/core/frame.py\u001b[0m in \u001b[0;36mappend\u001b[0;34m(self, other, ignore_index, verify_integrity, sort)\u001b[0m\n\u001b[1;32m   7121\u001b[0m             \u001b[0mignore_index\u001b[0m\u001b[0;34m=\u001b[0m\u001b[0mignore_index\u001b[0m\u001b[0;34m,\u001b[0m\u001b[0;34m\u001b[0m\u001b[0;34m\u001b[0m\u001b[0m\n\u001b[1;32m   7122\u001b[0m             \u001b[0mverify_integrity\u001b[0m\u001b[0;34m=\u001b[0m\u001b[0mverify_integrity\u001b[0m\u001b[0;34m,\u001b[0m\u001b[0;34m\u001b[0m\u001b[0;34m\u001b[0m\u001b[0m\n\u001b[0;32m-> 7123\u001b[0;31m             \u001b[0msort\u001b[0m\u001b[0;34m=\u001b[0m\u001b[0msort\u001b[0m\u001b[0;34m,\u001b[0m\u001b[0;34m\u001b[0m\u001b[0;34m\u001b[0m\u001b[0m\n\u001b[0m\u001b[1;32m   7124\u001b[0m         )\n\u001b[1;32m   7125\u001b[0m \u001b[0;34m\u001b[0m\u001b[0m\n",
      "\u001b[0;32m//anaconda3/envs/learn-audio/lib/python3.7/site-packages/pandas/core/reshape/concat.py\u001b[0m in \u001b[0;36mconcat\u001b[0;34m(objs, axis, join, join_axes, ignore_index, keys, levels, names, verify_integrity, sort, copy)\u001b[0m\n\u001b[1;32m    256\u001b[0m     )\n\u001b[1;32m    257\u001b[0m \u001b[0;34m\u001b[0m\u001b[0m\n\u001b[0;32m--> 258\u001b[0;31m     \u001b[0;32mreturn\u001b[0m \u001b[0mop\u001b[0m\u001b[0;34m.\u001b[0m\u001b[0mget_result\u001b[0m\u001b[0;34m(\u001b[0m\u001b[0;34m)\u001b[0m\u001b[0;34m\u001b[0m\u001b[0;34m\u001b[0m\u001b[0m\n\u001b[0m\u001b[1;32m    259\u001b[0m \u001b[0;34m\u001b[0m\u001b[0m\n\u001b[1;32m    260\u001b[0m \u001b[0;34m\u001b[0m\u001b[0m\n",
      "\u001b[0;32m//anaconda3/envs/learn-audio/lib/python3.7/site-packages/pandas/core/reshape/concat.py\u001b[0m in \u001b[0;36mget_result\u001b[0;34m(self)\u001b[0m\n\u001b[1;32m    471\u001b[0m \u001b[0;34m\u001b[0m\u001b[0m\n\u001b[1;32m    472\u001b[0m             new_data = concatenate_block_managers(\n\u001b[0;32m--> 473\u001b[0;31m                 \u001b[0mmgrs_indexers\u001b[0m\u001b[0;34m,\u001b[0m \u001b[0mself\u001b[0m\u001b[0;34m.\u001b[0m\u001b[0mnew_axes\u001b[0m\u001b[0;34m,\u001b[0m \u001b[0mconcat_axis\u001b[0m\u001b[0;34m=\u001b[0m\u001b[0mself\u001b[0m\u001b[0;34m.\u001b[0m\u001b[0maxis\u001b[0m\u001b[0;34m,\u001b[0m \u001b[0mcopy\u001b[0m\u001b[0;34m=\u001b[0m\u001b[0mself\u001b[0m\u001b[0;34m.\u001b[0m\u001b[0mcopy\u001b[0m\u001b[0;34m\u001b[0m\u001b[0;34m\u001b[0m\u001b[0m\n\u001b[0m\u001b[1;32m    474\u001b[0m             )\n\u001b[1;32m    475\u001b[0m             \u001b[0;32mif\u001b[0m \u001b[0;32mnot\u001b[0m \u001b[0mself\u001b[0m\u001b[0;34m.\u001b[0m\u001b[0mcopy\u001b[0m\u001b[0;34m:\u001b[0m\u001b[0;34m\u001b[0m\u001b[0;34m\u001b[0m\u001b[0m\n",
      "\u001b[0;32m//anaconda3/envs/learn-audio/lib/python3.7/site-packages/pandas/core/internals/managers.py\u001b[0m in \u001b[0;36mconcatenate_block_managers\u001b[0;34m(mgrs_indexers, axes, concat_axis, copy)\u001b[0m\n\u001b[1;32m   2048\u001b[0m         \u001b[0;32melif\u001b[0m \u001b[0mis_uniform_join_units\u001b[0m\u001b[0;34m(\u001b[0m\u001b[0mjoin_units\u001b[0m\u001b[0;34m)\u001b[0m\u001b[0;34m:\u001b[0m\u001b[0;34m\u001b[0m\u001b[0;34m\u001b[0m\u001b[0m\n\u001b[1;32m   2049\u001b[0m             b = join_units[0].block.concat_same_type(\n\u001b[0;32m-> 2050\u001b[0;31m                 \u001b[0;34m[\u001b[0m\u001b[0mju\u001b[0m\u001b[0;34m.\u001b[0m\u001b[0mblock\u001b[0m \u001b[0;32mfor\u001b[0m \u001b[0mju\u001b[0m \u001b[0;32min\u001b[0m \u001b[0mjoin_units\u001b[0m\u001b[0;34m]\u001b[0m\u001b[0;34m,\u001b[0m \u001b[0mplacement\u001b[0m\u001b[0;34m=\u001b[0m\u001b[0mplacement\u001b[0m\u001b[0;34m\u001b[0m\u001b[0;34m\u001b[0m\u001b[0m\n\u001b[0m\u001b[1;32m   2051\u001b[0m             )\n\u001b[1;32m   2052\u001b[0m         \u001b[0;32melse\u001b[0m\u001b[0;34m:\u001b[0m\u001b[0;34m\u001b[0m\u001b[0;34m\u001b[0m\u001b[0m\n",
      "\u001b[0;32m//anaconda3/envs/learn-audio/lib/python3.7/site-packages/pandas/core/internals/blocks.py\u001b[0m in \u001b[0;36mconcat_same_type\u001b[0;34m(self, to_concat, placement)\u001b[0m\n\u001b[1;32m    361\u001b[0m         \"\"\"\n\u001b[1;32m    362\u001b[0m         values = self._concatenator(\n\u001b[0;32m--> 363\u001b[0;31m             \u001b[0;34m[\u001b[0m\u001b[0mblk\u001b[0m\u001b[0;34m.\u001b[0m\u001b[0mvalues\u001b[0m \u001b[0;32mfor\u001b[0m \u001b[0mblk\u001b[0m \u001b[0;32min\u001b[0m \u001b[0mto_concat\u001b[0m\u001b[0;34m]\u001b[0m\u001b[0;34m,\u001b[0m \u001b[0maxis\u001b[0m\u001b[0;34m=\u001b[0m\u001b[0mself\u001b[0m\u001b[0;34m.\u001b[0m\u001b[0mndim\u001b[0m \u001b[0;34m-\u001b[0m \u001b[0;36m1\u001b[0m\u001b[0;34m\u001b[0m\u001b[0;34m\u001b[0m\u001b[0m\n\u001b[0m\u001b[1;32m    364\u001b[0m         )\n\u001b[1;32m    365\u001b[0m         return self.make_block_same_class(\n",
      "\u001b[0;32m<__array_function__ internals>\u001b[0m in \u001b[0;36mconcatenate\u001b[0;34m(*args, **kwargs)\u001b[0m\n",
      "\u001b[0;31mKeyboardInterrupt\u001b[0m: "
     ]
    }
   ],
   "source": [
    "all_flat = be.merge_and_flatten_features(\n",
    "    list_of_features,\n",
    "    results_folder='feature_extraction/',\n",
    "    label=True)"
   ]
  },
  {
   "cell_type": "code",
   "execution_count": null,
   "metadata": {},
   "outputs": [],
   "source": [
    "all_flat.head()"
   ]
  },
  {
   "cell_type": "code",
   "execution_count": null,
   "metadata": {},
   "outputs": [],
   "source": [
    "all_flat.to_csv('flattened_raw_features.csv')"
   ]
  }
 ],
 "metadata": {
  "kernelspec": {
   "display_name": "Python 3",
   "language": "python",
   "name": "python3"
  },
  "language_info": {
   "codemirror_mode": {
    "name": "ipython",
    "version": 3
   },
   "file_extension": ".py",
   "mimetype": "text/x-python",
   "name": "python",
   "nbconvert_exporter": "python",
   "pygments_lexer": "ipython3",
   "version": "3.7.4"
  }
 },
 "nbformat": 4,
 "nbformat_minor": 4
}
